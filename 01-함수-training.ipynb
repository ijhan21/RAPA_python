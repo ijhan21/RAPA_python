{
 "cells": [
  {
   "cell_type": "code",
   "execution_count": 2,
   "id": "2e2481f4",
   "metadata": {
    "scrolled": true
   },
   "outputs": [
    {
     "data": {
      "text/plain": [
       "<memory at 0x000001844C3EA880>"
      ]
     },
     "execution_count": 2,
     "metadata": {},
     "output_type": "execute_result"
    }
   ],
   "source": [
    "a = b'1'\n",
    "memoryview(a)"
   ]
  },
  {
   "cell_type": "code",
   "execution_count": 4,
   "id": "d63050ca",
   "metadata": {},
   "outputs": [
    {
     "data": {
      "text/plain": [
       "False"
      ]
     },
     "execution_count": 4,
     "metadata": {},
     "output_type": "execute_result"
    }
   ],
   "source": [
    "isinstance(1,float)"
   ]
  },
  {
   "cell_type": "markdown",
   "id": "4f9ea4e3",
   "metadata": {},
   "source": [
    "# 계산기"
   ]
  },
  {
   "cell_type": "code",
   "execution_count": 9,
   "id": "e52f2a56",
   "metadata": {},
   "outputs": [
    {
     "name": "stdout",
     "output_type": "stream",
     "text": [
      "첫번째 숫자: 123154\n",
      "두번째 숫자: 564654\n",
      "연산기호: 2541\n",
      "--------------------\n",
      "잘못된 기호\n",
      "결과: None\n"
     ]
    }
   ],
   "source": [
    "def add(num1, num2):\n",
    "    return num1+num2\n",
    "def subtract(num1, num2):\n",
    "    return num1-num2\n",
    "def multiple(num1, num2):\n",
    "    return num1*num2\n",
    "def division(num1, num2):\n",
    "    return num1/num2\n",
    "def divide(num1, num2):\n",
    "    return num1//num2\n",
    "def mod(num1, num2):\n",
    "    return num1%num2\n",
    "\n",
    "def calc(n1, n2, op):\n",
    "    calc_dict = {'+':add, '-':subtract, '*':multiple, '/':division, '//':divide, '%':mod}\n",
    "    if op not in calc_dict:\n",
    "        print(\"잘못된 기호\")\n",
    "        return None\n",
    "    return calc_dict[op](n1,n2)\n",
    "\n",
    "num1 = int(input('첫번째 숫자: '))\n",
    "num2 = int(input('두번째 숫자: '))\n",
    "op = input('연산기호: ')\n",
    "print(\"-\"*20)\n",
    "print('결과: %s'%calc(num1, num2, op))"
   ]
  },
  {
   "cell_type": "code",
   "execution_count": 11,
   "id": "7a7b00b1",
   "metadata": {},
   "outputs": [
    {
     "data": {
      "text/plain": [
       "5000"
      ]
     },
     "execution_count": 11,
     "metadata": {},
     "output_type": "execute_result"
    }
   ],
   "source": [
    "num1 = \"100\"\n",
    "num2 = \"50\"\n",
    "op = '*'\n",
    "eval(num1+op+num2)"
   ]
  },
  {
   "cell_type": "code",
   "execution_count": 14,
   "id": "f1ebdeef",
   "metadata": {},
   "outputs": [
    {
     "data": {
      "text/plain": [
       "4.56"
      ]
     },
     "execution_count": 14,
     "metadata": {},
     "output_type": "execute_result"
    }
   ],
   "source": [
    "eval('1.2*3.8')"
   ]
  },
  {
   "cell_type": "code",
   "execution_count": 16,
   "id": "bc6cb7d3",
   "metadata": {},
   "outputs": [
    {
     "name": "stdout",
     "output_type": "stream",
     "text": [
      "['피카츄', '라이츄', '파이리', '꼬부기', '버터풀']\n",
      "Random choice item's 파이리\n"
     ]
    }
   ],
   "source": [
    "from random import choice\n",
    "\n",
    "def get_random_item(items):\n",
    "    return choice(items)\n",
    "\n",
    "poketmons = ['피카츄', '라이츄', '파이리', '꼬부기', '버터풀']\n",
    "print(poketmons)\n",
    "print(f\"Random choice item's {get_random_item(poketmons)}\")"
   ]
  },
  {
   "cell_type": "code",
   "execution_count": 50,
   "id": "a9b32475",
   "metadata": {},
   "outputs": [
    {
     "name": "stdout",
     "output_type": "stream",
     "text": [
      "** 로또 추첨을 시작합니다. **\n",
      "로또번호: [1, 10, 11, 33, 38, 45]\n"
     ]
    }
   ],
   "source": [
    "from random import sample\n",
    "\n",
    "print(\"** 로또 추첨을 시작합니다. **\")\n",
    "\n",
    "def lottoNumber():\n",
    "    lotto = [i for i in range(1,46)]\n",
    "    ret = sample(lotto,6)\n",
    "    ret.sort()\n",
    "    return ret\n",
    "\n",
    "print(\"로또번호: %s\"%lottoNumber())"
   ]
  },
  {
   "cell_type": "code",
   "execution_count": 52,
   "id": "c060aa22",
   "metadata": {},
   "outputs": [
    {
     "name": "stdout",
     "output_type": "stream",
     "text": [
      "** 로또 추첨을 시작합니다. **\n",
      "로또번호: [10, 18, 28, 36, 41, 15]\n"
     ]
    }
   ],
   "source": [
    "from random import choice\n",
    "\n",
    "print(\"** 로또 추첨을 시작합니다. **\")\n",
    "\n",
    "def lottoNumber():\n",
    "    lotto = [i for i in range(1,46)]\n",
    "    balls = list()\n",
    "    while True:\n",
    "        num = choice(lotto)\n",
    "        if num not in balls:\n",
    "            balls.append(num)\n",
    "        if len(balls)==6:\n",
    "            break        \n",
    "        balls.sort()\n",
    "    return balls\n",
    "\n",
    "print(\"로또번호: %s\"%lottoNumber())"
   ]
  },
  {
   "cell_type": "code",
   "execution_count": 54,
   "id": "e6d86b91",
   "metadata": {},
   "outputs": [
    {
     "data": {
      "text/plain": [
       "[3, 2, 1]"
      ]
     },
     "execution_count": 54,
     "metadata": {},
     "output_type": "execute_result"
    }
   ],
   "source": [
    "a.sort(reverse=True)\n",
    "a"
   ]
  },
  {
   "cell_type": "code",
   "execution_count": 55,
   "id": "74fd07f8",
   "metadata": {},
   "outputs": [],
   "source": [
    "class Grade(object):\n",
    "    def __init__(self):\n",
    "        self._value = 0\n",
    "\n",
    "    def __get__(self, instance, instance_type):\n",
    "        return self._value\n",
    "\n",
    "    def __set__(self, instance, value):\n",
    "        if not (0 <= value <= 100):\n",
    "            raise ValueError(\"grade must be between 0 and 100\")\n",
    "        self._value = value\n",
    "\n",
    "\n",
    "class Exam(object):\n",
    "\n",
    "    math_grade = Grade()\n",
    "    writing_grade = Grade()\n",
    "    science_grade = Grade()\n",
    "\n",
    "\n",
    "exam = Exam()\n",
    "exam.writing_grade = 40\n",
    "\n",
    "Exam.__dict__[\"writing_grade\"].__set__(exam, 40)\n"
   ]
  },
  {
   "cell_type": "code",
   "execution_count": 58,
   "id": "8f79b40e",
   "metadata": {
    "scrolled": true
   },
   "outputs": [
    {
     "data": {
      "text/plain": [
       "['__class__',\n",
       " '__delattr__',\n",
       " '__dict__',\n",
       " '__dir__',\n",
       " '__doc__',\n",
       " '__eq__',\n",
       " '__format__',\n",
       " '__ge__',\n",
       " '__getattribute__',\n",
       " '__gt__',\n",
       " '__hash__',\n",
       " '__init__',\n",
       " '__init_subclass__',\n",
       " '__le__',\n",
       " '__lt__',\n",
       " '__module__',\n",
       " '__ne__',\n",
       " '__new__',\n",
       " '__reduce__',\n",
       " '__reduce_ex__',\n",
       " '__repr__',\n",
       " '__setattr__',\n",
       " '__sizeof__',\n",
       " '__str__',\n",
       " '__subclasshook__',\n",
       " '__weakref__',\n",
       " 'math_grade',\n",
       " 'science_grade',\n",
       " 'writing_grade']"
      ]
     },
     "execution_count": 58,
     "metadata": {},
     "output_type": "execute_result"
    }
   ],
   "source": [
    "dir(exam)"
   ]
  },
  {
   "cell_type": "code",
   "execution_count": 59,
   "id": "012e9a49",
   "metadata": {
    "scrolled": true
   },
   "outputs": [
    {
     "data": {
      "text/plain": [
       "0"
      ]
     },
     "execution_count": 59,
     "metadata": {},
     "output_type": "execute_result"
    }
   ],
   "source": [
    "exam.math_grade"
   ]
  },
  {
   "cell_type": "code",
   "execution_count": 67,
   "id": "b540d620",
   "metadata": {
    "scrolled": true
   },
   "outputs": [
    {
     "name": "stdout",
     "output_type": "stream",
     "text": [
      "[환율정보 불러오기]\n",
      "\n",
      "\n",
      "<<-환율기준시간: 2021.08.26 15:52>>\n",
      "\n",
      "-미국 USD: 1,170.50\n",
      "-일본 JPY: 1,063.27\n",
      "-유럽연합 EUR: 1,376.63\n",
      "-중국 CNY: 180.52\n",
      "-영국 GBP: 1,608.62\n",
      "-호주 AUD: 848.96\n",
      "-캐나다 CAD: 927.42\n",
      "-뉴질랜드 NZD: 813.97\n"
     ]
    }
   ],
   "source": [
    "import urllib.request\n",
    "import ssl\n",
    "\n",
    "context = ssl._create_unverified_context()\n",
    "\n",
    "#환율정보 페이지 불러오기\n",
    "print(\"[환율정보 불러오기]\")\n",
    "URL = \"https://search.naver.com/search.naver?where=nexearch&sm=top_hty&fbm=1&ie=utf8&query=%ED%99%98%EC%9C%A8\"\n",
    "page = urllib.request.urlopen(URL, context=context)                              \n",
    "text = page.read().decode(\"utf8\")  # 해당 페이지의 소스코드\n",
    "#print(text)\n",
    "target_sources = {'미국':'USD','일본':'JPY','유럽연합':'EUR','중국':'CNY','영국':'GBP',\n",
    "                 '호주':'AUD', '캐나다':'CAD', '뉴질랜드':'NZD'}\n",
    "\n",
    "def getTargetInfo(name):\n",
    "    searchText = f'<span>{name}' # <em>USD</em></span></a></th> <td><span>\n",
    "    \n",
    "    where1      = text.find(searchText)\n",
    "    span_txt = '<span>'\n",
    "    end_txt = '</span>'\n",
    "    where_start = text.find(span_txt, where1+len(searchText))\n",
    "    where_end = text.find(end_txt,where_start+len(span_txt))\n",
    "    targetInfo = text[where_start+len(span_txt):where_end] \n",
    "    print(f'-{name} {target_sources[name]}: {targetInfo}')\n",
    "\n",
    "def current_time():\n",
    "    searchText = 'class=\"grp_info\"> <em>'\n",
    "    where      = text.find(searchText)  #소스코드에서 해당 문자열의 시작위치\n",
    "    targetInfo = text[where+len(searchText):where+len(searchText)+16]\n",
    "    print(f'\\n\\n<<-환율기준시간: {targetInfo}>>\\n')\n",
    "\n",
    "current_time()\n",
    "for name in target_sources:\n",
    "    getTargetInfo(name)"
   ]
  },
  {
   "cell_type": "code",
   "execution_count": 129,
   "id": "009e6729",
   "metadata": {},
   "outputs": [
    {
     "name": "stdout",
     "output_type": "stream",
     "text": [
      "[환율정보 불러오기]\n"
     ]
    },
    {
     "ename": "KeyboardInterrupt",
     "evalue": "",
     "output_type": "error",
     "traceback": [
      "\u001b[1;31m---------------------------------------------------------------------------\u001b[0m",
      "\u001b[1;31mKeyboardInterrupt\u001b[0m                         Traceback (most recent call last)",
      "\u001b[1;32m~\\AppData\\Local\\Temp/ipykernel_12580/1298843025.py\u001b[0m in \u001b[0;36m<module>\u001b[1;34m\u001b[0m\n\u001b[0;32m     29\u001b[0m             \u001b[0mtargetInfo\u001b[0m \u001b[1;33m=\u001b[0m \u001b[0mtext\u001b[0m\u001b[1;33m[\u001b[0m\u001b[0mwhere\u001b[0m\u001b[1;33m:\u001b[0m\u001b[0mwhere_tmp\u001b[0m\u001b[1;33m]\u001b[0m\u001b[1;33m\u001b[0m\u001b[1;33m\u001b[0m\u001b[0m\n\u001b[0;32m     30\u001b[0m             \u001b[0mprint\u001b[0m\u001b[1;33m(\u001b[0m\u001b[0mtargetInfo\u001b[0m\u001b[1;33m)\u001b[0m\u001b[1;33m\u001b[0m\u001b[1;33m\u001b[0m\u001b[0m\n\u001b[1;32m---> 31\u001b[1;33m \u001b[0mcollect_sources\u001b[0m\u001b[1;33m(\u001b[0m\u001b[1;33m)\u001b[0m\u001b[1;33m\u001b[0m\u001b[1;33m\u001b[0m\u001b[0m\n\u001b[0m",
      "\u001b[1;32m~\\AppData\\Local\\Temp/ipykernel_12580/1298843025.py\u001b[0m in \u001b[0;36mcollect_sources\u001b[1;34m()\u001b[0m\n\u001b[0;32m     22\u001b[0m     \u001b[1;32mwhile\u001b[0m \u001b[1;32mTrue\u001b[0m\u001b[1;33m:\u001b[0m\u001b[1;33m\u001b[0m\u001b[1;33m\u001b[0m\u001b[0m\n\u001b[0;32m     23\u001b[0m         \u001b[0mwhere\u001b[0m \u001b[1;33m=\u001b[0m \u001b[0mtext\u001b[0m\u001b[1;33m.\u001b[0m\u001b[0mfind\u001b[0m\u001b[1;33m(\u001b[0m\u001b[0mspan_txt\u001b[0m\u001b[1;33m,\u001b[0m\u001b[0mstart\u001b[0m\u001b[1;33m)\u001b[0m\u001b[1;33m\u001b[0m\u001b[1;33m\u001b[0m\u001b[0m\n\u001b[1;32m---> 24\u001b[1;33m         \u001b[0mwhere_tmp\u001b[0m \u001b[1;33m=\u001b[0m \u001b[0mtext\u001b[0m\u001b[1;33m.\u001b[0m\u001b[0mfind\u001b[0m\u001b[1;33m(\u001b[0m\u001b[0mem_txt\u001b[0m\u001b[1;33m,\u001b[0m\u001b[0mwhere\u001b[0m\u001b[1;33m+\u001b[0m\u001b[0mlen\u001b[0m\u001b[1;33m(\u001b[0m\u001b[0mspan_txt\u001b[0m\u001b[1;33m)\u001b[0m\u001b[1;33m)\u001b[0m\u001b[1;33m\u001b[0m\u001b[1;33m\u001b[0m\u001b[0m\n\u001b[0m\u001b[0;32m     25\u001b[0m         \u001b[0mstart\u001b[0m \u001b[1;33m=\u001b[0m\u001b[0mwhere_tmp\u001b[0m\u001b[1;33m+\u001b[0m\u001b[0mlen\u001b[0m\u001b[1;33m(\u001b[0m\u001b[0mem_txt\u001b[0m\u001b[1;33m)\u001b[0m\u001b[1;33m\u001b[0m\u001b[1;33m\u001b[0m\u001b[0m\n\u001b[0;32m     26\u001b[0m         \u001b[1;32mif\u001b[0m \u001b[0mwhere_tmp\u001b[0m\u001b[1;33m-\u001b[0m\u001b[0mwhere\u001b[0m\u001b[1;33m<\u001b[0m\u001b[1;36m20\u001b[0m \u001b[1;32mand\u001b[0m \u001b[0mwhere_tmp\u001b[0m\u001b[1;33m-\u001b[0m\u001b[0mwhere\u001b[0m\u001b[1;33m>\u001b[0m\u001b[1;36m6\u001b[0m\u001b[1;33m:\u001b[0m\u001b[1;33m\u001b[0m\u001b[1;33m\u001b[0m\u001b[0m\n",
      "\u001b[1;31mKeyboardInterrupt\u001b[0m: "
     ]
    }
   ],
   "source": [
    "import urllib.request\n",
    "import ssl\n",
    "\n",
    "context = ssl._create_unverified_context()\n",
    "\n",
    "#환율정보 페이지 불러오기\n",
    "print(\"[환율정보 불러오기]\")\n",
    "URL = \"https://search.naver.com/search.naver?where=nexearch&sm=top_hty&fbm=1&ie=utf8&query=%ED%99%98%EC%9C%A8\"\n",
    "page = urllib.request.urlopen(URL, context=context)                              \n",
    "text = page.read().decode(\"utf8\")  # 해당 페이지의 소스코드\n",
    "#print(text)\n",
    "target_sources = {'미국':'USD','일본':'JPY','유럽연합':'EUR','중국':'CNY','영국':'GBP',\n",
    "                 '호주':'AUD', '캐나다':'CAD', '뉴질랜드':'NZD'}\n",
    "\n",
    "def collect_sources():\n",
    "    output = dict()\n",
    "    start = 0\n",
    "    span_txt = '<span>'\n",
    "    span_end_txt = '</span>'\n",
    "    em_txt = '<em'\n",
    "    em_end_txt = '</em'    \n",
    "    while True:\n",
    "        where = text.find(span_txt,start)\n",
    "        where_tmp = text.find(em_txt,where+len(span_txt))\n",
    "        start =where_tmp+len(em_txt)\n",
    "        if where_tmp-where<20 and where_tmp-where:\n",
    "            print(where, where_tmp, where_tmp-where)\n",
    "#             targetInfo = text[where+len(span_txt):where_tmp]            \n",
    "            targetInfo = text[where:where_tmp]            \n",
    "            print(targetInfo)\n",
    "collect_sources()"
   ]
  },
  {
   "cell_type": "code",
   "execution_count": 103,
   "id": "a58ccf81",
   "metadata": {
    "scrolled": true
   },
   "outputs": [],
   "source": [
    "myList = list(range(1,11))\n",
    "x3 = list(map(lambda x: str(x) if x%3==0 else x, myList))"
   ]
  },
  {
   "cell_type": "code",
   "execution_count": 122,
   "id": "a695153a",
   "metadata": {},
   "outputs": [
    {
     "data": {
      "text/plain": [
       "[2, 8, 18, 32, 50]"
      ]
     },
     "execution_count": 122,
     "metadata": {},
     "output_type": "execute_result"
    }
   ],
   "source": [
    "myList1 = list(range(1,6))\n",
    "myList2 = list(range(2,11,2))\n",
    "mul = list(map(lambda x, y:x*y, myList1,myList2))\n",
    "mul"
   ]
  },
  {
   "cell_type": "code",
   "execution_count": 1,
   "id": "72d186a9",
   "metadata": {
    "scrolled": true
   },
   "outputs": [
    {
     "name": "stdout",
     "output_type": "stream",
     "text": [
      "Called__getattribute__( __dict__)\n",
      "Before :  {'exists': 5}\n",
      "Called__getattribute__( foo)\n",
      "foo :  Value for % s% name\n",
      "Called__getattribute__( __dict__)\n",
      "After : {'exists': 5, 'foo': 'Value for % s% name'}\n"
     ]
    }
   ],
   "source": [
    "\"\"\"\n",
    "32. 지연속성에는 __getattr__ , __getattribute__, __setattr__를 사용하자\n",
    "\n",
    "    - 지연 평가란?\n",
    "        파이썬에서는 이터레이터만 생성하고 값이 필요한 시점이 되었을 때 값을 만드는 방식을 사용합니다.\n",
    "        즉, 데이터 생성을 뒤로 미루는 것인데 이런 방식을 지연 평가(lazy evaluation)\n",
    "\n",
    "    `__getattr__` :\n",
    "        - 파이썬에는 객체와 데이터베이스를 연결하는 코드에서 로우의 스키마를 몰라도 된다\n",
    "        - `__getattr__` 이라는 특별한 메소드로 이런 동작을 가능하게 한다.\n",
    "        - 클래스에서 , __getattr__ 메서드를 정의하면, 인스턴스 딕셔너리에서 속성을 찾을 수 없을떄 마다\n",
    "        이 메소드가 호출된다.\n",
    "\n",
    "    `__getattribute__` :\n",
    "        - 객체의 속성에 접근할 때마다 호출되며, 심지어 해당 속성이 속성 딕셔너리에 있을 때도 호출\n",
    "\n",
    "    - [정리]\n",
    "    • __getattr__은 존재하지 않는 속성에 접근할 때 한 번만 호출되는\n",
    "        반면에 __getattribute__는 속성에 접근할 때마다 호출된다는 점을 이해하자.\n",
    "    • __getattribute__와 __setattr__에서 인스턴스 속성에 직접 접근할 때\n",
    "     super()(즉, object 클래스)의 메서드를 사용하여 무한 재귀가 일어나지 않게 하자.\n",
    "\"\"\"\n",
    "\n",
    "\n",
    "class LazyDB(object):\n",
    "    def __init__(self):\n",
    "        self.exists = 5\n",
    "\n",
    "    def __getattr__(self, name):\n",
    "        value = \"Value for %s\" % name\n",
    "        setattr(self, name, value)\n",
    "        return value\n",
    "\n",
    "    def __getattribute__(self, name):\n",
    "        print(\"Called__getattribute__( % s)\" % name)\n",
    "        try:\n",
    "            return super().__getattribute__(name)\n",
    "        except AttributeError:\n",
    "            value = \"Value for % s% name\"\n",
    "            setattr(self, name, value)\n",
    "            return value\n",
    "\n",
    "\n",
    "data = LazyDB()\n",
    "print(\"Before : \", data.__dict__)\n",
    "# 존재하지 않는 속성인 foo 에 접근해보자\n",
    "print(\"foo : \", data.foo)\n",
    "print(\"After :\", data.__dict__)\n",
    "\n",
    "\n",
    "class SaveDB(object):\n",
    "    def __setattr__(self, name, value):\n",
    "        super().__setattr__(name, value)\n",
    "\n",
    "\n",
    "class LoggingSaveDb(SaveDB):\n",
    "    def __setattr__(self, name, value):\n",
    "        print(\"Called__setattribute__( % s %s)\" % name % value)\n"
   ]
  },
  {
   "cell_type": "code",
   "execution_count": 12,
   "id": "376d92c2",
   "metadata": {},
   "outputs": [
    {
     "name": "stdout",
     "output_type": "stream",
     "text": [
      "hello\n"
     ]
    }
   ],
   "source": [
    "class A:\n",
    "    def __init__(self):\n",
    "        pass\n",
    "    def run(self):\n",
    "        raise NotImplementedError()\n",
    "class B(A):\n",
    "    def __init__(self):\n",
    "        pass\n",
    "    def run(self):\n",
    "        print(\"hello\")\n",
    "a = B()\n",
    "a.run()"
   ]
  },
  {
   "cell_type": "code",
   "execution_count": 14,
   "id": "3c9a9eba",
   "metadata": {
    "scrolled": true
   },
   "outputs": [
    {
     "name": "stdout",
     "output_type": "stream",
     "text": [
      "Help on class map in module builtins:\n",
      "\n",
      "class map(object)\n",
      " |  map(func, *iterables) --> map object\n",
      " |  \n",
      " |  Make an iterator that computes the function using arguments from\n",
      " |  each of the iterables.  Stops when the shortest iterable is exhausted.\n",
      " |  \n",
      " |  Methods defined here:\n",
      " |  \n",
      " |  __getattribute__(self, name, /)\n",
      " |      Return getattr(self, name).\n",
      " |  \n",
      " |  __iter__(self, /)\n",
      " |      Implement iter(self).\n",
      " |  \n",
      " |  __next__(self, /)\n",
      " |      Implement next(self).\n",
      " |  \n",
      " |  __reduce__(...)\n",
      " |      Return state information for pickling.\n",
      " |  \n",
      " |  ----------------------------------------------------------------------\n",
      " |  Static methods defined here:\n",
      " |  \n",
      " |  __new__(*args, **kwargs) from builtins.type\n",
      " |      Create and return a new object.  See help(type) for accurate signature.\n",
      "\n"
     ]
    }
   ],
   "source": [
    "help(map)"
   ]
  },
  {
   "cell_type": "code",
   "execution_count": 31,
   "id": "5238e509",
   "metadata": {},
   "outputs": [
    {
     "data": {
      "text/plain": [
       "True"
      ]
     },
     "execution_count": 31,
     "metadata": {},
     "output_type": "execute_result"
    }
   ],
   "source": [
    "a = list()\n",
    "bool(a) == 0"
   ]
  },
  {
   "cell_type": "code",
   "execution_count": null,
   "id": "f37eca8f",
   "metadata": {},
   "outputs": [],
   "source": [
    "%time\n",
    "def recursion_sum(n,m):\n",
    "    if m>=n:\n",
    "        return m+recursion_sum(n, m-1)\n",
    "    else:\n",
    "        return 0\n",
    "recursion_sum(0,5000)"
   ]
  },
  {
   "cell_type": "code",
   "execution_count": null,
   "id": "dddc58d5",
   "metadata": {},
   "outputs": [],
   "source": [
    "%time\n",
    "def tail_recursion_sum(total, n, m):\n",
    "    if m>=n:\n",
    "        return tail_recursion_sum(total, n, m-1)\n",
    "    else:\n",
    "        return total\n",
    "tail_recursion_sum(0,0,5000)"
   ]
  },
  {
   "cell_type": "markdown",
   "id": "f37be96a",
   "metadata": {},
   "source": [
    "# 파이썬 프랙탈 재귀구조"
   ]
  },
  {
   "cell_type": "code",
   "execution_count": 1,
   "id": "a3eb4bb9",
   "metadata": {},
   "outputs": [],
   "source": [
    "import turtle\n",
    "foo = turtle.Turtle()\n",
    "\n",
    "#point the foo northward\n",
    "foo.left(230)\n",
    "foo.speed(500)\n",
    "\n",
    "def tree(i):\n",
    "\tif i < 10:\n",
    "\t\treturn\n",
    "\telse:\n",
    "\t\tfoo.forward(i)\n",
    "\t\tfoo.left(30)\n",
    "\t\tfoo.color(\"red\")\n",
    "\t\ttree(3*i/4)\n",
    "\n",
    "\t\tfoo.right(60)\n",
    "\t\tfoo.color(\"blue\")\n",
    "\t\ttree(3*i/4)\n",
    "\t\t\n",
    "\t\t#return to original position\n",
    "\t\tfoo.left(30)\n",
    "\t\tfoo.backward(i)\n",
    "\n",
    "#call the tree\n",
    "tree(100)\n",
    "\n",
    "# fix the canvas \n",
    "turtle.done()"
   ]
  },
  {
   "cell_type": "code",
   "execution_count": 16,
   "id": "765fe5ab",
   "metadata": {
    "scrolled": true
   },
   "outputs": [
    {
     "name": "stdout",
     "output_type": "stream",
     "text": [
      "[('스', 4), ('코', 3), ('모', 3), ('에', 3), ('있', 3), ('다', 3), ('는', 2), ('것', 2), ('이', 2), ('과', 1), ('거', 1), ('었', 1), ('고', 1), ('현', 1), ('재', 1), ('으', 1), ('며', 1), ('미', 1), ('래', 1), ('을', 1), ('그', 1), ('든', 1), ('우', 1), ('리', 1), ('의', 1), ('일', 1), ('부', 1), ('은', 1), ('결', 1), ('시', 1), ('적', 1), ('수', 1), ('사', 1), ('가', 1), ('아', 1), ('니', 1)]\n"
     ]
    }
   ],
   "source": [
    "inStr = '''코스모스는 과거에 있었고, 현재에 있으며, 미래에 있을 그 모든 것이다.\n",
    "우리는 코스모스의 일부다.\n",
    "이것은 결코 시적 수사가 아니다.'''\n",
    "# 방법1:\n",
    "def  letterCount():\n",
    "    global inStr\n",
    "    countDic = {}\n",
    "    countList=[]\n",
    "    # 글자:빈도수 딕셔너리 만들기\n",
    "    for char in inStr:\n",
    "        if char >= '가' and char <='힣':\n",
    "            if char in countDic:\n",
    "                countDic[char] += 1\n",
    "            else:\n",
    "                countDic[char] = 1\n",
    "    # 정렬하기\n",
    "    # 방법 1\n",
    "    countList = sorted(countDic.items(), key=lambda x: x[1], reverse=True)\n",
    "    # 방법 2\n",
    "    import operator\n",
    "    countList = sorted(countDic.items(), key=operator.itemgetter(1), reverse=True)\n",
    "    return countList\n",
    "print(letterCount())"
   ]
  },
  {
   "cell_type": "code",
   "execution_count": 17,
   "id": "1592abad",
   "metadata": {
    "scrolled": true
   },
   "outputs": [
    {
     "name": "stdout",
     "output_type": "stream",
     "text": [
      "Counter({' ': 15, '스': 4, '코': 3, '모': 3, '에': 3, '있': 3, '다': 3, '.': 3, '는': 2, ',': 2, '것': 2, '이': 2, '\\n': 2, '과': 1, '거': 1, '었': 1, '고': 1, '현': 1, '재': 1, '으': 1, '며': 1, '미': 1, '래': 1, '을': 1, '그': 1, '든': 1, '우': 1, '리': 1, '의': 1, '일': 1, '부': 1, '은': 1, '결': 1, '시': 1, '적': 1, '수': 1, '사': 1, '가': 1, '아': 1, '니': 1})\n",
      "[(' ', 15), ('스', 4)]\n"
     ]
    }
   ],
   "source": [
    "# 방법2\n",
    "from collections import Counter\n",
    "counter = Counter(inStr)  # 딕셔너리타입\n",
    "print(counter)\n",
    "# 가장 많이 나타난 2개를 출력한다\n",
    "print(counter.most_common(n=2))"
   ]
  },
  {
   "cell_type": "code",
   "execution_count": 20,
   "id": "b0920b96",
   "metadata": {},
   "outputs": [
    {
     "name": "stdout",
     "output_type": "stream",
     "text": [
      "Counter({'h': 11, 'a': 8, 'f': 8, 'j': 3, 'd': 3, ';': 3, 'i': 3, 'k': 2, 'l': 2, 'o': 2, 'g': 2, 'w': 1, 'q': 1, 'e': 1, 'b': 1, 's': 1, 'z': 1})\n",
      "[('h', 11), ('a', 8), ('f', 8), ('j', 3), ('d', 3)]\n"
     ]
    },
    {
     "data": {
      "text/plain": [
       "list"
      ]
     },
     "execution_count": 20,
     "metadata": {},
     "output_type": "execute_result"
    }
   ],
   "source": [
    "c = Counter(\"klajdf;haofhdahif;hawqehgfgbahf;klszadhfajhfjhiahfioh\")\n",
    "print(c)\n",
    "print(c.most_common(5))"
   ]
  },
  {
   "cell_type": "markdown",
   "id": "2b7c1389",
   "metadata": {},
   "source": [
    "## 패키지 가져오기"
   ]
  },
  {
   "cell_type": "code",
   "execution_count": 9,
   "id": "aac078cc",
   "metadata": {
    "scrolled": true
   },
   "outputs": [
    {
     "data": {
      "text/plain": [
       "{'data': array([[5.1, 3.5, 1.4, 0.2],\n",
       "        [4.9, 3. , 1.4, 0.2],\n",
       "        [4.7, 3.2, 1.3, 0.2],\n",
       "        [4.6, 3.1, 1.5, 0.2],\n",
       "        [5. , 3.6, 1.4, 0.2],\n",
       "        [5.4, 3.9, 1.7, 0.4],\n",
       "        [4.6, 3.4, 1.4, 0.3],\n",
       "        [5. , 3.4, 1.5, 0.2],\n",
       "        [4.4, 2.9, 1.4, 0.2],\n",
       "        [4.9, 3.1, 1.5, 0.1],\n",
       "        [5.4, 3.7, 1.5, 0.2],\n",
       "        [4.8, 3.4, 1.6, 0.2],\n",
       "        [4.8, 3. , 1.4, 0.1],\n",
       "        [4.3, 3. , 1.1, 0.1],\n",
       "        [5.8, 4. , 1.2, 0.2],\n",
       "        [5.7, 4.4, 1.5, 0.4],\n",
       "        [5.4, 3.9, 1.3, 0.4],\n",
       "        [5.1, 3.5, 1.4, 0.3],\n",
       "        [5.7, 3.8, 1.7, 0.3],\n",
       "        [5.1, 3.8, 1.5, 0.3],\n",
       "        [5.4, 3.4, 1.7, 0.2],\n",
       "        [5.1, 3.7, 1.5, 0.4],\n",
       "        [4.6, 3.6, 1. , 0.2],\n",
       "        [5.1, 3.3, 1.7, 0.5],\n",
       "        [4.8, 3.4, 1.9, 0.2],\n",
       "        [5. , 3. , 1.6, 0.2],\n",
       "        [5. , 3.4, 1.6, 0.4],\n",
       "        [5.2, 3.5, 1.5, 0.2],\n",
       "        [5.2, 3.4, 1.4, 0.2],\n",
       "        [4.7, 3.2, 1.6, 0.2],\n",
       "        [4.8, 3.1, 1.6, 0.2],\n",
       "        [5.4, 3.4, 1.5, 0.4],\n",
       "        [5.2, 4.1, 1.5, 0.1],\n",
       "        [5.5, 4.2, 1.4, 0.2],\n",
       "        [4.9, 3.1, 1.5, 0.2],\n",
       "        [5. , 3.2, 1.2, 0.2],\n",
       "        [5.5, 3.5, 1.3, 0.2],\n",
       "        [4.9, 3.6, 1.4, 0.1],\n",
       "        [4.4, 3. , 1.3, 0.2],\n",
       "        [5.1, 3.4, 1.5, 0.2],\n",
       "        [5. , 3.5, 1.3, 0.3],\n",
       "        [4.5, 2.3, 1.3, 0.3],\n",
       "        [4.4, 3.2, 1.3, 0.2],\n",
       "        [5. , 3.5, 1.6, 0.6],\n",
       "        [5.1, 3.8, 1.9, 0.4],\n",
       "        [4.8, 3. , 1.4, 0.3],\n",
       "        [5.1, 3.8, 1.6, 0.2],\n",
       "        [4.6, 3.2, 1.4, 0.2],\n",
       "        [5.3, 3.7, 1.5, 0.2],\n",
       "        [5. , 3.3, 1.4, 0.2],\n",
       "        [7. , 3.2, 4.7, 1.4],\n",
       "        [6.4, 3.2, 4.5, 1.5],\n",
       "        [6.9, 3.1, 4.9, 1.5],\n",
       "        [5.5, 2.3, 4. , 1.3],\n",
       "        [6.5, 2.8, 4.6, 1.5],\n",
       "        [5.7, 2.8, 4.5, 1.3],\n",
       "        [6.3, 3.3, 4.7, 1.6],\n",
       "        [4.9, 2.4, 3.3, 1. ],\n",
       "        [6.6, 2.9, 4.6, 1.3],\n",
       "        [5.2, 2.7, 3.9, 1.4],\n",
       "        [5. , 2. , 3.5, 1. ],\n",
       "        [5.9, 3. , 4.2, 1.5],\n",
       "        [6. , 2.2, 4. , 1. ],\n",
       "        [6.1, 2.9, 4.7, 1.4],\n",
       "        [5.6, 2.9, 3.6, 1.3],\n",
       "        [6.7, 3.1, 4.4, 1.4],\n",
       "        [5.6, 3. , 4.5, 1.5],\n",
       "        [5.8, 2.7, 4.1, 1. ],\n",
       "        [6.2, 2.2, 4.5, 1.5],\n",
       "        [5.6, 2.5, 3.9, 1.1],\n",
       "        [5.9, 3.2, 4.8, 1.8],\n",
       "        [6.1, 2.8, 4. , 1.3],\n",
       "        [6.3, 2.5, 4.9, 1.5],\n",
       "        [6.1, 2.8, 4.7, 1.2],\n",
       "        [6.4, 2.9, 4.3, 1.3],\n",
       "        [6.6, 3. , 4.4, 1.4],\n",
       "        [6.8, 2.8, 4.8, 1.4],\n",
       "        [6.7, 3. , 5. , 1.7],\n",
       "        [6. , 2.9, 4.5, 1.5],\n",
       "        [5.7, 2.6, 3.5, 1. ],\n",
       "        [5.5, 2.4, 3.8, 1.1],\n",
       "        [5.5, 2.4, 3.7, 1. ],\n",
       "        [5.8, 2.7, 3.9, 1.2],\n",
       "        [6. , 2.7, 5.1, 1.6],\n",
       "        [5.4, 3. , 4.5, 1.5],\n",
       "        [6. , 3.4, 4.5, 1.6],\n",
       "        [6.7, 3.1, 4.7, 1.5],\n",
       "        [6.3, 2.3, 4.4, 1.3],\n",
       "        [5.6, 3. , 4.1, 1.3],\n",
       "        [5.5, 2.5, 4. , 1.3],\n",
       "        [5.5, 2.6, 4.4, 1.2],\n",
       "        [6.1, 3. , 4.6, 1.4],\n",
       "        [5.8, 2.6, 4. , 1.2],\n",
       "        [5. , 2.3, 3.3, 1. ],\n",
       "        [5.6, 2.7, 4.2, 1.3],\n",
       "        [5.7, 3. , 4.2, 1.2],\n",
       "        [5.7, 2.9, 4.2, 1.3],\n",
       "        [6.2, 2.9, 4.3, 1.3],\n",
       "        [5.1, 2.5, 3. , 1.1],\n",
       "        [5.7, 2.8, 4.1, 1.3],\n",
       "        [6.3, 3.3, 6. , 2.5],\n",
       "        [5.8, 2.7, 5.1, 1.9],\n",
       "        [7.1, 3. , 5.9, 2.1],\n",
       "        [6.3, 2.9, 5.6, 1.8],\n",
       "        [6.5, 3. , 5.8, 2.2],\n",
       "        [7.6, 3. , 6.6, 2.1],\n",
       "        [4.9, 2.5, 4.5, 1.7],\n",
       "        [7.3, 2.9, 6.3, 1.8],\n",
       "        [6.7, 2.5, 5.8, 1.8],\n",
       "        [7.2, 3.6, 6.1, 2.5],\n",
       "        [6.5, 3.2, 5.1, 2. ],\n",
       "        [6.4, 2.7, 5.3, 1.9],\n",
       "        [6.8, 3. , 5.5, 2.1],\n",
       "        [5.7, 2.5, 5. , 2. ],\n",
       "        [5.8, 2.8, 5.1, 2.4],\n",
       "        [6.4, 3.2, 5.3, 2.3],\n",
       "        [6.5, 3. , 5.5, 1.8],\n",
       "        [7.7, 3.8, 6.7, 2.2],\n",
       "        [7.7, 2.6, 6.9, 2.3],\n",
       "        [6. , 2.2, 5. , 1.5],\n",
       "        [6.9, 3.2, 5.7, 2.3],\n",
       "        [5.6, 2.8, 4.9, 2. ],\n",
       "        [7.7, 2.8, 6.7, 2. ],\n",
       "        [6.3, 2.7, 4.9, 1.8],\n",
       "        [6.7, 3.3, 5.7, 2.1],\n",
       "        [7.2, 3.2, 6. , 1.8],\n",
       "        [6.2, 2.8, 4.8, 1.8],\n",
       "        [6.1, 3. , 4.9, 1.8],\n",
       "        [6.4, 2.8, 5.6, 2.1],\n",
       "        [7.2, 3. , 5.8, 1.6],\n",
       "        [7.4, 2.8, 6.1, 1.9],\n",
       "        [7.9, 3.8, 6.4, 2. ],\n",
       "        [6.4, 2.8, 5.6, 2.2],\n",
       "        [6.3, 2.8, 5.1, 1.5],\n",
       "        [6.1, 2.6, 5.6, 1.4],\n",
       "        [7.7, 3. , 6.1, 2.3],\n",
       "        [6.3, 3.4, 5.6, 2.4],\n",
       "        [6.4, 3.1, 5.5, 1.8],\n",
       "        [6. , 3. , 4.8, 1.8],\n",
       "        [6.9, 3.1, 5.4, 2.1],\n",
       "        [6.7, 3.1, 5.6, 2.4],\n",
       "        [6.9, 3.1, 5.1, 2.3],\n",
       "        [5.8, 2.7, 5.1, 1.9],\n",
       "        [6.8, 3.2, 5.9, 2.3],\n",
       "        [6.7, 3.3, 5.7, 2.5],\n",
       "        [6.7, 3. , 5.2, 2.3],\n",
       "        [6.3, 2.5, 5. , 1.9],\n",
       "        [6.5, 3. , 5.2, 2. ],\n",
       "        [6.2, 3.4, 5.4, 2.3],\n",
       "        [5.9, 3. , 5.1, 1.8]]),\n",
       " 'target': array([0, 0, 0, 0, 0, 0, 0, 0, 0, 0, 0, 0, 0, 0, 0, 0, 0, 0, 0, 0, 0, 0,\n",
       "        0, 0, 0, 0, 0, 0, 0, 0, 0, 0, 0, 0, 0, 0, 0, 0, 0, 0, 0, 0, 0, 0,\n",
       "        0, 0, 0, 0, 0, 0, 1, 1, 1, 1, 1, 1, 1, 1, 1, 1, 1, 1, 1, 1, 1, 1,\n",
       "        1, 1, 1, 1, 1, 1, 1, 1, 1, 1, 1, 1, 1, 1, 1, 1, 1, 1, 1, 1, 1, 1,\n",
       "        1, 1, 1, 1, 1, 1, 1, 1, 1, 1, 1, 1, 2, 2, 2, 2, 2, 2, 2, 2, 2, 2,\n",
       "        2, 2, 2, 2, 2, 2, 2, 2, 2, 2, 2, 2, 2, 2, 2, 2, 2, 2, 2, 2, 2, 2,\n",
       "        2, 2, 2, 2, 2, 2, 2, 2, 2, 2, 2, 2, 2, 2, 2, 2, 2, 2]),\n",
       " 'frame': None,\n",
       " 'target_names': array(['setosa', 'versicolor', 'virginica'], dtype='<U10'),\n",
       " 'DESCR': '.. _iris_dataset:\\n\\nIris plants dataset\\n--------------------\\n\\n**Data Set Characteristics:**\\n\\n    :Number of Instances: 150 (50 in each of three classes)\\n    :Number of Attributes: 4 numeric, predictive attributes and the class\\n    :Attribute Information:\\n        - sepal length in cm\\n        - sepal width in cm\\n        - petal length in cm\\n        - petal width in cm\\n        - class:\\n                - Iris-Setosa\\n                - Iris-Versicolour\\n                - Iris-Virginica\\n                \\n    :Summary Statistics:\\n\\n    ============== ==== ==== ======= ===== ====================\\n                    Min  Max   Mean    SD   Class Correlation\\n    ============== ==== ==== ======= ===== ====================\\n    sepal length:   4.3  7.9   5.84   0.83    0.7826\\n    sepal width:    2.0  4.4   3.05   0.43   -0.4194\\n    petal length:   1.0  6.9   3.76   1.76    0.9490  (high!)\\n    petal width:    0.1  2.5   1.20   0.76    0.9565  (high!)\\n    ============== ==== ==== ======= ===== ====================\\n\\n    :Missing Attribute Values: None\\n    :Class Distribution: 33.3% for each of 3 classes.\\n    :Creator: R.A. Fisher\\n    :Donor: Michael Marshall (MARSHALL%PLU@io.arc.nasa.gov)\\n    :Date: July, 1988\\n\\nThe famous Iris database, first used by Sir R.A. Fisher. The dataset is taken\\nfrom Fisher\\'s paper. Note that it\\'s the same as in R, but not as in the UCI\\nMachine Learning Repository, which has two wrong data points.\\n\\nThis is perhaps the best known database to be found in the\\npattern recognition literature.  Fisher\\'s paper is a classic in the field and\\nis referenced frequently to this day.  (See Duda & Hart, for example.)  The\\ndata set contains 3 classes of 50 instances each, where each class refers to a\\ntype of iris plant.  One class is linearly separable from the other 2; the\\nlatter are NOT linearly separable from each other.\\n\\n.. topic:: References\\n\\n   - Fisher, R.A. \"The use of multiple measurements in taxonomic problems\"\\n     Annual Eugenics, 7, Part II, 179-188 (1936); also in \"Contributions to\\n     Mathematical Statistics\" (John Wiley, NY, 1950).\\n   - Duda, R.O., & Hart, P.E. (1973) Pattern Classification and Scene Analysis.\\n     (Q327.D83) John Wiley & Sons.  ISBN 0-471-22361-1.  See page 218.\\n   - Dasarathy, B.V. (1980) \"Nosing Around the Neighborhood: A New System\\n     Structure and Classification Rule for Recognition in Partially Exposed\\n     Environments\".  IEEE Transactions on Pattern Analysis and Machine\\n     Intelligence, Vol. PAMI-2, No. 1, 67-71.\\n   - Gates, G.W. (1972) \"The Reduced Nearest Neighbor Rule\".  IEEE Transactions\\n     on Information Theory, May 1972, 431-433.\\n   - See also: 1988 MLC Proceedings, 54-64.  Cheeseman et al\"s AUTOCLASS II\\n     conceptual clustering system finds 3 classes in the data.\\n   - Many, many more ...',\n",
       " 'feature_names': ['sepal length (cm)',\n",
       "  'sepal width (cm)',\n",
       "  'petal length (cm)',\n",
       "  'petal width (cm)'],\n",
       " 'filename': 'c:\\\\python\\\\python38\\\\lib\\\\site-packages\\\\sklearn\\\\datasets\\\\data\\\\iris.csv'}"
      ]
     },
     "execution_count": 9,
     "metadata": {},
     "output_type": "execute_result"
    }
   ],
   "source": [
    "from sklearn.datasets import load_iris\n",
    "iris = load_iris()\n",
    "iris"
   ]
  },
  {
   "cell_type": "code",
   "execution_count": 15,
   "id": "5f00d280",
   "metadata": {
    "scrolled": true
   },
   "outputs": [
    {
     "name": "stdout",
     "output_type": "stream",
     "text": [
      ".. _iris_dataset:\n",
      "\n",
      "Iris plants dataset\n",
      "--------------------\n",
      "\n",
      "**Data Set Characteristics:**\n",
      "\n",
      "    :Number of Instances: 150 (50 in each of three classes)\n",
      "    :Number of Attributes: 4 numeric, predictive attributes and the class\n",
      "    :Attribute Information:\n",
      "        - sepal length in cm\n",
      "        - sepal width in cm\n",
      "        - petal length in cm\n",
      "        - petal width in cm\n",
      "        - class:\n",
      "                - Iris-Setosa\n",
      "                - Iris-Versicolour\n",
      "                - Iris-Virginica\n",
      "                \n",
      "    :Summary Statistics:\n",
      "\n",
      "    ============== ==== ==== ======= ===== ====================\n",
      "                    Min  Max   Mean    SD   Class Correlation\n",
      "    ============== ==== ==== ======= ===== ====================\n",
      "    sepal length:   4.3  7.9   5.84   0.83    0.7826\n",
      "    sepal width:    2.0  4.4   3.05   0.43   -0.4194\n",
      "    petal length:   1.0  6.9   3.76   1.76    0.9490  (high!)\n",
      "    petal width:    0.1  2.5   1.20   0.76    0.9565  (high!)\n",
      "    ============== ==== ==== ======= ===== ====================\n",
      "\n",
      "    :Missing Attribute Values: None\n",
      "    :Class Distribution: 33.3% for each of 3 classes.\n",
      "    :Creator: R.A. Fisher\n",
      "    :Donor: Michael Marshall (MARSHALL%PLU@io.arc.nasa.gov)\n",
      "    :Date: July, 1988\n",
      "\n",
      "The famous Iris database, first used by Sir R.A. Fisher. The dataset is taken\n",
      "from Fisher's paper. Note that it's the same as in R, but not as in the UCI\n",
      "Machine Learning Repository, which has two wrong data points.\n",
      "\n",
      "This is perhaps the best known database to be found in the\n",
      "pattern recognition literature.  Fisher's paper is a classic in the field and\n",
      "is referenced frequently to this day.  (See Duda & Hart, for example.)  The\n",
      "data set contains 3 classes of 50 instances each, where each class refers to a\n",
      "type of iris plant.  One class is linearly separable from the other 2; the\n",
      "latter are NOT linearly separable from each other.\n",
      "\n",
      ".. topic:: References\n",
      "\n",
      "   - Fisher, R.A. \"The use of multiple measurements in taxonomic problems\"\n",
      "     Annual Eugenics, 7, Part II, 179-188 (1936); also in \"Contributions to\n",
      "     Mathematical Statistics\" (John Wiley, NY, 1950).\n",
      "   - Duda, R.O., & Hart, P.E. (1973) Pattern Classification and Scene Analysis.\n",
      "     (Q327.D83) John Wiley & Sons.  ISBN 0-471-22361-1.  See page 218.\n",
      "   - Dasarathy, B.V. (1980) \"Nosing Around the Neighborhood: A New System\n",
      "     Structure and Classification Rule for Recognition in Partially Exposed\n",
      "     Environments\".  IEEE Transactions on Pattern Analysis and Machine\n",
      "     Intelligence, Vol. PAMI-2, No. 1, 67-71.\n",
      "   - Gates, G.W. (1972) \"The Reduced Nearest Neighbor Rule\".  IEEE Transactions\n",
      "     on Information Theory, May 1972, 431-433.\n",
      "   - See also: 1988 MLC Proceedings, 54-64.  Cheeseman et al\"s AUTOCLASS II\n",
      "     conceptual clustering system finds 3 classes in the data.\n",
      "   - Many, many more ...\n"
     ]
    }
   ],
   "source": [
    "print(iris.DESCR)"
   ]
  },
  {
   "cell_type": "code",
   "execution_count": 24,
   "id": "44315489",
   "metadata": {},
   "outputs": [
    {
     "data": {
      "text/plain": [
       "'helloklajdf;hoiwqegbsz'"
      ]
     },
     "execution_count": 24,
     "metadata": {},
     "output_type": "execute_result"
    }
   ],
   "source": [
    "from functools import reduce\n",
    "reduce(lambda x,y : x+y,c, \"hello\")"
   ]
  },
  {
   "cell_type": "code",
   "execution_count": 30,
   "id": "7cec8049",
   "metadata": {},
   "outputs": [],
   "source": [
    "class Car:\n",
    "    # 자동차의 필드\n",
    "    color=\"\"\n",
    "    speed = 0\n",
    "    \n",
    "    def upSpeed(self, value):\n",
    "        self.speed += value\n",
    "        \n",
    "    def downSpeed(self, value):\n",
    "        self.speed -= value\n",
    "car = Car()        "
   ]
  },
  {
   "cell_type": "code",
   "execution_count": 84,
   "id": "9e92ecf8",
   "metadata": {},
   "outputs": [
    {
     "data": {
      "text/plain": [
       "540"
      ]
     },
     "execution_count": 84,
     "metadata": {},
     "output_type": "execute_result"
    }
   ],
   "source": [
    "car.upSpeed(10)\n",
    "car.speed"
   ]
  },
  {
   "cell_type": "code",
   "execution_count": 185,
   "id": "5c673e82",
   "metadata": {},
   "outputs": [
    {
     "data": {
      "text/plain": [
       "35"
      ]
     },
     "execution_count": 185,
     "metadata": {},
     "output_type": "execute_result"
    }
   ],
   "source": [
    "car.downSpeed(5)\n",
    "car.speed"
   ]
  },
  {
   "cell_type": "code",
   "execution_count": 186,
   "id": "7635389b",
   "metadata": {},
   "outputs": [
    {
     "name": "stdout",
     "output_type": "stream",
     "text": [
      "공부하기\n",
      "학교가기\n"
     ]
    }
   ],
   "source": [
    "from abc import *\n",
    " \n",
    "class StudentBase(metaclass=ABCMeta):\n",
    "    @abstractmethod\n",
    "    def study(self):\n",
    "        pass\n",
    " \n",
    "    @abstractmethod\n",
    "    def go_to_school(self):\n",
    "        pass\n",
    " \n",
    "class Student(StudentBase):\n",
    "    def study(self):\n",
    "        print('공부하기')\n",
    " \n",
    "    def go_to_school(self):\n",
    "        print('학교가기')\n",
    " \n",
    "james = Student()\n",
    "james.study()\n",
    "james.go_to_school()"
   ]
  },
  {
   "cell_type": "code",
   "execution_count": 190,
   "id": "f73b4c99",
   "metadata": {},
   "outputs": [
    {
     "name": "stdout",
     "output_type": "stream",
     "text": [
      "0 1 2 "
     ]
    }
   ],
   "source": [
    "class Counter:\n",
    "    def __init__(self, stop):\n",
    "        self.current = 0    # 현재 숫자 유지, 0부터 지정된 숫자 직전까지 반복\n",
    "        self.stop = stop    # 반복을 끝낼 숫자\n",
    " \n",
    "    def __iter__(self):\n",
    "        return self         # 현재 인스턴스를 반환\n",
    " \n",
    "    def __next__(self):\n",
    "        if self.current < self.stop:    # 현재 숫자가 반복을 끝낼 숫자보다 작을 때\n",
    "            r = self.current            # 반환할 숫자를 변수에 저장\n",
    "            self.current += 1           # 현재 숫자를 1 증가시킴\n",
    "            return r                    # 숫자를 반환\n",
    "        else:                           # 현재 숫자가 반복을 끝낼 숫자보다 크거나 같을 때\n",
    "            raise StopIteration         # 예외 발생\n",
    " \n",
    "for i in Counter(3):\n",
    "    print(i, end=' ')"
   ]
  },
  {
   "cell_type": "code",
   "execution_count": null,
   "id": "3d412a3a",
   "metadata": {},
   "outputs": [],
   "source": [
    "class Counter:\n",
    "    def __init__(self, stop):\n",
    "        self.current = 0    # 현재 숫자 유지, 0부터 지정된 숫자 직전까지 반복\n",
    "        self.stop = stop    # 반복을 끝낼 숫자\n",
    " \n",
    "    def __iter__(self):\n",
    "        return self         # 현재 인스턴스를 반환\n",
    " \n",
    "    def __next__(self):\n",
    "        if self.current < self.stop:    # 현재 숫자가 반복을 끝낼 숫자보다 작을 때\n",
    "            r = self.current            # 반환할 숫자를 변수에 저장\n",
    "            self.current += 1           # 현재 숫자를 1 증가시킴\n",
    "            return r                    # 숫자를 반환\n",
    "        else:                           # 현재 숫자가 반복을 끝낼 숫자보다 크거나 같을 때\n",
    "            raise StopIteration         # 예외 발생\n",
    " \n",
    "for i in Counter(3):\n",
    "    print(i, end=' ')"
   ]
  },
  {
   "cell_type": "code",
   "execution_count": 1,
   "id": "a310b291",
   "metadata": {
    "scrolled": true
   },
   "outputs": [
    {
     "name": "stdout",
     "output_type": "stream",
     "text": [
      "{'__module__': '__main__', '__qualname__': 'Car', 'color': '', 'name': '', 'speed': 0}\n",
      "red\n"
     ]
    },
    {
     "data": {
      "text/plain": [
       "''"
      ]
     },
     "execution_count": 1,
     "metadata": {},
     "output_type": "execute_result"
    }
   ],
   "source": [
    "class Car:\n",
    "    color = \"\"\n",
    "    name = \"\"\n",
    "    speed = 0\n",
    "    print(locals())\n",
    "    def __init__(self):\n",
    "        self.color=\"red\"\n",
    "        \n",
    "c = Car()\n",
    "print(c.color)\n",
    "Car.color"
   ]
  },
  {
   "cell_type": "code",
   "execution_count": 5,
   "id": "9fc89bf4",
   "metadata": {
    "scrolled": true
   },
   "outputs": [
    {
     "data": {
      "text/plain": [
       "['__class__',\n",
       " '__contains__',\n",
       " '__delattr__',\n",
       " '__delitem__',\n",
       " '__dir__',\n",
       " '__doc__',\n",
       " '__eq__',\n",
       " '__format__',\n",
       " '__ge__',\n",
       " '__getattribute__',\n",
       " '__getitem__',\n",
       " '__gt__',\n",
       " '__hash__',\n",
       " '__init__',\n",
       " '__init_subclass__',\n",
       " '__iter__',\n",
       " '__le__',\n",
       " '__len__',\n",
       " '__lt__',\n",
       " '__ne__',\n",
       " '__new__',\n",
       " '__reduce__',\n",
       " '__reduce_ex__',\n",
       " '__repr__',\n",
       " '__reversed__',\n",
       " '__setattr__',\n",
       " '__setitem__',\n",
       " '__sizeof__',\n",
       " '__str__',\n",
       " '__subclasshook__',\n",
       " 'clear',\n",
       " 'copy',\n",
       " 'fromkeys',\n",
       " 'get',\n",
       " 'items',\n",
       " 'keys',\n",
       " 'pop',\n",
       " 'popitem',\n",
       " 'setdefault',\n",
       " 'update',\n",
       " 'values']"
      ]
     },
     "execution_count": 5,
     "metadata": {},
     "output_type": "execute_result"
    }
   ],
   "source": [
    "dir(locals())"
   ]
  },
  {
   "cell_type": "code",
   "execution_count": 78,
   "id": "8d018494",
   "metadata": {
    "scrolled": false
   },
   "outputs": [
    {
     "name": "stdout",
     "output_type": "stream",
     "text": [
      "index 0\n",
      "index 1\n",
      "index 2\n",
      "0 1 2\n",
      "index 0\n",
      "0 index 1\n",
      "1 index 2\n",
      "2 index 3\n"
     ]
    }
   ],
   "source": [
    "class Counter:\n",
    "    def __init__(self, stop):\n",
    "        self.stop = stop\n",
    " \n",
    "    def __getitem__(self, index):\n",
    "        print(\"index\",index)\n",
    "        if index < self.stop:\n",
    "            return index\n",
    "        else:\n",
    "            raise IndexError\n",
    " \n",
    "print(Counter(3)[0], Counter(3)[1], Counter(3)[2])\n",
    " \n",
    "for i in Counter(3):\n",
    "    print(i, end=' ')"
   ]
  },
  {
   "cell_type": "code",
   "execution_count": 82,
   "id": "00e6abf6",
   "metadata": {
    "scrolled": true
   },
   "outputs": [
    {
     "name": "stdout",
     "output_type": "stream",
     "text": [
      "트럭 -->현재 속도(슈퍼 클래스) : 200\n",
      "승용차 -->현재 속도(서브 클래스) : 150\n",
      "소나타 -->현재 속도(서브 클래스) : 150\n"
     ]
    }
   ],
   "source": [
    "class Car:\n",
    "    speed = 0\n",
    "    def upSpeed(self, value):\n",
    "        self.speed += value\n",
    "        \n",
    "        print(\"현재 속도(슈퍼 클래스) : %d\"%self.speed)\n",
    "        \n",
    "class Sedan(Car):\n",
    "    def upSpeed(self, value):\n",
    "        self.speed += value\n",
    "        \n",
    "        if self.speed > 150:\n",
    "            self.speed = 150\n",
    "        print(\"현재 속도(서브 클래스) : %d\"%self.speed)\n",
    "\n",
    "class Truck(Car):\n",
    "    pass\n",
    "\n",
    "class Sonata(Sedan):\n",
    "    pass\n",
    "\n",
    "truck1 = Truck()\n",
    "sedan1 = Sedan()\n",
    "sonata1 = Sonata()\n",
    "\n",
    "print(\"트럭 -->\", end=\"\")\n",
    "truck1.upSpeed(200)\n",
    "\n",
    "print(\"승용차 -->\", end=\"\")\n",
    "sedan1.upSpeed(200)\n",
    "\n",
    "print(\"소나타 -->\", end=\"\")\n",
    "sonata1.upSpeed(200)"
   ]
  },
  {
   "cell_type": "markdown",
   "id": "7f282e7d",
   "metadata": {},
   "source": [
    "# 장바구니"
   ]
  },
  {
   "cell_type": "code",
   "execution_count": 109,
   "id": "10114ae9",
   "metadata": {},
   "outputs": [
    {
     "name": "stdout",
     "output_type": "stream",
     "text": [
      "# 제인의 장바구니\n",
      "--------------------\n",
      "* 바나나 3000 2\n",
      "* 우유 2500 1\n",
      "* 라면 4000 1\n",
      "** 전체가격 = 12500 , 전체 품목 종류 = 3\n",
      "\n",
      "----------------------------------------\n",
      "# 대원의 장바구니\n",
      "--------------------\n",
      "* 라면 4000 5\n",
      "** 전체가격 = 20000 , 전체 품목 종류 = 1\n",
      "\n",
      "----------------------------------------\n"
     ]
    }
   ],
   "source": [
    "class Basket:\n",
    "    def __init__(self, id):\n",
    "        self.id = id\n",
    "        self.items = dict()\n",
    "        self.total_price = 0\n",
    "        self.total_qty = 0\n",
    "        \n",
    "    def add(self, item, price, qty):\n",
    "        if item not in self.items:\n",
    "            self.items[item] = {'price':price, 'qty':qty}\n",
    "        else:\n",
    "            self.items[item]['qty']+=qty\n",
    "            \n",
    "    def delete(self, item, qty):\n",
    "        if item in self.items:\n",
    "            if self.items[item]['qty']>=qty: # 가지고 있는 품목보다 많은지 확인\n",
    "                self.items[item]['qty']-=qty\n",
    "                if self.items[item]['qty']==0:\n",
    "                    del(self.items[item])\n",
    "            else:\n",
    "                print(f\"가지고 있는 품목 {self.items[item]['qty']} 개 이내의 물품만 삭제할 수 있습니다.\")\n",
    "\n",
    "    def calculate_total_price(self):\n",
    "        total = 0\n",
    "        for k, v in self.items.items():\n",
    "            total += v['price']*v['qty']\n",
    "        return total\n",
    "        \n",
    "    def calculate_total_qty(self):\n",
    "#         total = 0 # 전체 물품 총 개수 출력하는 경우\n",
    "#         for k, v in self.items.items():\n",
    "#             total += v['qty']\n",
    "        total = len(self.items.keys())\n",
    "        return total\n",
    "    \n",
    "    def printitems(self):\n",
    "        print(f\"# {self.id}의 장바구니\")\n",
    "        print(\"-\"*20)\n",
    "        for k, v in self.items.items():\n",
    "            print(f\"* {k} {v['price']} {v['qty']}\")\n",
    "        print(f\"** 전체가격 = {self.calculate_total_price()} , 전체 품목 종류 = {self.calculate_total_qty()}\\n\")\n",
    "        print(\"-\"*40)\n",
    "    \n",
    "basket1 = Basket(\"제인\")\n",
    "basket2 = Basket(\"대원\")\n",
    "\n",
    "basket1.add(\"바나나\", 3000,2)\n",
    "basket1.add(\"우유\", 2500,2)\n",
    "basket1.add(\"라면\", 4000,1)\n",
    "basket2.add(\"라면\", 4000,2)\n",
    "basket2.add(\"라면\", 4000,3)\n",
    "basket1.delete(\"우유\", 1)\n",
    "# basket1.delete(\"우유\", 1)\n",
    "\n",
    "basket1.printitems()\n",
    "basket2.printitems()"
   ]
  }
 ],
 "metadata": {
  "kernelspec": {
   "display_name": "Python 3 (ipykernel)",
   "language": "python",
   "name": "python3"
  },
  "language_info": {
   "codemirror_mode": {
    "name": "ipython",
    "version": 3
   },
   "file_extension": ".py",
   "mimetype": "text/x-python",
   "name": "python",
   "nbconvert_exporter": "python",
   "pygments_lexer": "ipython3",
   "version": "3.8.10"
  }
 },
 "nbformat": 4,
 "nbformat_minor": 5
}
