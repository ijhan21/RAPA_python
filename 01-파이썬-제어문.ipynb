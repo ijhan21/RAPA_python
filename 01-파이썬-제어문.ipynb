{
 "cells": [
  {
   "cell_type": "markdown",
   "id": "5f5ec0b3",
   "metadata": {},
   "source": [
    "# 제어문"
   ]
  },
  {
   "cell_type": "markdown",
   "id": "41597d25",
   "metadata": {},
   "source": [
    "## 1. if 조건문"
   ]
  },
  {
   "cell_type": "code",
   "execution_count": null,
   "id": "aaa5f666",
   "metadata": {},
   "outputs": [],
   "source": [
    "if 조건문 :\n",
    "    실행   # 조건문이 참일 경우 실행\n",
    "else :\n",
    "    실행   # 조거눔니 거짓일 경우 실행"
   ]
  },
  {
   "cell_type": "code",
   "execution_count": 5,
   "id": "1c585283",
   "metadata": {},
   "outputs": [
    {
     "name": "stdout",
     "output_type": "stream",
     "text": [
      "a는 99보다 크다\n"
     ]
    }
   ],
   "source": [
    "# if\n",
    "a = 100\n",
    "if a > 99 :\n",
    "    print('a는 99보다 크다')"
   ]
  },
  {
   "cell_type": "code",
   "execution_count": 6,
   "id": "cd3d98b3",
   "metadata": {},
   "outputs": [
    {
     "name": "stdout",
     "output_type": "stream",
     "text": [
      "a는 99보다 작거나 같다.\n"
     ]
    }
   ],
   "source": [
    "# if ~ else\n",
    "a = 80\n",
    "if a > 99 :\n",
    "    print('a는 99보다 크다')\n",
    "else:\n",
    "    print('a는 99보다 작거나 같다.')"
   ]
  },
  {
   "cell_type": "code",
   "execution_count": 7,
   "id": "38c473ac",
   "metadata": {},
   "outputs": [
    {
     "name": "stdout",
     "output_type": "stream",
     "text": [
      "a는 85보다 작거나 같다.\n"
     ]
    }
   ],
   "source": [
    "# if 중첩문\n",
    "# if ~ else\n",
    "a = 80\n",
    "if a > 99 :\n",
    "    print('a는 99보다 크다')\n",
    "else:\n",
    "    if a > 85:\n",
    "        print('a는 85보다 크다.')\n",
    "    else:\n",
    "        print('a는 85보다 작거나 같다.')"
   ]
  },
  {
   "cell_type": "code",
   "execution_count": 8,
   "id": "528c8341",
   "metadata": {
    "scrolled": true
   },
   "outputs": [
    {
     "name": "stdout",
     "output_type": "stream",
     "text": [
      "C\n"
     ]
    }
   ],
   "source": [
    "# if ~ elif ~ else\n",
    "a = 80\n",
    "\n",
    "if a > 90: \n",
    "    print('A')\n",
    "elif a > 80:\n",
    "    print('B')\n",
    "elif a > 70:\n",
    "    print('C')\n",
    "else:\n",
    "    print('D')\n",
    "\n"
   ]
  },
  {
   "cell_type": "markdown",
   "id": "59fd0960",
   "metadata": {},
   "source": [
    "### 실습문제: 성적등급 "
   ]
  },
  {
   "cell_type": "code",
   "execution_count": null,
   "id": "4ee303ed",
   "metadata": {},
   "outputs": [],
   "source": [
    "x = int(input(\"성적을 입력해 주세요 : \"))\n",
    "\n",
    "grade = 'D'\n",
    "\n",
    "if x > 89 :\n",
    "    grade = 'A'\n",
    "elif x > 79 :\n",
    "    grade = 'B'\n",
    "elif x > 69 :\n",
    "    grade = 'C'\n",
    "    \n",
    "print(f\"성적: {x}는 {grade}등급입니다.\")"
   ]
  },
  {
   "cell_type": "markdown",
   "id": "247da2ca",
   "metadata": {},
   "source": [
    "### 실습문제: 주민번호로 정보 추출하기"
   ]
  },
  {
   "cell_type": "code",
   "execution_count": 12,
   "id": "f7991a26",
   "metadata": {},
   "outputs": [
    {
     "name": "stdout",
     "output_type": "stream",
     "text": [
      "주민번호: 870701-2409184\n",
      "1987년 07월 01일, 34세, 여성\n"
     ]
    }
   ],
   "source": [
    "import datetime\n",
    "now = datetime.datetime.now()\n",
    "#c_year = now.year   #now.month, now.day, now.hour, now.minute, now.second\n",
    "\n",
    "x = input('주민번호: ')\n",
    "\n",
    "yy = int(x[0:2])\n",
    "\n",
    "if x[7] == '1':\n",
    "    gender = '남성'\n",
    "    yy += 1900      # yy = yy + 1900\n",
    "if x[7] == '2':\n",
    "    gender = '여성'\n",
    "    yy += 1900      # yy = yy + 1900\n",
    "if x[7] == '3':\n",
    "    gender = '남성'\n",
    "    yy += 2000      # yy = yy + 1900\n",
    "if x[7] == '4':\n",
    "    gender = '여성'\n",
    "    yy += 2000      # yy = yy + 1900\n",
    "\n",
    "print(f'{yy}년 {x[2:4]}월 {x[4:6]}일, {int(now.year) - yy}세, {gender}')    "
   ]
  },
  {
   "cell_type": "markdown",
   "id": "d7d704b5",
   "metadata": {},
   "source": [
    "### 실습문제: 괄호 짝꿍 판별"
   ]
  },
  {
   "cell_type": "code",
   "execution_count": 15,
   "id": "e101c57f",
   "metadata": {},
   "outputs": [
    {
     "name": "stdout",
     "output_type": "stream",
     "text": [
      "괄호: )))()()(((\n",
      "[')', ')', ')', '(', ')', '(', ')', '(', '(', '(']\n",
      ")\n",
      ")\n",
      ")\n",
      "(\n",
      ")\n",
      "(\n",
      ")\n",
      "(\n",
      "(\n",
      "(\n"
     ]
    }
   ],
   "source": [
    "a_list = list(input('괄호: '))\n",
    "print(a_list)\n",
    "\n",
    "t = 0\n",
    "for i in a_list:\n",
    "    if i == '(' :\n",
    "        t = t + 1\n",
    "    elif i == ')' :\n",
    "        t = t - 1\n",
    "    \n",
    "    if t < 0 :\n",
    "        break\n",
    "\n",
    "if t == 0 :\n",
    "    print('True')\n",
    "else :\n",
    "    print('False')"
   ]
  },
  {
   "cell_type": "markdown",
   "id": "af1a6ce4",
   "metadata": {},
   "source": [
    "### 실습문제: 커피 자동머신"
   ]
  },
  {
   "cell_type": "code",
   "execution_count": 16,
   "id": "9a3661cc",
   "metadata": {},
   "outputs": [
    {
     "name": "stdout",
     "output_type": "stream",
     "text": [
      "[커피 자동주문 머신 메뉴]\n",
      "----------------------------\n",
      "-아메리카노는 2500원\n",
      "-카페라테는 3000원\n",
      "-카푸치노는 3000원\n",
      "입니다. 원하시는 커피종류와 잔수를 입력하세요.\n",
      "----------------------------\n",
      "아메리카노 몇잔?: 2\n",
      "카페라테 몇잔?: 2\n",
      "카푸치노 몇잔?: 1\n",
      "2 2 1\n"
     ]
    }
   ],
   "source": [
    "menu = '''[커피 자동주문 머신 메뉴]\n",
    "----------------------------\n",
    "-아메리카노는 2500원\n",
    "-카페라테는 3000원\n",
    "-카푸치노는 3000원\n",
    "입니다. 원하시는 커피종류와 잔수를 입력하세요.\n",
    "----------------------------\n",
    "'''\n",
    "\n",
    "coffee1 = int(input(menu+'아메리카노 몇잔?: '))\n",
    "coffee2 = int(input('카페라테 몇잔?: '))\n",
    "coffee3 = int(input('카푸치노 몇잔?: '))\n",
    "#print(coffee1, coffee2, coffee3)\n",
    "\n",
    "total = coffee1*2500 + coffee2*3000 + coffee3*3000\n",
    "print(f'지불할 총 금액은 {total} 원 입니다.')\n",
    "\n",
    "money = int(input('돈을 넣어주세요: '))\n",
    "if money >= total :\n",
    "    print(f'거스름돈은 {money - total} 원 입니다.')\n",
    "else:\n",
    "    print(f'금액이 부족합니다. {total - money} 원을 더 넣어주세요.')"
   ]
  },
  {
   "cell_type": "code",
   "execution_count": 17,
   "id": "bf91e008",
   "metadata": {},
   "outputs": [
    {
     "name": "stdout",
     "output_type": "stream",
     "text": [
      "[커피 자동주문 머신 메뉴]\n",
      "----------------------------\n",
      "-아메리카노는 2500원\n",
      "-카페라테는 3000원\n",
      "-카푸치노는 3000원\n",
      "입니다. 원하시는 커피종류와 잔수를 입력하세요.\n",
      "----------------------------\n",
      "아메리카노 몇잔?: 3\n",
      "너무 많은 주문을 하셨습니다. 다시 주문하세요.\n",
      "[커피 자동주문 머신 메뉴]\n",
      "----------------------------\n",
      "-아메리카노는 2500원\n",
      "-카페라테는 3000원\n",
      "-카푸치노는 3000원\n",
      "입니다. 원하시는 커피종류와 잔수를 입력하세요.\n",
      "----------------------------\n",
      "아메리카노 몇잔?: 5\n",
      "너무 많은 주문을 하셨습니다. 다시 주문하세요.\n",
      "[커피 자동주문 머신 메뉴]\n",
      "----------------------------\n",
      "-아메리카노는 2500원\n",
      "-카페라테는 3000원\n",
      "-카푸치노는 3000원\n",
      "입니다. 원하시는 커피종류와 잔수를 입력하세요.\n",
      "----------------------------\n",
      "아메리카노 몇잔?: 1\n"
     ]
    }
   ],
   "source": [
    "menu = '''[커피 자동주문 머신 메뉴]\n",
    "----------------------------\n",
    "-아메리카노는 2500원\n",
    "-카페라테는 3000원\n",
    "-카푸치노는 3000원\n",
    "입니다. 원하시는 커피종류와 잔수를 입력하세요.\n",
    "----------------------------\n",
    "'''\n",
    "while True:    \n",
    "    coffee1 = int(input(menu+'아메리카노 몇잔?: '))\n",
    "    if coffee1 > 2:\n",
    "        print('너무 많은 주문을 하셨습니다. 다시 주문하세요.')\n",
    "    else:\n",
    "        break\n"
   ]
  },
  {
   "cell_type": "markdown",
   "id": "659f6fb0",
   "metadata": {},
   "source": [
    "### 난수: random"
   ]
  },
  {
   "cell_type": "code",
   "execution_count": 21,
   "id": "96ae5396",
   "metadata": {},
   "outputs": [
    {
     "name": "stdout",
     "output_type": "stream",
     "text": [
      "17\n",
      "10\n",
      "0.3007836829693714\n",
      "14.755642434446973\n",
      "[3, 4, 2, 5, 1]\n"
     ]
    },
    {
     "data": {
      "text/plain": [
       "5"
      ]
     },
     "execution_count": 21,
     "metadata": {},
     "output_type": "execute_result"
    }
   ],
   "source": [
    "import random\n",
    "\n",
    "#정수\n",
    "print(random.randint(10,20))   #    10<= N <=20 중 정수 1개 임의추출\n",
    "print(random.randrange(10,20,2))  # 10<= N <20 2씩 증가 정수 중 1개 임의추출\n",
    "\n",
    "#실수\n",
    "print(random.random())         #0~1사이의 임의의 실수\n",
    "print(random.uniform(10,20))   #10<=N<=20 사이의 임의의 실수\n",
    "\n",
    "a_list = [1,2,3,4,5]   # list(range(1,6))\n",
    "random.shuffle(a_list)\n",
    "print(a_list)\n",
    "\n",
    "random.choice(a_list)"
   ]
  },
  {
   "cell_type": "markdown",
   "id": "6a81d356",
   "metadata": {},
   "source": [
    "### 실습문제: 주사위게임 "
   ]
  },
  {
   "cell_type": "code",
   "execution_count": 26,
   "id": "5c145c8f",
   "metadata": {},
   "outputs": [
    {
     "name": "stdout",
     "output_type": "stream",
     "text": [
      "주사위를 던집니다!\n",
      "___________________________\n",
      "A의 숫자는 3입니다\n",
      "B의 숫자는 6입니다\n",
      "___________________________\n",
      "B가 이겼습니다.\n"
     ]
    }
   ],
   "source": [
    "import random\n",
    "\n",
    "dice1 = random.randint(1,6)  # randrange(1,7)\n",
    "dice2 = random.randint(1,6)\n",
    "\n",
    "print('주사위를 던집니다!\\n___________________________')\n",
    "print(f'A의 숫자는 {dice1}입니다')\n",
    "print(f'B의 숫자는 {dice2}입니다')\n",
    "print('___________________________')\n",
    "\n",
    "if dice1 == dice2 :\n",
    "    print('무승부')\n",
    "elif dice1 > dice2 :\n",
    "    print('A가 이겼습니다.')\n",
    "elif dice1 < dice2 :\n",
    "    print('B가 이겼습니다.')"
   ]
  },
  {
   "cell_type": "markdown",
   "id": "0d4a8d6c",
   "metadata": {},
   "source": [
    "## 2. for 반복문"
   ]
  },
  {
   "cell_type": "code",
   "execution_count": 43,
   "id": "732b32b1",
   "metadata": {},
   "outputs": [
    {
     "name": "stdout",
     "output_type": "stream",
     "text": [
      "[11] python\n",
      "[12] python\n",
      "[13] python\n",
      "[14] python\n",
      "[15] python\n",
      "[16] python\n",
      "[17] python\n",
      "[18] python\n",
      "[19] python\n",
      "[20] python\n"
     ]
    }
   ],
   "source": [
    "#range\n",
    "#range(10)     # 10번\n",
    "#range(1,11,1) # 10번\n",
    "#range(1,11,2) # 2씩 증가 :  1, 3, 5, 7, 9 \n",
    "\n",
    "for i in range(11,21):\n",
    "    print(f'[{i}] python')"
   ]
  },
  {
   "cell_type": "code",
   "execution_count": 42,
   "id": "44ee4dc9",
   "metadata": {},
   "outputs": [
    {
     "name": "stdout",
     "output_type": "stream",
     "text": [
      "[apple] python\n",
      "[b] python\n",
      "[c] python\n",
      "[d] python\n",
      "[e] python\n",
      "[f] python\n",
      "[g] python\n",
      "[h] python\n",
      "[i] python\n",
      "[j] python\n",
      "\n",
      "[0] [apple] python\n",
      "[1] [b] python\n",
      "[2] [c] python\n",
      "[3] [d] python\n",
      "[4] [e] python\n",
      "[5] [f] python\n",
      "[6] [g] python\n",
      "[7] [h] python\n",
      "[8] [i] python\n",
      "[9] [j] python\n"
     ]
    }
   ],
   "source": [
    "#alist = [0,1,2,3,4,5,6,7,8,9]\n",
    "alist = ['apple','b','c','d','e','f','g','h','i','j']\n",
    "\n",
    "for i in alist:\n",
    "    print(f'[{i}] python')\n",
    "print()    \n",
    "for i, value in enumerate(alist):\n",
    "    print(f'[{i}] [{value}] python')"
   ]
  },
  {
   "cell_type": "code",
   "execution_count": 44,
   "id": "2a019fb9",
   "metadata": {},
   "outputs": [
    {
     "name": "stdout",
     "output_type": "stream",
     "text": [
      "python\n",
      "python\n",
      "python\n",
      "python\n",
      "python\n",
      "python\n",
      "python\n",
      "python\n",
      "python\n",
      "python\n"
     ]
    }
   ],
   "source": [
    "for _ in alist:\n",
    "    print(f'python')"
   ]
  },
  {
   "cell_type": "code",
   "execution_count": 45,
   "id": "f66d3dea",
   "metadata": {},
   "outputs": [
    {
     "name": "stdout",
     "output_type": "stream",
     "text": [
      "1~10까지 합: 55\n"
     ]
    }
   ],
   "source": [
    "# 1~10까지 합 구하기\n",
    "hap = 0\n",
    "for i in range(1,11,1):\n",
    "    hap = hap + i\n",
    "print(f'1~10까지 합: {hap}')"
   ]
  },
  {
   "cell_type": "code",
   "execution_count": 46,
   "id": "1c8788ff",
   "metadata": {},
   "outputs": [
    {
     "data": {
      "text/plain": [
       "55"
      ]
     },
     "execution_count": 46,
     "metadata": {},
     "output_type": "execute_result"
    }
   ],
   "source": [
    "sum(list(range(1,11)))"
   ]
  },
  {
   "cell_type": "code",
   "execution_count": 47,
   "id": "af92a2df",
   "metadata": {},
   "outputs": [
    {
     "name": "stdout",
     "output_type": "stream",
     "text": [
      "리스트([70, 30, 40, 30, 50])의 모든 요소의 합은: 220\n"
     ]
    }
   ],
   "source": [
    "# 리스트의 요소의 합 구하기\n",
    "a_list = [70,30,40,30,50]\n",
    "hap = 0\n",
    "for i in a_list:\n",
    "    hap = hap + i\n",
    "print(f'리스트({a_list})의 모든 요소의 합은: {hap}')"
   ]
  },
  {
   "cell_type": "code",
   "execution_count": 50,
   "id": "f33d9915",
   "metadata": {},
   "outputs": [
    {
     "data": {
      "text/plain": [
       "220"
      ]
     },
     "execution_count": 50,
     "metadata": {},
     "output_type": "execute_result"
    }
   ],
   "source": [
    "sum(a_list)  #리스트 요소의 합계"
   ]
  },
  {
   "cell_type": "code",
   "execution_count": 51,
   "id": "587f546e",
   "metadata": {},
   "outputs": [
    {
     "data": {
      "text/plain": [
       "30"
      ]
     },
     "execution_count": 51,
     "metadata": {},
     "output_type": "execute_result"
    }
   ],
   "source": [
    "min(a_list)  #리스트 요소의 최소값"
   ]
  },
  {
   "cell_type": "code",
   "execution_count": 52,
   "id": "38c50346",
   "metadata": {},
   "outputs": [
    {
     "data": {
      "text/plain": [
       "70"
      ]
     },
     "execution_count": 52,
     "metadata": {},
     "output_type": "execute_result"
    }
   ],
   "source": [
    "max(a_list)   #리스트 요소의 최대값"
   ]
  },
  {
   "cell_type": "code",
   "execution_count": 53,
   "id": "275c9542",
   "metadata": {},
   "outputs": [
    {
     "data": {
      "text/plain": [
       "5"
      ]
     },
     "execution_count": 53,
     "metadata": {},
     "output_type": "execute_result"
    }
   ],
   "source": [
    "len(a_list)  #리스트 요소의 개수=리스트 길이"
   ]
  },
  {
   "cell_type": "markdown",
   "id": "0a0f1b8e",
   "metadata": {},
   "source": [
    "### 실습문제: 1~N까지의 합 구하기"
   ]
  },
  {
   "cell_type": "code",
   "execution_count": 48,
   "id": "08a62ba0",
   "metadata": {},
   "outputs": [
    {
     "name": "stdout",
     "output_type": "stream",
     "text": [
      "합계를 구할 숫자 입력: 100\n",
      "1~100까지의 합은: 5050\n"
     ]
    }
   ],
   "source": [
    "n = int(input('합계를 구할 숫자 입력: '))\n",
    "hap = 0\n",
    "for i in range(1, n+1):\n",
    "    hap = hap + i\n",
    "print(f'1~{n}까지의 합은: {hap}')"
   ]
  },
  {
   "cell_type": "markdown",
   "id": "8a83dbf4",
   "metadata": {},
   "source": [
    "### 실습문제: 1~N까지 짝수를 제외한 합 구하기"
   ]
  },
  {
   "cell_type": "code",
   "execution_count": 49,
   "id": "f59fbc82",
   "metadata": {},
   "outputs": [
    {
     "name": "stdout",
     "output_type": "stream",
     "text": [
      "합계를 구할 숫자를 입력하시오 :100\n",
      "1부터 100까지 홀수의 합은 2500다.\n"
     ]
    }
   ],
   "source": [
    "n = int(input('합계를 구할 숫자를 입력하시오 :'))\n",
    "hap=0\n",
    "for i in range(1,n+1,2) :\n",
    "    hap += i\n",
    "print(f\"1부터 {n}까지 홀수의 합은 {hap}다.\")"
   ]
  },
  {
   "cell_type": "markdown",
   "id": "86007406",
   "metadata": {},
   "source": [
    "### 실습문제: 구구단 출력"
   ]
  },
  {
   "cell_type": "code",
   "execution_count": 56,
   "id": "aae6dd31",
   "metadata": {},
   "outputs": [
    {
     "name": "stdout",
     "output_type": "stream",
     "text": [
      "구구단 계산기입니다. 몇단을 출력할까요5\n",
      "---5단---\n",
      " 5 * 1 = 5\n",
      " 5 * 2 = 10\n",
      " 5 * 3 = 15\n",
      " 5 * 4 = 20\n",
      " 5 * 5 = 25\n",
      " 5 * 6 = 30\n",
      " 5 * 7 = 35\n",
      " 5 * 8 = 40\n",
      " 5 * 9 = 45\n"
     ]
    }
   ],
   "source": [
    "n = int(input('구구단 계산기입니다. 몇단을 출력할까요'))\n",
    "\n",
    "print(f'---{n}단---')\n",
    "for i in range(1,10,1):\n",
    "    nn = n * i\n",
    "    print(f' {n} * {i} = {nn}')"
   ]
  },
  {
   "cell_type": "code",
   "execution_count": null,
   "id": "22ba2738",
   "metadata": {},
   "outputs": [],
   "source": []
  }
 ],
 "metadata": {
  "kernelspec": {
   "display_name": "Python 3 (ipykernel)",
   "language": "python",
   "name": "python3"
  },
  "language_info": {
   "codemirror_mode": {
    "name": "ipython",
    "version": 3
   },
   "file_extension": ".py",
   "mimetype": "text/x-python",
   "name": "python",
   "nbconvert_exporter": "python",
   "pygments_lexer": "ipython3",
   "version": "3.8.10"
  }
 },
 "nbformat": 4,
 "nbformat_minor": 5
}
