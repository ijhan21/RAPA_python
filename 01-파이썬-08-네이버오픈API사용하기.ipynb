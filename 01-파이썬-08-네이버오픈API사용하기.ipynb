{
 "cells": [
  {
   "cell_type": "markdown",
   "metadata": {},
   "source": [
    "# 8.네이버 오픈API 사용하기"
   ]
  },
  {
   "cell_type": "markdown",
   "metadata": {},
   "source": [
    "### 책 검색\n",
    " - 책검색 https://book.naver.com/\n",
    " - 네이버오픈API https://developers.naver.com/products/intro/plan/ \n",
    " - API사용신청 https://developers.naver.com/apps/#/register \n"
   ]
  },
  {
   "cell_type": "code",
   "execution_count": 1,
   "metadata": {},
   "outputs": [
    {
     "name": "stdout",
     "output_type": "stream",
     "text": [
      "검색 도서명: 우분투\n",
      "\n",
      "제목: 이것이 <b>우분투</b> 리눅스다(개정판) (<b>우분투</b> 리눅스 설치부터 네트워크와 서버 구축, 운영까지)\n",
      "저자: 우재남\n",
      "설명: <b>우분투</b> 리눅스를 학습하기 위한 최적의 환경에서\n",
      "현장감 넘치는 실무를 경험해보자!<b>우분투</b> 리눅스는 데비안 리눅스를 기초로 그놈(GNOME) 데스크톱 환경을 사용하는 리눅스 배포판이다. <b>우분투</b>는 쉽고 편리한 프로그램 설치와 이용 방법 때문에 개인이나 기업에게 가장 인기가 많은 리눅스로 평가받고... \n",
      "url: http://book.naver.com/bookdb/book_detail.php?bid=16893958\n",
      "\n",
      "\n",
      "\n",
      "제목: <b>우분투</b> 리눅스 (시스템 & 네트워크)\n",
      "저자: 이종원\n",
      "설명: 탄탄한 기본 이론과 체계적인 실습으로 배우는 <b>우분투</b> 리눅스\n",
      "1.리눅스에 대한 기본 지식을 쌓고자 하는 누구나 볼 수 있다. \n",
      "2.리눅스 입문에 꼭 필요한... 아니라 리눅스 시스템 관리자를 위한 다양한 명령의 사용법을 예제와 함께 자세히 설명한다.\n",
      "3.리눅스 관련 최신 내용과 <b>우분투</b> 최신 기술을 적용했다.\n",
      "url: http://book.naver.com/bookdb/book_detail.php?bid=13358802\n",
      "\n",
      "\n",
      "\n",
      "제목: <b>우분투</b> 수입 (미래를 바라보는 새로운 눈)\n",
      "저자: 김종규\n",
      "설명: 알려왔던〈<b>우분투</b> 수입〉평생 돈이 마르지 않는 비밀과 노하우! 드디어 출간. 김종규 박사는 25년 동안... 그는 ≪<b>우분투</b> 수입≫에서 ‘네트워크 비즈니스’ 즉 선진국형 사업인 네트워크 사업을 제안한다.... 네트워크 비즈니스의 성공 방식은 일반적인 성공 공식과 다르며 <b>우분투</b> 정신에 바탕을 둔 성공의 본질을... \n",
      "url: http://book.naver.com/bookdb/book_detail.php?bid=12257400\n",
      "\n",
      "\n"
     ]
    }
   ],
   "source": [
    "import urllib.request\n",
    "import json\n",
    "\n",
    "#------------------------------------\n",
    "# 네이버 애플리케이션 등록 정보\n",
    "#------------------------------------\n",
    "Client_ID = \"WlIpA7IkqcaBRP6XKyUk\"  # 자신의 client id \n",
    "Client_Secret = \"pIew6Mp_Fr\"    # 자신의 client secret\n",
    "\n",
    "#------------------------------------\n",
    "#  검색어 입력받아 네이버검색 url 설정\n",
    "#------------------------------------\n",
    "# 검색어 입력\n",
    "title = input(\"검색 도서명: \")\n",
    "\n",
    "# url설정\n",
    "url = \"https://openapi.naver.com/v1/search/book.json\"\n",
    "option = \"&display=3&sort=count\"    \n",
    "query = \"?query=\"+urllib.parse.quote(title)\n",
    "url_query = url + query + option\n",
    "    \n",
    "#Open API 검색 요청 개체 설정\n",
    "request = urllib.request.Request(url_query)\n",
    "request.add_header(\"X-Naver-Client-Id\", Client_ID)\n",
    "request.add_header(\"X-Naver-Client-Secret\", Client_Secret)\n",
    "\n",
    "#------------------------------------\n",
    "# 검색 요청 및 처리\n",
    "#------------------------------------\n",
    "response = urllib.request.urlopen(request)\n",
    "rescode = response.getcode()\n",
    "if(rescode == 200):\n",
    "    result = response.read().decode('utf-8')\n",
    "    #print(result) # result에 어떤 값이 들어 있는지 확인해 보기\n",
    "else:\n",
    "    print(\"검색에 실패하였습니다.\")\n",
    "    exit()\n",
    "\n",
    "#------------------------------------\n",
    "# 검색 결과 parsing 해서 보기좋게 출력하기\n",
    "#------------------------------------\n",
    "j_result = json.loads(result)   #검색 결과를 json타입으로 보여주기\n",
    "if j_result == None:\n",
    "    print(\"json.loads 실패하였습니다.\")\n",
    "    exit()\n",
    "#print(j_result) # j_result에 어떤 값이 들어 있는지 확인해 보기\n",
    " \n",
    "# j_result의 결과 중 도서 정보가 담긴 items 항목의 내용을 parsing한다.\n",
    "for item in j_result['items']:\n",
    "    print(\"\\n제목: \" + item['title'])\n",
    "    print(\"저자: \" + item['author'])\n",
    "    print(\"설명: \" + item['description'])\n",
    "    print(\"url: \" + item['link'])\n",
    "    print(\"\\n\")\n"
   ]
  },
  {
   "cell_type": "code",
   "execution_count": null,
   "metadata": {},
   "outputs": [],
   "source": []
  }
 ],
 "metadata": {
  "kernelspec": {
   "display_name": "Python 3 (ipykernel)",
   "language": "python",
   "name": "python3"
  },
  "language_info": {
   "codemirror_mode": {
    "name": "ipython",
    "version": 3
   },
   "file_extension": ".py",
   "mimetype": "text/x-python",
   "name": "python",
   "nbconvert_exporter": "python",
   "pygments_lexer": "ipython3",
   "version": "3.8.10"
  }
 },
 "nbformat": 4,
 "nbformat_minor": 4
}
