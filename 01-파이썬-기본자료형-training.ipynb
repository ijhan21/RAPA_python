{
 "cells": [
  {
   "cell_type": "code",
   "execution_count": 29,
   "id": "c25f47b3",
   "metadata": {},
   "outputs": [],
   "source": [
    "import logging\n",
    "\n",
    "logger = logging.getLogger(\"hans\")\n",
    "logger.setLevel(logging.DEBUG)\n",
    "\n",
    "fileHandler = logging.FileHandler(\"./log%s.log\"%time.strftime('%Y%m%d'))\n",
    "streamHandler = logging.StreamHandler()\n",
    "\n",
    "logger.addHandler(fileHandler)\n",
    "logger.addHandler(streamHandler)"
   ]
  },
  {
   "cell_type": "code",
   "execution_count": 10,
   "id": "ada3ee07",
   "metadata": {},
   "outputs": [],
   "source": [
    "import datetime\n",
    "import time"
   ]
  },
  {
   "cell_type": "code",
   "execution_count": 18,
   "id": "5f80fe82",
   "metadata": {},
   "outputs": [
    {
     "data": {
      "text/plain": [
       "<function struct_time.index(value, start=0, stop=9223372036854775807, /)>"
      ]
     },
     "execution_count": 18,
     "metadata": {},
     "output_type": "execute_result"
    }
   ],
   "source": [
    "time.localtime().index"
   ]
  },
  {
   "cell_type": "code",
   "execution_count": 22,
   "id": "bd769809",
   "metadata": {},
   "outputs": [
    {
     "data": {
      "text/plain": [
       "'20210823'"
      ]
     },
     "execution_count": 22,
     "metadata": {},
     "output_type": "execute_result"
    }
   ],
   "source": [
    "time.strftime('%Y%m%d')"
   ]
  },
  {
   "cell_type": "code",
   "execution_count": 27,
   "id": "f1467067",
   "metadata": {},
   "outputs": [
    {
     "data": {
      "text/plain": [
       "'./loghh.log'"
      ]
     },
     "execution_count": 27,
     "metadata": {},
     "output_type": "execute_result"
    }
   ],
   "source": [
    "\"./log%s.log\"%(\"hh\")"
   ]
  },
  {
   "cell_type": "code",
   "execution_count": 44,
   "id": "2bcfd34f",
   "metadata": {},
   "outputs": [],
   "source": [
    "a = 0x1c"
   ]
  },
  {
   "cell_type": "code",
   "execution_count": 37,
   "id": "2be944ee",
   "metadata": {},
   "outputs": [],
   "source": [
    "b = 0o13"
   ]
  },
  {
   "cell_type": "code",
   "execution_count": 40,
   "id": "3d856fea",
   "metadata": {},
   "outputs": [
    {
     "data": {
      "text/plain": [
       "(17, 11)"
      ]
     },
     "execution_count": 40,
     "metadata": {},
     "output_type": "execute_result"
    }
   ],
   "source": [
    "a, b"
   ]
  },
  {
   "cell_type": "code",
   "execution_count": 46,
   "id": "119be78b",
   "metadata": {},
   "outputs": [
    {
     "data": {
      "text/plain": [
       "28"
      ]
     },
     "execution_count": 46,
     "metadata": {},
     "output_type": "execute_result"
    }
   ],
   "source": [
    "a"
   ]
  },
  {
   "cell_type": "code",
   "execution_count": 55,
   "id": "2f3be438",
   "metadata": {
    "scrolled": true
   },
   "outputs": [
    {
     "data": {
      "text/plain": [
       "'0b1100100'"
      ]
     },
     "execution_count": 55,
     "metadata": {},
     "output_type": "execute_result"
    }
   ],
   "source": [
    "bin(100)"
   ]
  },
  {
   "cell_type": "code",
   "execution_count": 56,
   "id": "ed3f1db2",
   "metadata": {},
   "outputs": [
    {
     "data": {
      "text/plain": [
       "'0o144'"
      ]
     },
     "execution_count": 56,
     "metadata": {},
     "output_type": "execute_result"
    }
   ],
   "source": [
    "oct(100)"
   ]
  },
  {
   "cell_type": "code",
   "execution_count": 57,
   "id": "feac697e",
   "metadata": {},
   "outputs": [
    {
     "data": {
      "text/plain": [
       "'0x64'"
      ]
     },
     "execution_count": 57,
     "metadata": {},
     "output_type": "execute_result"
    }
   ],
   "source": [
    "hex(100)"
   ]
  },
  {
   "cell_type": "code",
   "execution_count": 60,
   "id": "0367c663",
   "metadata": {},
   "outputs": [
    {
     "name": "stderr",
     "output_type": "stream",
     "text": [
      "0xc8\n"
     ]
    }
   ],
   "source": [
    "logger.debug(hex(200))"
   ]
  },
  {
   "cell_type": "code",
   "execution_count": 65,
   "id": "1f44a295",
   "metadata": {
    "scrolled": true
   },
   "outputs": [
    {
     "name": "stdout",
     "output_type": "stream",
     "text": [
      "Yes, I\"can!\n"
     ]
    }
   ],
   "source": [
    "print('Yes, I\"can!')"
   ]
  },
  {
   "cell_type": "code",
   "execution_count": 1,
   "id": "f85b57fc",
   "metadata": {},
   "outputs": [],
   "source": [
    "import logging\n",
    "import time\n",
    "\n",
    "logger = logging.getLogger(\"hans\")\n",
    "logger.setLevel(logging.DEBUG)\n",
    "\n",
    "#formatter 생성\n",
    "formatter = logging.Formatter('[%(levelname)s|%(filename)s:%(lineno)s] %(asctime)s > %(message)s')\n",
    "\n",
    "fileHandler = logging.FileHandler(\"./log%s.log\"%time.strftime('%Y%m%d'))\n",
    "streamHandler = logging.StreamHandler()\n",
    "\n",
    "fileHandler.setFormatter(formatter)\n",
    "streamHandler.setFormatter(formatter)\n",
    "\n",
    "logger.addHandler(fileHandler)\n",
    "logger.addHandler(streamHandler)"
   ]
  },
  {
   "cell_type": "code",
   "execution_count": 16,
   "id": "70339cc7",
   "metadata": {},
   "outputs": [
    {
     "name": "stderr",
     "output_type": "stream",
     "text": [
      "[DEBUG|3833456531.py:1] 2021-08-23 14:55:56,915 > hello\n"
     ]
    }
   ],
   "source": [
    "logger.debug(\"hello\")"
   ]
  },
  {
   "cell_type": "code",
   "execution_count": 8,
   "id": "4d263bdd",
   "metadata": {
    "scrolled": true
   },
   "outputs": [
    {
     "name": "stdout",
     "output_type": "stream",
     "text": [
      "Python 3.8.10\n"
     ]
    }
   ],
   "source": [
    "'[%(levelname)s|%(filename)s:%(lineno)s] %(asctime)s > %(message)s'\n"
   ]
  },
  {
   "cell_type": "markdown",
   "id": "22519733",
   "metadata": {},
   "source": [
    "# 실습문제"
   ]
  },
  {
   "cell_type": "code",
   "execution_count": 5,
   "id": "172fca17",
   "metadata": {},
   "outputs": [
    {
     "name": "stdout",
     "output_type": "stream",
     "text": [
      "속도를 입력해 주세요: 200\n",
      "거리를 입력해 주세요: 50\n",
      "속도= 200\n",
      "거리= 50\n",
      "시간= 50 / 200 = 0.2\n"
     ]
    }
   ],
   "source": [
    "v = int(input(\"속도를 입력해 주세요: \"))\n",
    "d = int(input(\"거리를 입력해 주세요: \"))\n",
    "print(\"속도= %d\"%v)\n",
    "print(\"거리= %d\"%d)\n",
    "print(\"시간= %d / %d = %.1f\"%(d, v, d/v))"
   ]
  },
  {
   "cell_type": "code",
   "execution_count": 9,
   "id": "5d7bb542",
   "metadata": {
    "scrolled": true
   },
   "outputs": [
    {
     "name": "stdout",
     "output_type": "stream",
     "text": [
      "f\n",
      "17\n"
     ]
    }
   ],
   "source": [
    "print(\"%x\"%15)\n",
    "print(\"%o\"%15)"
   ]
  },
  {
   "cell_type": "code",
   "execution_count": 11,
   "id": "4968cfd6",
   "metadata": {
    "scrolled": true
   },
   "outputs": [
    {
     "name": "stdout",
     "output_type": "stream",
     "text": [
      "길이: 100\n",
      "너비: 20\n",
      "면적= 100 * 20 = 2000\n",
      "둘레= 100*2 * 20*2 = 240\n"
     ]
    }
   ],
   "source": [
    "v = int(input(\"길이: \"))\n",
    "d = int(input(\"너비: \"))\n",
    "print(\"면적= %d * %d = %d\"%(v,d,v*d))\n",
    "print(\"둘레= %d*2 * %d*2 = %d\"%(v,d,2*(v+d)))"
   ]
  },
  {
   "cell_type": "code",
   "execution_count": 36,
   "id": "8a4a50aa",
   "metadata": {},
   "outputs": [
    {
     "name": "stdout",
     "output_type": "stream",
     "text": [
      "정수를 입력하세요 : 7\n",
      "7 + 77  + 777  + 7777  + 77777  + 777777  + 7777777  + 77777777  + 777777777  + 7777777777  + 77777777777  + 777777777777  + 7777777777777  + 77777777777777  + 777777777777777  + 7777777777777777  + 77777777777777777  + 777777777777777777  + 7777777777777777777  + 77777777777777777777  + 777777777777777777777  + 7777777777777777777777  + 77777777777777777777777  + 777777777777777777777777  + 7777777777777777777777777  + 77777777777777777777777777  + 777777777777777777777777777  + 7777777777777777777777777777  + 77777777777777777777777777777  + 777777777777777777777777777777  + 7777777777777777777777777777777  + 77777777777777777777777777777777  + 777777777777777777777777777777777  + 7777777777777777777777777777777777  + 77777777777777777777777777777777777  + 777777777777777777777777777777777777  + 7777777777777777777777777777777777777  + 77777777777777777777777777777777777777  + 777777777777777777777777777777777777777  + 7777777777777777777777777777777777777777  + 77777777777777777777777777777777777777777  + 777777777777777777777777777777777777777777  + 7777777777777777777777777777777777777777777  + 77777777777777777777777777777777777777777777  + 777777777777777777777777777777777777777777777  + 7777777777777777777777777777777777777777777777  + 77777777777777777777777777777777777777777777777  + 777777777777777777777777777777777777777777777777  + 7777777777777777777777777777777777777777777777777  + 77777777777777777777777777777777777777777777777777  + 777777777777777777777777777777777777777777777777777  + 7777777777777777777777777777777777777777777777777777  + 77777777777777777777777777777777777777777777777777777  + 777777777777777777777777777777777777777777777777777777  + 7777777777777777777777777777777777777777777777777777777  + 77777777777777777777777777777777777777777777777777777777  + 777777777777777777777777777777777777777777777777777777777  + 7777777777777777777777777777777777777777777777777777777777  + 77777777777777777777777777777777777777777777777777777777777  + 777777777777777777777777777777777777777777777777777777777777  + 7777777777777777777777777777777777777777777777777777777777777  + 77777777777777777777777777777777777777777777777777777777777777  + 777777777777777777777777777777777777777777777777777777777777777  + 7777777777777777777777777777777777777777777777777777777777777777  + 77777777777777777777777777777777777777777777777777777777777777777  + 777777777777777777777777777777777777777777777777777777777777777777  + 7777777777777777777777777777777777777777777777777777777777777777777  + 77777777777777777777777777777777777777777777777777777777777777777777  + 777777777777777777777777777777777777777777777777777777777777777777777  + 7777777777777777777777777777777777777777777777777777777777777777777777  + 77777777777777777777777777777777777777777777777777777777777777777777777  + 777777777777777777777777777777777777777777777777777777777777777777777777  + 7777777777777777777777777777777777777777777777777777777777777777777777777  + 77777777777777777777777777777777777777777777777777777777777777777777777777  + 777777777777777777777777777777777777777777777777777777777777777777777777777  + 7777777777777777777777777777777777777777777777777777777777777777777777777777  + 77777777777777777777777777777777777777777777777777777777777777777777777777777  + 777777777777777777777777777777777777777777777777777777777777777777777777777777  + 7777777777777777777777777777777777777777777777777777777777777777777777777777777  + 77777777777777777777777777777777777777777777777777777777777777777777777777777777  + 777777777777777777777777777777777777777777777777777777777777777777777777777777777  + 7777777777777777777777777777777777777777777777777777777777777777777777777777777777  + 77777777777777777777777777777777777777777777777777777777777777777777777777777777777  + 777777777777777777777777777777777777777777777777777777777777777777777777777777777777  + 7777777777777777777777777777777777777777777777777777777777777777777777777777777777777  + 77777777777777777777777777777777777777777777777777777777777777777777777777777777777777  + 777777777777777777777777777777777777777777777777777777777777777777777777777777777777777  + 7777777777777777777777777777777777777777777777777777777777777777777777777777777777777777  + 77777777777777777777777777777777777777777777777777777777777777777777777777777777777777777  + 777777777777777777777777777777777777777777777777777777777777777777777777777777777777777777  + 7777777777777777777777777777777777777777777777777777777777777777777777777777777777777777777  + 77777777777777777777777777777777777777777777777777777777777777777777777777777777777777777777  + 777777777777777777777777777777777777777777777777777777777777777777777777777777777777777777777  + 7777777777777777777777777777777777777777777777777777777777777777777777777777777777777777777777  + 77777777777777777777777777777777777777777777777777777777777777777777777777777777777777777777777  + 777777777777777777777777777777777777777777777777777777777777777777777777777777777777777777777777  + 7777777777777777777777777777777777777777777777777777777777777777777777777777777777777777777777777  + 77777777777777777777777777777777777777777777777777777777777777777777777777777777777777777777777777  + 777777777777777777777777777777777777777777777777777777777777777777777777777777777777777777777777777  + 7777777777777777777777777777777777777777777777777777777777777777777777777777777777777777777777777777  = 8641975308641975308641975308641975308641975308641975308641975308641975308641975308641975308641975230\n"
     ]
    }
   ],
   "source": [
    "num = input(\"정수를 입력하세요 : \")\n",
    "nums_list=list()\n",
    "num_len = 100\n",
    "for i in range(num_len):\n",
    "    nums_list.append(num*(i+1))\n",
    "nums =list(map(int, nums_list))\n",
    "nums.append(sum(nums))\n",
    "massage = \"%d\"\n",
    "for i in range(num_len-1):\n",
    "    massage+=\" + %d \"\n",
    "massage += \" = %d\"\n",
    "massage = massage%tuple(nums)\n",
    "print(massage)"
   ]
  },
  {
   "cell_type": "code",
   "execution_count": 42,
   "id": "30c17b78",
   "metadata": {},
   "outputs": [],
   "source": [
    "def func(num):\n",
    "    if num%3 ==0:\n",
    "        return True\n",
    "    return False\n",
    "nums = list(range(100))"
   ]
  },
  {
   "cell_type": "code",
   "execution_count": 46,
   "id": "54ce94c3",
   "metadata": {},
   "outputs": [],
   "source": [
    "outputs = list(filter(func, nums))"
   ]
  },
  {
   "cell_type": "code",
   "execution_count": 47,
   "id": "d65d9c4e",
   "metadata": {
    "scrolled": true
   },
   "outputs": [
    {
     "data": {
      "text/plain": [
       "[0,\n",
       " 3,\n",
       " 6,\n",
       " 9,\n",
       " 12,\n",
       " 15,\n",
       " 18,\n",
       " 21,\n",
       " 24,\n",
       " 27,\n",
       " 30,\n",
       " 33,\n",
       " 36,\n",
       " 39,\n",
       " 42,\n",
       " 45,\n",
       " 48,\n",
       " 51,\n",
       " 54,\n",
       " 57,\n",
       " 60,\n",
       " 63,\n",
       " 66,\n",
       " 69,\n",
       " 72,\n",
       " 75,\n",
       " 78,\n",
       " 81,\n",
       " 84,\n",
       " 87,\n",
       " 90,\n",
       " 93,\n",
       " 96,\n",
       " 99]"
      ]
     },
     "execution_count": 47,
     "metadata": {},
     "output_type": "execute_result"
    }
   ],
   "source": [
    "outputs"
   ]
  },
  {
   "cell_type": "code",
   "execution_count": 48,
   "id": "88cd18f2",
   "metadata": {},
   "outputs": [
    {
     "data": {
      "text/plain": [
       "('h', 'e', 'l', 'l', 'o')"
      ]
     },
     "execution_count": 48,
     "metadata": {},
     "output_type": "execute_result"
    }
   ],
   "source": [
    "tuple(\"hello\")"
   ]
  },
  {
   "cell_type": "code",
   "execution_count": 49,
   "id": "b49b2e70",
   "metadata": {},
   "outputs": [
    {
     "data": {
      "text/plain": [
       "['h', 'e', 'l', 'l', 'o']"
      ]
     },
     "execution_count": 49,
     "metadata": {},
     "output_type": "execute_result"
    }
   ],
   "source": [
    "list(\"hello\")"
   ]
  }
 ],
 "metadata": {
  "kernelspec": {
   "display_name": "Python 3 (ipykernel)",
   "language": "python",
   "name": "python3"
  },
  "language_info": {
   "codemirror_mode": {
    "name": "ipython",
    "version": 3
   },
   "file_extension": ".py",
   "mimetype": "text/x-python",
   "name": "python",
   "nbconvert_exporter": "python",
   "pygments_lexer": "ipython3",
   "version": "3.8.10"
  }
 },
 "nbformat": 4,
 "nbformat_minor": 5
}
