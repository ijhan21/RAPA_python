{
 "cells": [
  {
   "cell_type": "markdown",
   "id": "161c796b",
   "metadata": {},
   "source": [
    "## 함수"
   ]
  },
  {
   "cell_type": "markdown",
   "id": "da3a4236",
   "metadata": {},
   "source": [
    "### 함수 정의"
   ]
  },
  {
   "cell_type": "code",
   "execution_count": 1,
   "id": "2a695792",
   "metadata": {},
   "outputs": [
    {
     "data": {
      "text/plain": [
       "7"
      ]
     },
     "execution_count": 1,
     "metadata": {},
     "output_type": "execute_result"
    }
   ],
   "source": [
    "def add(p1, p2):\n",
    "    result = p1 + p2\n",
    "    return result\n",
    "\n",
    "add(3, 4)"
   ]
  },
  {
   "cell_type": "code",
   "execution_count": 2,
   "id": "b2278d83",
   "metadata": {},
   "outputs": [
    {
     "data": {
      "text/plain": [
       "7"
      ]
     },
     "execution_count": 2,
     "metadata": {},
     "output_type": "execute_result"
    }
   ],
   "source": [
    "def add(p1, p2):\n",
    "    return p1 + p2\n",
    "\n",
    "add(3, 4)"
   ]
  },
  {
   "cell_type": "code",
   "execution_count": 3,
   "id": "6da1b439",
   "metadata": {},
   "outputs": [
    {
     "name": "stdout",
     "output_type": "stream",
     "text": [
      "7\n"
     ]
    }
   ],
   "source": [
    "def add(p1, p2):\n",
    "    print(f'{p1 + p2}')\n",
    "    \n",
    "add(3, 4)"
   ]
  },
  {
   "cell_type": "code",
   "execution_count": 4,
   "id": "1c867f76",
   "metadata": {},
   "outputs": [
    {
     "data": {
      "text/plain": [
       "'Python'"
      ]
     },
     "execution_count": 4,
     "metadata": {},
     "output_type": "execute_result"
    }
   ],
   "source": [
    "def add():\n",
    "    return \"Python\"\n",
    "\n",
    "add()"
   ]
  },
  {
   "cell_type": "markdown",
   "id": "c586570d",
   "metadata": {},
   "source": [
    "### 실습문제: 사칙연산 함수 만들기"
   ]
  },
  {
   "cell_type": "code",
   "execution_count": 5,
   "id": "141f7e70",
   "metadata": {},
   "outputs": [
    {
     "name": "stdout",
     "output_type": "stream",
     "text": [
      "첫번째 숫자: 100\n",
      "두번째 숫자: 200\n",
      "연산 기호*\n",
      "결과---: 20000\n"
     ]
    }
   ],
   "source": [
    "def calc(n1, n2, op):\n",
    "    if op == '+':\n",
    "        return n1 + n2\n",
    "    if op == '-':\n",
    "        return n1 - n2\n",
    "    if op == '*':\n",
    "        return n1 * n2\n",
    "    if op == '/':\n",
    "        return n1 / n2   \n",
    "    \n",
    "\n",
    "num1 = int(input('첫번째 숫자: '))\n",
    "num2 = int(input('두번째 숫자: '))\n",
    "op = input('연산 기호')\n",
    "\n",
    "print('결과---: %s' % calc(num1, num2, op))"
   ]
  },
  {
   "cell_type": "code",
   "execution_count": 10,
   "id": "2519192f",
   "metadata": {
    "scrolled": true
   },
   "outputs": [
    {
     "name": "stdout",
     "output_type": "stream",
     "text": [
      "첫번째 숫자: 100\n",
      "두번째 숫자: 200\n",
      "연산 기호*\n",
      "20000\n",
      "결과---: None\n"
     ]
    }
   ],
   "source": [
    "def calc(n1, n2, op):\n",
    "    if op == '+':\n",
    "        print(n1 + n2)\n",
    "    if op == '-':\n",
    "        print(n1 - n2)\n",
    "    if op == '*':\n",
    "        print(n1 * n2)\n",
    "    if op == '/':\n",
    "        print(n1 / n2)      \n",
    "\n",
    "num1 = int(input('첫번째 숫자: '))\n",
    "num2 = int(input('두번째 숫자: '))\n",
    "op = input('연산 기호')\n",
    "\n",
    "print('결과---: %s' % calc(num1, num2, op))"
   ]
  },
  {
   "cell_type": "markdown",
   "id": "59e38357",
   "metadata": {},
   "source": [
    "### eval()"
   ]
  },
  {
   "cell_type": "code",
   "execution_count": 8,
   "id": "639c0967",
   "metadata": {},
   "outputs": [
    {
     "name": "stdout",
     "output_type": "stream",
     "text": [
      "첫번째 숫자: 100\n",
      "두번째 숫자: 200\n",
      "연산 기호//\n",
      "결과---: 연산기호가 잘못되었습니다.\n"
     ]
    }
   ],
   "source": [
    "def calc(n1, n2, op):\n",
    "    operator = ['+','-','*','/']\n",
    "    if op in operator:\n",
    "        return eval(n1+op+n2)  #'100*200'\n",
    "    else:\n",
    "        return \"연산기호가 잘못되었습니다.\"\n",
    "    \n",
    "\n",
    "num1 = input('첫번째 숫자: ')\n",
    "num2 = input('두번째 숫자: ')\n",
    "op = input('연산 기호')\n",
    "\n",
    "print('결과---: %s' % calc(num1, num2, op))"
   ]
  },
  {
   "cell_type": "code",
   "execution_count": 9,
   "id": "f2c0c4de",
   "metadata": {},
   "outputs": [
    {
     "data": {
      "text/plain": [
       "['+', '-', '*', '/']"
      ]
     },
     "execution_count": 9,
     "metadata": {},
     "output_type": "execute_result"
    }
   ],
   "source": [
    "operator = '+ - * /'\n",
    "operator.split(' ')"
   ]
  },
  {
   "cell_type": "code",
   "execution_count": 12,
   "id": "66e1cf3e",
   "metadata": {},
   "outputs": [
    {
     "data": {
      "text/plain": [
       "int"
      ]
     },
     "execution_count": 12,
     "metadata": {},
     "output_type": "execute_result"
    }
   ],
   "source": [
    "type(eval('3+4'))"
   ]
  },
  {
   "cell_type": "markdown",
   "id": "93779a2f",
   "metadata": {},
   "source": [
    "### 실습문제 : 포켓몬 함수 만들기 "
   ]
  },
  {
   "cell_type": "code",
   "execution_count": 14,
   "id": "02999851",
   "metadata": {},
   "outputs": [
    {
     "name": "stdout",
     "output_type": "stream",
     "text": [
      "Random choice item's 파이리\n"
     ]
    }
   ],
   "source": [
    "def get_random_item(items):\n",
    "    import random\n",
    "    return random.choice(items)\n",
    "    \n",
    "items = ['피카츄','라이츄','파이리','꼬부기','버터풀']\n",
    "print(f'Random choice item\\'s {get_random_item(items)}')"
   ]
  },
  {
   "cell_type": "markdown",
   "id": "dbd6079f",
   "metadata": {},
   "source": [
    "### 실습문제 : 로또번호 출력하기"
   ]
  },
  {
   "cell_type": "code",
   "execution_count": null,
   "id": "56b5ce94",
   "metadata": {},
   "outputs": [],
   "source": [
    "import random\n",
    "\n",
    "def lottoNumber():\n",
    "    \n",
    "    \n",
    "    \n",
    "print(\"** 로또 추첨을 시작합니다 **\\n\")\n",
    "print(f'로또번호: {lottoNumber()}')"
   ]
  },
  {
   "cell_type": "code",
   "execution_count": 18,
   "id": "21d85d93",
   "metadata": {},
   "outputs": [
    {
     "name": "stdout",
     "output_type": "stream",
     "text": [
      "**로또 추첨을 시작합니다. **\n",
      "\n",
      "로또번호: [15, 38, 43, 43, 44, 45]\n"
     ]
    }
   ],
   "source": [
    "import random\n",
    "print('**로또 추첨을 시작합니다. **\\n');\n",
    "def lottoNumber():\n",
    "    lot = [ random.randint(1,45) for i in range(6)] #--중복발생!!!\n",
    "    lot.sort()\n",
    "    return lot\n",
    "\n",
    "print(f'로또번호: {lottoNumber()}')"
   ]
  },
  {
   "cell_type": "code",
   "execution_count": 19,
   "id": "7f956802",
   "metadata": {},
   "outputs": [
    {
     "name": "stdout",
     "output_type": "stream",
     "text": [
      "로또번호: ('Good Luck !', [10, 12, 26, 34, 41, 43])\n"
     ]
    }
   ],
   "source": [
    "#방법1\n",
    "def lottoNumber():\n",
    "    import random\n",
    "    x = []\n",
    "    while True:\n",
    "        c = random.randint(1,45)\n",
    "        if len(x) == 6:\n",
    "            break\n",
    "        if c not in x:\n",
    "            x.append(c)\n",
    "    x.sort()\n",
    "    return 'Good Luck !',x\n",
    "    \n",
    "print(f'로또번호: {lottoNumber()}')"
   ]
  },
  {
   "cell_type": "code",
   "execution_count": 20,
   "id": "ca579701",
   "metadata": {
    "scrolled": true
   },
   "outputs": [
    {
     "name": "stdout",
     "output_type": "stream",
     "text": [
      "** 로또 추첨을 시작합니다. ** \n",
      "\n",
      "로또 번호: [5, 6, 10, 15, 25, 44]\n"
     ]
    }
   ],
   "source": [
    "#방법2\n",
    "import random\n",
    "print('** 로또 추첨을 시작합니다. ** \\n')\n",
    "\n",
    "def lottoNumber():\n",
    "    r_num = random.sample(range(1,46), 6)\n",
    "    r_num.sort()\n",
    "    return r_num\n",
    "\n",
    "print('로또 번호: %s'%lottoNumber())\n"
   ]
  },
  {
   "cell_type": "markdown",
   "id": "07725f81",
   "metadata": {},
   "source": [
    "### 실습문제: 환율정보 가져오기 함수로 만들기"
   ]
  },
  {
   "cell_type": "code",
   "execution_count": 21,
   "id": "fac5cb77",
   "metadata": {},
   "outputs": [
    {
     "name": "stdout",
     "output_type": "stream",
     "text": [
      "[환율정보 불러오기]\n",
      "-환율기준시간 : 2021.08.26 15:52 \n",
      "-달러 : 1,170.50 \n",
      "-위안 : 180.52 \n",
      "-유로 : 1,376.63 \n"
     ]
    }
   ],
   "source": [
    "import urllib.request\n",
    "import ssl\n",
    "\n",
    "context = ssl._create_unverified_context()\n",
    "\n",
    "#환율정보 페이지 불러오기\n",
    "print(\"[환율정보 불러오기]\")\n",
    "URL = \"https://search.naver.com/search.naver?where=nexearch&sm=top_hty&fbm=1&ie=utf8&query=%ED%99%98%EC%9C%A8\"\n",
    "page = urllib.request.urlopen(URL, context=context)                              \n",
    "text = page.read().decode(\"utf8\")  # 해당 페이지의 소스코드\n",
    "\n",
    "\n",
    "def getTargetInfo(searchText, infolen):\n",
    "    where      = text.find(searchText)\n",
    "    targetInfo = text[where+len(searchText):where+len(searchText)+infolen]\n",
    "    return targetInfo    \n",
    "\n",
    "info = {'환율기준시간':['class=\"grp_info\"> <em>', 16],\n",
    "        '달러':['<span>미국 <em>USD</em></span></a></th> <td><span>', 8],\n",
    "        '위안':['<span>중국 <em>CNY</em></span></a></th> <td><span>', 6],\n",
    "        '유로':['<span>유럽연합 <em>EUR</em></span></a></th> <td><span>', 8] }\n",
    "\n",
    "for k, v in info.items():\n",
    "    print(f'-{k} : {getTargetInfo(v[0], v[1])} ')"
   ]
  },
  {
   "cell_type": "markdown",
   "id": "8971cbde",
   "metadata": {},
   "source": [
    "### exec() : 문자열 형태의 코드 실행"
   ]
  },
  {
   "cell_type": "code",
   "execution_count": 23,
   "id": "f74983ac",
   "metadata": {},
   "outputs": [
    {
     "name": "stdout",
     "output_type": "stream",
     "text": [
      "[환율정보 불러오기]\n",
      "-위안: 180.40\n"
     ]
    }
   ],
   "source": [
    "import urllib.request\n",
    "import ssl\n",
    "\n",
    "context = ssl._create_unverified_context()\n",
    "\n",
    "#환율정보 페이지 불러오기\n",
    "print(\"[환율정보 불러오기]\")\n",
    "URL = \"https://search.naver.com/search.naver?where=nexearch&sm=top_hty&fbm=1&ie=utf8&query=%ED%99%98%EC%9C%A8\"\n",
    "page = urllib.request.urlopen(URL, context=context)                              \n",
    "text = page.read().decode(\"utf8\")  # 해당 페이지의 소스코드\n",
    "\n",
    "test = \"\"\"\n",
    "searchText = '<span>중국 <em>CNY</em></span></a></th> <td><span>'\n",
    "where      = text.find(searchText)\n",
    "targetInfo = text[where+len(searchText):where+len(searchText)+6] \n",
    "print(f'-위안: {targetInfo}')\n",
    "\"\"\"\n",
    "exec(test)"
   ]
  },
  {
   "cell_type": "markdown",
   "id": "c904cffd",
   "metadata": {},
   "source": [
    "### lambda()"
   ]
  },
  {
   "cell_type": "code",
   "execution_count": 26,
   "id": "e5ea9e0a",
   "metadata": {},
   "outputs": [
    {
     "name": "stdout",
     "output_type": "stream",
     "text": [
      "30\n"
     ]
    }
   ],
   "source": [
    "def hap(num1, num2):\n",
    "    return num1+num2\n",
    "print(hap(10,20))"
   ]
  },
  {
   "cell_type": "code",
   "execution_count": 25,
   "id": "ecc12f1b",
   "metadata": {},
   "outputs": [
    {
     "name": "stdout",
     "output_type": "stream",
     "text": [
      "30\n"
     ]
    }
   ],
   "source": [
    "hap = lambda num1, num2 : num1+num2\n",
    "print(hap(10,20))"
   ]
  },
  {
   "cell_type": "markdown",
   "id": "fb4b97ea",
   "metadata": {},
   "source": [
    "### map()"
   ]
  },
  {
   "cell_type": "code",
   "execution_count": 27,
   "id": "31a35285",
   "metadata": {},
   "outputs": [
    {
     "name": "stdout",
     "output_type": "stream",
     "text": [
      "[11, 12, 13, 14, 15]\n"
     ]
    }
   ],
   "source": [
    "myList = [1,2,3,4,5]\n",
    "\n",
    "def add10(num):\n",
    "    return num+10\n",
    "\n",
    "for idx, val in enumerate(myList):\n",
    "    myList[idx] = add10(val)\n",
    "print(myList)"
   ]
  },
  {
   "cell_type": "code",
   "execution_count": 29,
   "id": "ab7bd626",
   "metadata": {},
   "outputs": [
    {
     "name": "stdout",
     "output_type": "stream",
     "text": [
      "[11, 12, 13, 14, 15]\n"
     ]
    }
   ],
   "source": [
    "myList = [1,2,3,4,5]\n",
    "\n",
    "#add10 = lambda num:num+10\n",
    "\n",
    "myList = list(map(lambda num:num+10, myList))\n",
    "print(myList)"
   ]
  },
  {
   "cell_type": "markdown",
   "id": "37d31118",
   "metadata": {},
   "source": [
    "### 실습문제 :lambda(), map()을 이용하여 리스트 만들기"
   ]
  },
  {
   "cell_type": "code",
   "execution_count": 34,
   "id": "fa50ecfb",
   "metadata": {},
   "outputs": [
    {
     "data": {
      "text/plain": [
       "[1, 2, '3', 4, 5, '6', 7, 8, '9', 10]"
      ]
     },
     "execution_count": 34,
     "metadata": {},
     "output_type": "execute_result"
    }
   ],
   "source": [
    "myList = [1,2,3,4,5,6,7,8,9,10]\n",
    "\n",
    "def sconvert(x):\n",
    "    if x%3==0 : return str(x)\n",
    "    else: return x\n",
    "    \n",
    "for i, v in enumerate(myList):\n",
    "    myList[i] = sconvert(v) \n",
    "\n",
    "myList         "
   ]
  },
  {
   "cell_type": "code",
   "execution_count": 35,
   "id": "29af4536",
   "metadata": {},
   "outputs": [
    {
     "data": {
      "text/plain": [
       "[1, 2, '3', 4, 5, '6', 7, 8, '9', 10]"
      ]
     },
     "execution_count": 35,
     "metadata": {},
     "output_type": "execute_result"
    }
   ],
   "source": [
    "myList = [1,2,3,4,5,6,7,8,9,10]\n",
    "myList = [str(x) if x%3==0 else x for x in myList ]\n",
    "myList"
   ]
  },
  {
   "cell_type": "code",
   "execution_count": 36,
   "id": "c90ba1cc",
   "metadata": {},
   "outputs": [
    {
     "data": {
      "text/plain": [
       "[1, 2, '3', 4, 5, '6', 7, 8, '9', 10]"
      ]
     },
     "execution_count": 36,
     "metadata": {},
     "output_type": "execute_result"
    }
   ],
   "source": [
    "myList = [1,2,3,4,5,6,7,8,9,10]\n",
    "sconvert = lambda x : str(x) if x%3==0 else x\n",
    "myList = list(map(sconvert, myList))\n",
    "myList"
   ]
  },
  {
   "cell_type": "code",
   "execution_count": 37,
   "id": "4b9247fa",
   "metadata": {},
   "outputs": [
    {
     "name": "stdout",
     "output_type": "stream",
     "text": [
      "[2, 4, 6, 8]\n"
     ]
    }
   ],
   "source": [
    "def multi_two(x):\n",
    "    return x*2\n",
    "result = map(multi_two,[1,2,3,4])\n",
    "print(list(result))"
   ]
  },
  {
   "cell_type": "code",
   "execution_count": null,
   "id": "64f32f32",
   "metadata": {},
   "outputs": [],
   "source": []
  }
 ],
 "metadata": {
  "kernelspec": {
   "display_name": "Python 3 (ipykernel)",
   "language": "python",
   "name": "python3"
  },
  "language_info": {
   "codemirror_mode": {
    "name": "ipython",
    "version": 3
   },
   "file_extension": ".py",
   "mimetype": "text/x-python",
   "name": "python",
   "nbconvert_exporter": "python",
   "pygments_lexer": "ipython3",
   "version": "3.8.10"
  }
 },
 "nbformat": 4,
 "nbformat_minor": 5
}
