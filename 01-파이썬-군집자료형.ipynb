{
 "cells": [
  {
   "cell_type": "markdown",
   "id": "a346cb4f",
   "metadata": {},
   "source": [
    "## 1. 리스트 : List"
   ]
  },
  {
   "cell_type": "code",
   "execution_count": 4,
   "id": "fd94a679",
   "metadata": {},
   "outputs": [
    {
     "name": "stdout",
     "output_type": "stream",
     "text": [
      "[1, 2, 3, 4, 5, 6, 7, 8, 9, 10]\n"
     ]
    }
   ],
   "source": [
    "# 리스트 생성\n",
    "myList = list()   #[]\n",
    "\n",
    "# 리스트에 데이터 넣기\n",
    "\n",
    "for i in range(1,11):\n",
    "    myList.append(i)     #리스트에 데이터 넣기\n",
    "\n",
    "print(myList)"
   ]
  },
  {
   "cell_type": "code",
   "execution_count": 6,
   "id": "2be3c99e",
   "metadata": {},
   "outputs": [
    {
     "name": "stdout",
     "output_type": "stream",
     "text": [
      "[1, 2, 3, 4, 5, 6, 7, 8, 9, 10]\n"
     ]
    }
   ],
   "source": [
    "myList = list(range(1,11))\n",
    "print(myList)"
   ]
  },
  {
   "cell_type": "code",
   "execution_count": 7,
   "id": "0cda0f24",
   "metadata": {},
   "outputs": [
    {
     "name": "stdout",
     "output_type": "stream",
     "text": [
      "[range(1, 11)]\n"
     ]
    }
   ],
   "source": [
    "myList = [range(1,11)]\n",
    "print(myList)"
   ]
  },
  {
   "cell_type": "markdown",
   "id": "69421979",
   "metadata": {},
   "source": [
    "### 리스트 요소에 접근"
   ]
  },
  {
   "cell_type": "code",
   "execution_count": 9,
   "id": "a87d4587",
   "metadata": {},
   "outputs": [
    {
     "name": "stdout",
     "output_type": "stream",
     "text": [
      "blue\n",
      "['blue', 'black', 'white']\n"
     ]
    }
   ],
   "source": [
    "# 인덱싱 & 슬라이싱\n",
    "colors = ['red','green','blue','black','white']\n",
    "print(colors[2])\n",
    "print(colors[2:])"
   ]
  },
  {
   "cell_type": "code",
   "execution_count": 10,
   "id": "91b19090",
   "metadata": {},
   "outputs": [
    {
     "name": "stdout",
     "output_type": "stream",
     "text": [
      "나는 red 색상을 좋아합니다.\n",
      "나는 green 색상을 좋아합니다.\n",
      "나는 blue 색상을 좋아합니다.\n",
      "나는 black 색상을 좋아합니다.\n",
      "나는 white 색상을 좋아합니다.\n"
     ]
    }
   ],
   "source": [
    "colors = ['red','green','blue','black','white']\n",
    "\n",
    "for color in colors:\n",
    "    print(f'나는 {color} 색상을 좋아합니다.')"
   ]
  },
  {
   "cell_type": "code",
   "execution_count": 11,
   "id": "7d92f101",
   "metadata": {},
   "outputs": [
    {
     "name": "stdout",
     "output_type": "stream",
     "text": [
      "['red', 'green', 'blue', 'black', 'white', 'apple', 'grape', 'orange']\n"
     ]
    }
   ],
   "source": [
    "colors = ['red','green','blue','black','white']\n",
    "fruits = ['apple', 'grape', 'orange']\n",
    "\n",
    "print(colors+fruits)"
   ]
  },
  {
   "cell_type": "markdown",
   "id": "fd5e3872",
   "metadata": {},
   "source": [
    "### 리스트에 요소 추가하기"
   ]
  },
  {
   "cell_type": "code",
   "execution_count": 12,
   "id": "5edb8019",
   "metadata": {},
   "outputs": [
    {
     "data": {
      "text/plain": [
       "['red', 'green', 'blue', 'black', 'white', 'violet']"
      ]
     },
     "execution_count": 12,
     "metadata": {},
     "output_type": "execute_result"
    }
   ],
   "source": [
    "colors.append('violet')\n",
    "colors"
   ]
  },
  {
   "cell_type": "markdown",
   "id": "509f98bf",
   "metadata": {},
   "source": [
    "### 리스트에서 요소 삭제하기"
   ]
  },
  {
   "cell_type": "code",
   "execution_count": 13,
   "id": "c6ed2724",
   "metadata": {},
   "outputs": [
    {
     "data": {
      "text/plain": [
       "['red', 'green', 'blue', 'white', 'violet']"
      ]
     },
     "execution_count": 13,
     "metadata": {},
     "output_type": "execute_result"
    }
   ],
   "source": [
    "colors.remove('black')\n",
    "colors"
   ]
  },
  {
   "cell_type": "markdown",
   "id": "4faca78f",
   "metadata": {},
   "source": [
    "### 리스트의 특정 요소 변경하기"
   ]
  },
  {
   "cell_type": "code",
   "execution_count": 14,
   "id": "5f01f6e2",
   "metadata": {},
   "outputs": [
    {
     "data": {
      "text/plain": [
       "['red', 'green', 'Blue', 'white', 'violet']"
      ]
     },
     "execution_count": 14,
     "metadata": {},
     "output_type": "execute_result"
    }
   ],
   "source": [
    "colors[2] = 'Blue'\n",
    "colors"
   ]
  },
  {
   "cell_type": "markdown",
   "id": "ce9833be",
   "metadata": {},
   "source": [
    "### 리스트의 맨 뒤에 항목 뽑기"
   ]
  },
  {
   "cell_type": "code",
   "execution_count": 15,
   "id": "3e424173",
   "metadata": {},
   "outputs": [
    {
     "data": {
      "text/plain": [
       "['red', 'green', 'Blue', 'white']"
      ]
     },
     "execution_count": 15,
     "metadata": {},
     "output_type": "execute_result"
    }
   ],
   "source": [
    "colors.pop()\n",
    "colors"
   ]
  },
  {
   "cell_type": "code",
   "execution_count": 17,
   "id": "423d2a77",
   "metadata": {},
   "outputs": [
    {
     "data": {
      "text/plain": [
       "['Blue', 'green', 'red', 'white']"
      ]
     },
     "execution_count": 17,
     "metadata": {},
     "output_type": "execute_result"
    }
   ],
   "source": [
    "colors.sort()\n",
    "colors"
   ]
  },
  {
   "cell_type": "code",
   "execution_count": 18,
   "id": "9808f36f",
   "metadata": {},
   "outputs": [
    {
     "data": {
      "text/plain": [
       "['white', 'red', 'green', 'Blue']"
      ]
     },
     "execution_count": 18,
     "metadata": {},
     "output_type": "execute_result"
    }
   ],
   "source": [
    "colors.reverse()\n",
    "colors"
   ]
  },
  {
   "cell_type": "code",
   "execution_count": 19,
   "id": "6aeadf3f",
   "metadata": {},
   "outputs": [
    {
     "data": {
      "text/plain": [
       "2"
      ]
     },
     "execution_count": 19,
     "metadata": {},
     "output_type": "execute_result"
    }
   ],
   "source": [
    "# 특정 항목의 위치 찾기\n",
    "colors.index('green')"
   ]
  },
  {
   "cell_type": "code",
   "execution_count": 20,
   "id": "209d320e",
   "metadata": {},
   "outputs": [
    {
     "data": {
      "text/plain": [
       "['white', 'red', 'orange', 'green', 'Blue']"
      ]
     },
     "execution_count": 20,
     "metadata": {},
     "output_type": "execute_result"
    }
   ],
   "source": [
    "# 특정 위치에 값 삽입\n",
    "colors.insert(2, 'orange')\n",
    "colors"
   ]
  },
  {
   "cell_type": "markdown",
   "id": "82a04d24",
   "metadata": {},
   "source": [
    "### 2차원 리스트\n"
   ]
  },
  {
   "cell_type": "code",
   "execution_count": 22,
   "id": "ed99a11f",
   "metadata": {
    "scrolled": true
   },
   "outputs": [
    {
     "name": "stdout",
     "output_type": "stream",
     "text": [
      "[10, 20, 30]\n",
      "[40, 50, 60, 70]\n",
      "30\n"
     ]
    }
   ],
   "source": [
    "numbers = [[10,20,30],[40,50,60,70]]\n",
    "\n",
    "print(numbers[0])\n",
    "print(numbers[1])\n",
    "\n",
    "print(numbers[0][2])"
   ]
  },
  {
   "cell_type": "markdown",
   "id": "06573e6a",
   "metadata": {},
   "source": [
    "### 3차원 리스트"
   ]
  },
  {
   "cell_type": "code",
   "execution_count": 24,
   "id": "dfe03dcf",
   "metadata": {},
   "outputs": [
    {
     "name": "stdout",
     "output_type": "stream",
     "text": [
      "40\n"
     ]
    }
   ],
   "source": [
    "numbers = [[10,20,30],[[40,50],60,70]]\n",
    "print(numbers[1][0][0])"
   ]
  },
  {
   "cell_type": "markdown",
   "id": "41375ec5",
   "metadata": {},
   "source": [
    "### 실습문제: 리스트에 숫자 넣고 출력하기"
   ]
  },
  {
   "cell_type": "code",
   "execution_count": null,
   "id": "4725b8f4",
   "metadata": {},
   "outputs": [],
   "source": [
    "myList = list()\n",
    "#1.리스트에 1~12까지의 숫자 넣기\n",
    "#2.리스트에서 숫자 꺼내서 출력하기"
   ]
  },
  {
   "cell_type": "code",
   "execution_count": 29,
   "id": "58847ff9",
   "metadata": {},
   "outputs": [
    {
     "name": "stdout",
     "output_type": "stream",
     "text": [
      " 1  2  3  4 \n",
      " 5  6  7  8 \n",
      " 9 10 11 12 \n"
     ]
    }
   ],
   "source": [
    "# 3행 4열 리스트 생성\n",
    "threeFour = [ [0] * 4 for _ in range(3) ]\n",
    "\n",
    "#리스트에 숫자 넣기\n",
    "num = 1\n",
    "for i in range(3):\n",
    "    for j in range(4):\n",
    "        threeFour[i][j] = num\n",
    "        num += 1\n",
    "\n",
    "# 출력하기\n",
    "for i in threeFour:\n",
    "    for j in i:\n",
    "        print(f'{j:>2d}', end=' ')\n",
    "    print()\n"
   ]
  },
  {
   "cell_type": "code",
   "execution_count": 30,
   "id": "d0d9d907",
   "metadata": {},
   "outputs": [
    {
     "name": "stdout",
     "output_type": "stream",
     "text": [
      " 1  2  3  4 \n",
      " 5  6  7  8 \n",
      " 9 10 11 12 "
     ]
    }
   ],
   "source": [
    "myList = list()\n",
    "#1. 리스트에 1~12까지의 숫자 넣기\n",
    "row = 3\n",
    "col = 4\n",
    "for i in range(1,row*col+1):\n",
    "    myList.append(i)\n",
    "#2. 리스트에서 숫자를 꺼내서 출력하기\n",
    "for i in range(0, row*col):\n",
    "    if i%col==0 and i!=0:\n",
    "        print()\n",
    "    print(f\"{myList.pop(0):2}\",end=\" \")"
   ]
  },
  {
   "cell_type": "markdown",
   "id": "33b11958",
   "metadata": {},
   "source": [
    "### 실습문제"
   ]
  },
  {
   "cell_type": "code",
   "execution_count": 32,
   "id": "018931fc",
   "metadata": {},
   "outputs": [],
   "source": [
    "myList = list()\n",
    "for i in range(1,201) :\n",
    "    if i % 3 == 0 :\n",
    "        myList.append(i)"
   ]
  },
  {
   "cell_type": "code",
   "execution_count": 35,
   "id": "71e460d3",
   "metadata": {},
   "outputs": [
    {
     "name": "stdout",
     "output_type": "stream",
     "text": [
      "[3, 6, 9, 12, 15, 18, 21, 24, 27, 30, 33, 36, 39, 42, 45, 48, 51, 54, 57, 60, 63, 66, 69, 72, 75, 78, 81, 84, 87, 90, 93, 96, 99, 102, 105, 108, 111, 114, 117, 120, 123, 126, 129, 132, 135, 138, 141, 144, 147, 150, 153, 156, 159, 162, 165, 168, 171, 174, 177, 180, 183, 186, 189, 192, 195, 198]\n"
     ]
    }
   ],
   "source": [
    "# 리스트 컴프리헨션\n",
    "myList = [ i for i in range(1,201) if i % 3 == 0 ]\n",
    "print(myList)"
   ]
  },
  {
   "cell_type": "markdown",
   "id": "82b6270e",
   "metadata": {},
   "source": [
    "### 실습문제: 아이돌 성적 출력"
   ]
  },
  {
   "cell_type": "code",
   "execution_count": 41,
   "id": "c556deea",
   "metadata": {
    "scrolled": true
   },
   "outputs": [
    {
     "name": "stdout",
     "output_type": "stream",
     "text": [
      "BTS의 성적 입력: 100\n",
      "트와이스의 성적 입력: 80\n",
      "블랙핑크의 성적 입력: 90\n",
      "뉴이스트의 성적 입력: 70\n",
      "------------------------------\n",
      " 아이돌 성적 \n",
      "------------------------------\n",
      "BTS의 성적은 100 점: 수료\n",
      "트와이스의 성적은 80 점: 수료\n",
      "블랙핑크의 성적은 90 점: 수료\n",
      "뉴이스트의 성적은 70 점: 미수료\n"
     ]
    }
   ],
   "source": [
    "idols = ['BTS','트와이스','블랙핑크','뉴이스트']\n",
    "jumsu = []\n",
    "\n",
    "for idx, value in enumerate(idols):\n",
    "    tmp = int(input(f'{value}의 성적 입력: '))\n",
    "    jumsu.append(tmp)\n",
    "\n",
    "print('-'*30)\n",
    "print(' 아이돌 성적 ')\n",
    "print('-'*30)\n",
    "\n",
    "result = ''\n",
    "for i in range(len(idols)):\n",
    "    if jumsu[i] >= 80 :  result = '수료'        \n",
    "    else: result = '미수료'\n",
    "        \n",
    "    print(f'{idols[i]}의 성적은 {jumsu[i]} 점: {result}')\n",
    "    "
   ]
  },
  {
   "cell_type": "code",
   "execution_count": 44,
   "id": "abab0ebe",
   "metadata": {},
   "outputs": [
    {
     "name": "stdout",
     "output_type": "stream",
     "text": [
      "'BTS'의 성적 입력:100\n",
      "'트와이스'의 성적 입력:80\n",
      "'블랙핑크'의 성적 입력:90\n",
      "'뉴이스트'의 성적 입력:70\n",
      "-----------------------------------------\n",
      "아이돌 성적 결과\n",
      "-----------------------------------------\n",
      "'BTS'의 성적은 100점: PASS\n",
      "'트와이스'의 성적은 80점: PASS\n",
      "'블랙핑크'의 성적은 90점: PASS\n",
      "'뉴이스트'의 성적은 70점: FAIL\n"
     ]
    }
   ],
   "source": [
    "idols = ['BTS', '트와이스', '블랙핑크', '뉴이스트']\n",
    "\n",
    "#성적 입력\n",
    "scores = [ int(input(f\"'{idol}'의 성적 입력:\")) for idol in idols ]\n",
    "print(\"\"\"-----------------------------------------\n",
    "아이돌 성적 결과\n",
    "-----------------------------------------\"\"\")\n",
    "# 결과 입력\n",
    "result=[ \"PASS\" if score >= 80 else \"FAIL\" for score in scores ]\n",
    "\n",
    "#최종 성적 출력\n",
    "for i in range(len(idols)):\n",
    "    print(f\"'{idols[i]}'의 성적은 {scores[i]}점: {result[i]}\")\n",
    "\n",
    "for i, v in enumerate(idols):\n",
    "    print(f' i:{i}  v:{v}')\n",
    "    #print(f\"'{v}'의 성적은 {scores[i]}점: {result[i]}\")"
   ]
  },
  {
   "cell_type": "code",
   "execution_count": null,
   "id": "36bb3a56",
   "metadata": {},
   "outputs": [],
   "source": [
    "idols = ['BTS', '트와이스', '블랙핑크', '뉴이스트']\n",
    "scores = [int(input(f\"'{idol}'의 성적 입력:\")) for idol in idols]\n",
    "\n",
    "print(\"\"\"-----------------------------------------\n",
    "아이돌 성적 결과\n",
    "-----------------------------------------\"\"\")\n",
    "result=[\"PASS\" if scores[i]>=80 else \"FAIL\" for i in range(len(scores))]\n",
    "for i, v in enumerate(idols):\n",
    "    print(f\"'{v}'의 성적은 {scores[i]}점: {result[i]}\")"
   ]
  },
  {
   "cell_type": "markdown",
   "id": "985792d0",
   "metadata": {},
   "source": [
    "### 실습문제: 소요일 구하기"
   ]
  },
  {
   "cell_type": "code",
   "execution_count": 46,
   "id": "5f362655",
   "metadata": {},
   "outputs": [
    {
     "name": "stdout",
     "output_type": "stream",
     "text": [
      "년월일을 입력하세요 (YYYYMMDD형식):20210721\n",
      "------------------------------\n",
      "2021//1//1 ~ 2021//7//21 : 202\n"
     ]
    }
   ],
   "source": [
    "ymd = input('년월일을 입력하세요 (YYYYMMDD형식):')\n",
    "\n",
    "year  = int(ymd[:4])\n",
    "month = int(ymd[4:6])\n",
    "day   = int(ymd[6:])\n",
    "\n",
    "dates =[31,28,31,30,31,30,31,31,30,31,30,31]\n",
    "if year%400 ==0 or(year%100 !=0 and year%4 ==0):\n",
    "    dates[1]=29\n",
    "    \n",
    "print(\"-\"*30)\n",
    "\n",
    "days = 0\n",
    "for i in range(month -1):\n",
    "    days += dates[i]\n",
    "days += day\n",
    "\n",
    "print(f'{year}/1/1 ~ {year}/{month}/{day} : {days}')"
   ]
  },
  {
   "cell_type": "code",
   "execution_count": null,
   "id": "56c89fbd",
   "metadata": {},
   "outputs": [],
   "source": [
    "today = input('YYYYMMDD :')\n",
    "\n",
    "today_y = int(today[0:4]); today_m = int(today[4:6]) ; today_d = int(today[6:8])\n",
    "\n",
    "dates = [31,28,31,30,31,30,31,31,30,31,30,31]\n",
    "if today_y % 400 ==0 or (today_y %100 != 0 and today_y % 4 ==0):\n",
    "    dates[1]=29\n",
    "    \n",
    "days = sum(dates[0:today_m-1]) + today_d - 1\n",
    "\n",
    "print('-'*20)\n",
    "print(f'{today_y}/1/1 ~ {today_y}/{today_m}/{today_d} : {days}')"
   ]
  },
  {
   "cell_type": "markdown",
   "id": "3bea01df",
   "metadata": {},
   "source": [
    "### 실습문제: 기간의 소요일 구하기"
   ]
  },
  {
   "cell_type": "code",
   "execution_count": 47,
   "id": "596c6ccb",
   "metadata": {},
   "outputs": [
    {
     "data": {
      "text/plain": [
       "201"
      ]
     },
     "execution_count": 47,
     "metadata": {},
     "output_type": "execute_result"
    }
   ],
   "source": [
    "import datetime\n",
    "\n",
    "start = input('시작일(YYYYMMDD): ')\n",
    "end = input('시작일(YYYYMMDD): ')\n",
    "\n",
    "sday = datetime.datetime.strptime(start, '%Y%m%d')\n",
    "eday = datetime.datetime.strptime(end, '%Y%m%d')\n",
    "print(f'{start} ~ {end}까지의 소요일은 {(eday - sday).days} 일 입니다.')"
   ]
  },
  {
   "cell_type": "code",
   "execution_count": 48,
   "id": "47322398",
   "metadata": {},
   "outputs": [
    {
     "name": "stdout",
     "output_type": "stream",
     "text": [
      "시작일(YYYYMMDD): 20200801\n",
      "시작일(YYYYMMDD): 20210825\n",
      "20200801 ~ 20210825까지의 소요일은 389 일 입니다.\n"
     ]
    }
   ],
   "source": [
    "from datetime import datetime\n",
    "\n",
    "start = input('시작일(YYYYMMDD): ')\n",
    "end = input('시작일(YYYYMMDD): ')\n",
    "\n",
    "sday = datetime.strptime(start, '%Y%m%d')\n",
    "eday = datetime.strptime(end, '%Y%m%d')\n",
    "print(f'{start} ~ {end}까지의 소요일은 {(eday - sday).days} 일 입니다.')\n"
   ]
  },
  {
   "cell_type": "markdown",
   "id": "6811b3ad",
   "metadata": {},
   "source": [
    "## 2.튜플(Tuple)"
   ]
  },
  {
   "cell_type": "code",
   "execution_count": 4,
   "id": "c77103c9",
   "metadata": {},
   "outputs": [
    {
     "data": {
      "text/plain": [
       "tuple"
      ]
     },
     "execution_count": 4,
     "metadata": {},
     "output_type": "execute_result"
    }
   ],
   "source": [
    "a = ('a', 1, 2, 3, 'b')\n",
    "a = 'a', 1, 2, 3, 'b'\n",
    "a = 'a'\n",
    "a = 'a',\n",
    "type(a)"
   ]
  },
  {
   "cell_type": "code",
   "execution_count": null,
   "id": "63fd874f",
   "metadata": {},
   "outputs": [],
   "source": [
    "a = tuple()\n",
    "a = ()\n"
   ]
  },
  {
   "cell_type": "code",
   "execution_count": 5,
   "id": "9017706f",
   "metadata": {},
   "outputs": [
    {
     "ename": "TypeError",
     "evalue": "'tuple' object does not support item assignment",
     "output_type": "error",
     "traceback": [
      "\u001b[1;31m------------------------------------------------------------------\u001b[0m",
      "\u001b[1;31mTypeError\u001b[0m                        Traceback (most recent call last)",
      "\u001b[1;32mC:\\Users\\Public\\Documents\\ESTsoft\\CreatorTemp/ipykernel_37860/3743301739.py\u001b[0m in \u001b[0;36m<module>\u001b[1;34m\u001b[0m\n\u001b[0;32m      1\u001b[0m \u001b[0mmenu\u001b[0m \u001b[1;33m=\u001b[0m \u001b[1;33m(\u001b[0m\u001b[1;34m'짜장면'\u001b[0m\u001b[1;33m,\u001b[0m\u001b[1;34m'우동'\u001b[0m\u001b[1;33m,\u001b[0m\u001b[1;34m'짬뽕'\u001b[0m\u001b[1;33m,\u001b[0m \u001b[1;34m'볶음밥'\u001b[0m\u001b[1;33m)\u001b[0m\u001b[1;33m\u001b[0m\u001b[1;33m\u001b[0m\u001b[0m\n\u001b[1;32m----> 2\u001b[1;33m \u001b[0mmenu\u001b[0m\u001b[1;33m[\u001b[0m\u001b[1;36m1\u001b[0m\u001b[1;33m]\u001b[0m \u001b[1;33m=\u001b[0m \u001b[1;34m'유산슬'\u001b[0m\u001b[1;33m\u001b[0m\u001b[1;33m\u001b[0m\u001b[0m\n\u001b[0m",
      "\u001b[1;31mTypeError\u001b[0m: 'tuple' object does not support item assignment"
     ]
    }
   ],
   "source": [
    "menu = ('짜장면','우동','짬뽕', '볶음밥')\n",
    "menu[0]\n",
    "menu[0:3]\n",
    "menu[1] = '유산슬'  #--> 오류"
   ]
  },
  {
   "cell_type": "code",
   "execution_count": 7,
   "id": "5ea056b7",
   "metadata": {},
   "outputs": [
    {
     "name": "stdout",
     "output_type": "stream",
     "text": [
      "96\n",
      "80\n"
     ]
    }
   ],
   "source": [
    "L = ['a', 'b','c','d','e']\n",
    "T = ('a', 'b','c','d','e')\n",
    "import sys\n",
    "print(sys.getsizeof(L))\n",
    "print(sys.getsizeof(T))"
   ]
  },
  {
   "cell_type": "code",
   "execution_count": 8,
   "id": "bfc5dcec",
   "metadata": {},
   "outputs": [
    {
     "name": "stdout",
     "output_type": "stream",
     "text": [
      "46.3 ns ± 3.19 ns per loop (mean ± std. dev. of 7 runs, 10000000 loops each)\n"
     ]
    }
   ],
   "source": [
    "%timeit L = ['a', 'b','c','d','e']"
   ]
  },
  {
   "cell_type": "code",
   "execution_count": 9,
   "id": "19eaee75",
   "metadata": {},
   "outputs": [
    {
     "name": "stdout",
     "output_type": "stream",
     "text": [
      "11.3 ns ± 0.895 ns per loop (mean ± std. dev. of 7 runs, 100000000 loops each)\n"
     ]
    }
   ],
   "source": [
    "%timeit T = ('a', 'b','c','d','e')"
   ]
  },
  {
   "cell_type": "markdown",
   "id": "172f260c",
   "metadata": {},
   "source": [
    "## 3. 딕셔너리"
   ]
  },
  {
   "cell_type": "code",
   "execution_count": 10,
   "id": "dac824c3",
   "metadata": {},
   "outputs": [
    {
     "data": {
      "text/plain": [
       "{'name': 'pey', 'phone': '01199993323'}"
      ]
     },
     "execution_count": 10,
     "metadata": {},
     "output_type": "execute_result"
    }
   ],
   "source": [
    "a = dict()\n",
    "a = {}\n",
    "a = {'name':'pey', 'phone':'01199993323'}\n",
    "a = dict(name='pey', phone='01199993323')\n",
    "a"
   ]
  },
  {
   "cell_type": "code",
   "execution_count": 13,
   "id": "39876b50",
   "metadata": {},
   "outputs": [
    {
     "name": "stdout",
     "output_type": "stream",
     "text": [
      "Help on class dict in module builtins:\n",
      "\n",
      "class dict(object)\n",
      " |  dict() -> new empty dictionary\n",
      " |  dict(mapping) -> new dictionary initialized from a mapping object's\n",
      " |      (key, value) pairs\n",
      " |  dict(iterable) -> new dictionary initialized as if via:\n",
      " |      d = {}\n",
      " |      for k, v in iterable:\n",
      " |          d[k] = v\n",
      " |  dict(**kwargs) -> new dictionary initialized with the name=value pairs\n",
      " |      in the keyword argument list.  For example:  dict(one=1, two=2)\n",
      " |  \n",
      " |  Built-in subclasses:\n",
      " |      StgDict\n",
      " |  \n",
      " |  Methods defined here:\n",
      " |  \n",
      " |  __contains__(self, key, /)\n",
      " |      True if the dictionary has the specified key, else False.\n",
      " |  \n",
      " |  __delitem__(self, key, /)\n",
      " |      Delete self[key].\n",
      " |  \n",
      " |  __eq__(self, value, /)\n",
      " |      Return self==value.\n",
      " |  \n",
      " |  __ge__(self, value, /)\n",
      " |      Return self>=value.\n",
      " |  \n",
      " |  __getattribute__(self, name, /)\n",
      " |      Return getattr(self, name).\n",
      " |  \n",
      " |  __getitem__(...)\n",
      " |      x.__getitem__(y) <==> x[y]\n",
      " |  \n",
      " |  __gt__(self, value, /)\n",
      " |      Return self>value.\n",
      " |  \n",
      " |  __init__(self, /, *args, **kwargs)\n",
      " |      Initialize self.  See help(type(self)) for accurate signature.\n",
      " |  \n",
      " |  __iter__(self, /)\n",
      " |      Implement iter(self).\n",
      " |  \n",
      " |  __le__(self, value, /)\n",
      " |      Return self<=value.\n",
      " |  \n",
      " |  __len__(self, /)\n",
      " |      Return len(self).\n",
      " |  \n",
      " |  __lt__(self, value, /)\n",
      " |      Return self<value.\n",
      " |  \n",
      " |  __ne__(self, value, /)\n",
      " |      Return self!=value.\n",
      " |  \n",
      " |  __repr__(self, /)\n",
      " |      Return repr(self).\n",
      " |  \n",
      " |  __reversed__(self, /)\n",
      " |      Return a reverse iterator over the dict keys.\n",
      " |  \n",
      " |  __setitem__(self, key, value, /)\n",
      " |      Set self[key] to value.\n",
      " |  \n",
      " |  __sizeof__(...)\n",
      " |      D.__sizeof__() -> size of D in memory, in bytes\n",
      " |  \n",
      " |  clear(...)\n",
      " |      D.clear() -> None.  Remove all items from D.\n",
      " |  \n",
      " |  copy(...)\n",
      " |      D.copy() -> a shallow copy of D\n",
      " |  \n",
      " |  get(self, key, default=None, /)\n",
      " |      Return the value for key if key is in the dictionary, else default.\n",
      " |  \n",
      " |  items(...)\n",
      " |      D.items() -> a set-like object providing a view on D's items\n",
      " |  \n",
      " |  keys(...)\n",
      " |      D.keys() -> a set-like object providing a view on D's keys\n",
      " |  \n",
      " |  pop(...)\n",
      " |      D.pop(k[,d]) -> v, remove specified key and return the corresponding value.\n",
      " |      If key is not found, d is returned if given, otherwise KeyError is raised\n",
      " |  \n",
      " |  popitem(self, /)\n",
      " |      Remove and return a (key, value) pair as a 2-tuple.\n",
      " |      \n",
      " |      Pairs are returned in LIFO (last-in, first-out) order.\n",
      " |      Raises KeyError if the dict is empty.\n",
      " |  \n",
      " |  setdefault(self, key, default=None, /)\n",
      " |      Insert key with a value of default if key is not in the dictionary.\n",
      " |      \n",
      " |      Return the value for key if key is in the dictionary, else default.\n",
      " |  \n",
      " |  update(...)\n",
      " |      D.update([E, ]**F) -> None.  Update D from dict/iterable E and F.\n",
      " |      If E is present and has a .keys() method, then does:  for k in E: D[k] = E[k]\n",
      " |      If E is present and lacks a .keys() method, then does:  for k, v in E: D[k] = v\n",
      " |      In either case, this is followed by: for k in F:  D[k] = F[k]\n",
      " |  \n",
      " |  values(...)\n",
      " |      D.values() -> an object providing a view on D's values\n",
      " |  \n",
      " |  ----------------------------------------------------------------------\n",
      " |  Class methods defined here:\n",
      " |  \n",
      " |  fromkeys(iterable, value=None, /) from builtins.type\n",
      " |      Create a new dictionary with keys from iterable and values set to value.\n",
      " |  \n",
      " |  ----------------------------------------------------------------------\n",
      " |  Static methods defined here:\n",
      " |  \n",
      " |  __new__(*args, **kwargs) from builtins.type\n",
      " |      Create and return a new object.  See help(type) for accurate signature.\n",
      " |  \n",
      " |  ----------------------------------------------------------------------\n",
      " |  Data and other attributes defined here:\n",
      " |  \n",
      " |  __hash__ = None\n",
      "\n"
     ]
    }
   ],
   "source": [
    "help(dict)"
   ]
  },
  {
   "cell_type": "markdown",
   "id": "e45b791f",
   "metadata": {},
   "source": [
    "### 딕셔너리에 요소 추가/수정/삭제"
   ]
  },
  {
   "cell_type": "code",
   "execution_count": 17,
   "id": "8a980fad",
   "metadata": {},
   "outputs": [
    {
     "name": "stdout",
     "output_type": "stream",
     "text": [
      "{'국어': 90, '영어': 89, '수학': 100, '과학': 90}\n",
      "{'국어': 70, '영어': 89, '수학': 100, '음악': 100}\n"
     ]
    }
   ],
   "source": [
    "# 딕셔너리 키로 요소 추가/수정/삭제 한다.\n",
    "name = '박지민'\n",
    "scores = {'국어':90,'영어':89,'수학':100,'과학':90}\n",
    "print(scores)\n",
    "\n",
    "# 추가: 음악\n",
    "scores['음악'] = 100\n",
    "\n",
    "# 수정: 국어 점수\n",
    "scores['국어'] = 70\n",
    "\n",
    "# 삭제: 과학\n",
    "del (scores['과학'])\n",
    "\n",
    "print(scores)"
   ]
  },
  {
   "cell_type": "code",
   "execution_count": 18,
   "id": "bf37d1be",
   "metadata": {},
   "outputs": [
    {
     "name": "stdout",
     "output_type": "stream",
     "text": [
      "Key[국어], value[70]\n",
      "Key[영어], value[89]\n",
      "Key[수학], value[100]\n",
      "Key[음악], value[100]\n"
     ]
    }
   ],
   "source": [
    "for k in scores:\n",
    "    print(f'Key[{k}], value[{scores[k]}]')"
   ]
  },
  {
   "cell_type": "code",
   "execution_count": 21,
   "id": "b48279bd",
   "metadata": {},
   "outputs": [
    {
     "name": "stdout",
     "output_type": "stream",
     "text": [
      "dict_keys(['국어', '영어', '수학', '음악'])\n",
      "국어\n",
      "영어\n",
      "수학\n",
      "음악\n"
     ]
    }
   ],
   "source": [
    "print(scores.keys())\n",
    "for k in scores.keys():\n",
    "    print(k)"
   ]
  },
  {
   "cell_type": "code",
   "execution_count": 23,
   "id": "d4523b22",
   "metadata": {},
   "outputs": [
    {
     "name": "stdout",
     "output_type": "stream",
     "text": [
      "dict_values([70, 89, 100, 100])\n",
      "70\n",
      "89\n",
      "100\n",
      "100\n"
     ]
    }
   ],
   "source": [
    "print(scores.values())\n",
    "for v in scores.values():\n",
    "    print(v)"
   ]
  },
  {
   "cell_type": "code",
   "execution_count": 27,
   "id": "2843e019",
   "metadata": {},
   "outputs": [
    {
     "name": "stdout",
     "output_type": "stream",
     "text": [
      "국어 70\n",
      "영어 89\n",
      "수학 100\n",
      "음악 100\n"
     ]
    }
   ],
   "source": [
    "scores.items()\n",
    "for k, v in scores.items():\n",
    "    print(k, v)    "
   ]
  },
  {
   "cell_type": "markdown",
   "id": "95a56db1",
   "metadata": {},
   "source": [
    "### 실습문제: 아이돌 성적 딕셔너리 만들고 평균구하기"
   ]
  },
  {
   "cell_type": "code",
   "execution_count": 31,
   "id": "952d7e46",
   "metadata": {},
   "outputs": [
    {
     "name": "stdout",
     "output_type": "stream",
     "text": [
      "BTS의 성적은: 100\n",
      "트와이스의 성적은: 80\n",
      "블랙핑크의 성적은: 90\n",
      "세븐틴의 성적은: 95\n",
      "{'BTS': 100, '트와이스': 80, '블랙핑크': 90, '세븐틴': 95}\n",
      "아이돌 성적 합계: 365, 평균: 91.25\n"
     ]
    }
   ],
   "source": [
    "names = ['BTS','트와이스','블랙핑크','세븐틴']\n",
    "idols = {}\n",
    "\n",
    "for name in names:\n",
    "    idols[name] = int(input(f'{name}의 성적은: '))\n",
    "print(idols)\n",
    "\n",
    "print(f'아이돌 성적 합계: {sum(idols.values())}, 평균: {sum(idols.values()) / len(idols) }')"
   ]
  },
  {
   "cell_type": "code",
   "execution_count": 30,
   "id": "f70c3734",
   "metadata": {},
   "outputs": [
    {
     "data": {
      "text/plain": [
       "91.25"
      ]
     },
     "execution_count": 30,
     "metadata": {},
     "output_type": "execute_result"
    }
   ],
   "source": [
    "sum(idols.values()) / len(idols)"
   ]
  },
  {
   "cell_type": "markdown",
   "id": "3432d16f",
   "metadata": {},
   "source": [
    "### 실습문제: 영어단어장 만들기"
   ]
  },
  {
   "cell_type": "code",
   "execution_count": 36,
   "id": "f4ab5221",
   "metadata": {},
   "outputs": [
    {
     "name": "stdout",
     "output_type": "stream",
     "text": [
      "메뉴)\n",
      " 1. 단어 등록\n",
      " 2. 단어 검색\n",
      " 3. 모든 단어 보기\n",
      " 0. 종료하기\n",
      " --------------------선택: 1\n",
      "새 단어: apple\n",
      "apple의 뜻: 사과\n",
      "메뉴)\n",
      " 1. 단어 등록\n",
      " 2. 단어 검색\n",
      " 3. 모든 단어 보기\n",
      " 0. 종료하기\n",
      " --------------------선택: 1\n",
      "새 단어: orange\n",
      "orange의 뜻: 오렌지\n",
      "메뉴)\n",
      " 1. 단어 등록\n",
      " 2. 단어 검색\n",
      " 3. 모든 단어 보기\n",
      " 0. 종료하기\n",
      " --------------------선택: 2\n",
      "검색할 단어: orange\n",
      "orange의 뜻은 오렌지입니다.\n",
      "메뉴)\n",
      " 1. 단어 등록\n",
      " 2. 단어 검색\n",
      " 3. 모든 단어 보기\n",
      " 0. 종료하기\n",
      " --------------------선택: 2\n",
      "검색할 단어: banana\n",
      "미등록 단어입니다.\n",
      "메뉴)\n",
      " 1. 단어 등록\n",
      " 2. 단어 검색\n",
      " 3. 모든 단어 보기\n",
      " 0. 종료하기\n",
      " --------------------선택: 3\n",
      "apple : 사과\n",
      "orange : 오렌지\n",
      "메뉴)\n",
      " 1. 단어 등록\n",
      " 2. 단어 검색\n",
      " 3. 모든 단어 보기\n",
      " 0. 종료하기\n",
      " --------------------선택: 0\n",
      "프로그램을 종료합니다.\n"
     ]
    }
   ],
   "source": [
    "menu = '''메뉴)\n",
    " 1. 단어 등록\n",
    " 2. 단어 검색\n",
    " 3. 모든 단어 보기\n",
    " 0. 종료하기\n",
    " --------------------'''\n",
    "wordbook = dict()\n",
    "\n",
    "while True:\n",
    "    select = input(menu+'선택: ')\n",
    "    \n",
    "    if select == '0':\n",
    "        print('프로그램을 종료합니다.')\n",
    "        break\n",
    "    elif select == '1':    #1.단어 등록\n",
    "        k = input('새 단어: ')\n",
    "        v = input(f'{k}의 뜻: ')\n",
    "        wordbook[k] = v\n",
    "    elif select == '2':    #2.단어 검색\n",
    "        s = input('검색할 단어: ')\n",
    "        if s in wordbook:\n",
    "            print(f'{s}의 뜻은 {wordbook[s]}입니다.')\n",
    "        else:\n",
    "            print('미등록 단어입니다.')\n",
    "    elif select =='3':\n",
    "        for k, v in wordbook.items():\n",
    "            print(f'{k} : {v}')\n",
    "    else:\n",
    "        print('잘못 입력했습니다.')\n",
    "            \n",
    "        \n",
    "        "
   ]
  },
  {
   "cell_type": "markdown",
   "id": "676b30fc",
   "metadata": {},
   "source": [
    "#### 4.퀴즈풀기 메뉴 넣기"
   ]
  },
  {
   "cell_type": "code",
   "execution_count": null,
   "id": "7d32b2a9",
   "metadata": {},
   "outputs": [],
   "source": [
    "menu = '''메뉴)\n",
    " 1. 단어 등록\n",
    " 2. 단어 검색\n",
    " 3. 모든 단어 보기\n",
    " 4. 퀴즈 풀기\n",
    " 0. 종료하기\n",
    " --------------------'''\n",
    "wordbook = dict()\n",
    "\n",
    "while True:\n",
    "    select = input(menu+'선택: ')\n",
    "    \n",
    "    if select == '0':\n",
    "        print('프로그램을 종료합니다.')\n",
    "        break\n",
    "    elif select == '1':    #1.단어 등록\n",
    "        k = input('새 단어: ')\n",
    "        v = input(f'{k}의 뜻: ')\n",
    "        wordbook[k] = v\n",
    "    elif select == '2':    #2.단어 검색\n",
    "        s = input('검색할 단어: ')\n",
    "        if s in wordbook:\n",
    "            print(f'{s}의 뜻은 {wordbook[s]}입니다.')\n",
    "        else:\n",
    "            print('미등록 단어입니다.')\n",
    "    elif select =='3':\n",
    "        for k, v in wordbook.items():\n",
    "            print(f'{k} : {v}')\n",
    "    elif select == '4':    #4.퀴즈 풀기\n",
    "        import random\n",
    "        k, v = random.choice(tuple(wordbook.items()))\n",
    "        answer = input(f'{v}의 영어단어는? ')\n",
    "        \n",
    "        if answer == k :\n",
    "            print('정답입니다.')\n",
    "        else:\n",
    "            print('오답입니다.')\n",
    "        \n",
    "    else:\n",
    "        print('잘못 입력했습니다.')\n",
    "            \n",
    "    "
   ]
  },
  {
   "cell_type": "code",
   "execution_count": 40,
   "id": "58cda408",
   "metadata": {},
   "outputs": [
    {
     "name": "stdout",
     "output_type": "stream",
     "text": [
      "apple 사과\n"
     ]
    }
   ],
   "source": []
  },
  {
   "cell_type": "code",
   "execution_count": 44,
   "id": "905b1a5b",
   "metadata": {},
   "outputs": [
    {
     "name": "stdout",
     "output_type": "stream",
     "text": [
      "dict_items([('apple', '사과'), ('orange', '오렌지')])\n"
     ]
    }
   ],
   "source": [
    "print(wordbook.items())"
   ]
  },
  {
   "cell_type": "code",
   "execution_count": 45,
   "id": "12b590e0",
   "metadata": {},
   "outputs": [
    {
     "name": "stdout",
     "output_type": "stream",
     "text": [
      "apple 사과\n"
     ]
    }
   ],
   "source": [
    "import random\n",
    "k, v = random.choice(list(wordbook.items()))\n",
    "print(k, v)"
   ]
  },
  {
   "cell_type": "markdown",
   "id": "b8c18a2b",
   "metadata": {},
   "source": [
    "## 4. 집합:set"
   ]
  },
  {
   "cell_type": "code",
   "execution_count": 48,
   "id": "8c6100c6",
   "metadata": {},
   "outputs": [
    {
     "name": "stdout",
     "output_type": "stream",
     "text": [
      "<class 'set'>\n",
      "{'e', 'H', 'o', 'l'}\n"
     ]
    }
   ],
   "source": [
    "a = set()\n",
    "print(type(a))\n",
    "\n",
    "a = set(\"Hello\")\n",
    "print(a)"
   ]
  },
  {
   "cell_type": "code",
   "execution_count": 49,
   "id": "34712fd4",
   "metadata": {
    "scrolled": false
   },
   "outputs": [
    {
     "name": "stdout",
     "output_type": "stream",
     "text": [
      "Help on class set in module builtins:\n",
      "\n",
      "class set(object)\n",
      " |  set() -> new empty set object\n",
      " |  set(iterable) -> new set object\n",
      " |  \n",
      " |  Build an unordered collection of unique elements.\n",
      " |  \n",
      " |  Methods defined here:\n",
      " |  \n",
      " |  __and__(self, value, /)\n",
      " |      Return self&value.\n",
      " |  \n",
      " |  __contains__(...)\n",
      " |      x.__contains__(y) <==> y in x.\n",
      " |  \n",
      " |  __eq__(self, value, /)\n",
      " |      Return self==value.\n",
      " |  \n",
      " |  __ge__(self, value, /)\n",
      " |      Return self>=value.\n",
      " |  \n",
      " |  __getattribute__(self, name, /)\n",
      " |      Return getattr(self, name).\n",
      " |  \n",
      " |  __gt__(self, value, /)\n",
      " |      Return self>value.\n",
      " |  \n",
      " |  __iand__(self, value, /)\n",
      " |      Return self&=value.\n",
      " |  \n",
      " |  __init__(self, /, *args, **kwargs)\n",
      " |      Initialize self.  See help(type(self)) for accurate signature.\n",
      " |  \n",
      " |  __ior__(self, value, /)\n",
      " |      Return self|=value.\n",
      " |  \n",
      " |  __isub__(self, value, /)\n",
      " |      Return self-=value.\n",
      " |  \n",
      " |  __iter__(self, /)\n",
      " |      Implement iter(self).\n",
      " |  \n",
      " |  __ixor__(self, value, /)\n",
      " |      Return self^=value.\n",
      " |  \n",
      " |  __le__(self, value, /)\n",
      " |      Return self<=value.\n",
      " |  \n",
      " |  __len__(self, /)\n",
      " |      Return len(self).\n",
      " |  \n",
      " |  __lt__(self, value, /)\n",
      " |      Return self<value.\n",
      " |  \n",
      " |  __ne__(self, value, /)\n",
      " |      Return self!=value.\n",
      " |  \n",
      " |  __or__(self, value, /)\n",
      " |      Return self|value.\n",
      " |  \n",
      " |  __rand__(self, value, /)\n",
      " |      Return value&self.\n",
      " |  \n",
      " |  __reduce__(...)\n",
      " |      Return state information for pickling.\n",
      " |  \n",
      " |  __repr__(self, /)\n",
      " |      Return repr(self).\n",
      " |  \n",
      " |  __ror__(self, value, /)\n",
      " |      Return value|self.\n",
      " |  \n",
      " |  __rsub__(self, value, /)\n",
      " |      Return value-self.\n",
      " |  \n",
      " |  __rxor__(self, value, /)\n",
      " |      Return value^self.\n",
      " |  \n",
      " |  __sizeof__(...)\n",
      " |      S.__sizeof__() -> size of S in memory, in bytes\n",
      " |  \n",
      " |  __sub__(self, value, /)\n",
      " |      Return self-value.\n",
      " |  \n",
      " |  __xor__(self, value, /)\n",
      " |      Return self^value.\n",
      " |  \n",
      " |  add(...)\n",
      " |      Add an element to a set.\n",
      " |      \n",
      " |      This has no effect if the element is already present.\n",
      " |  \n",
      " |  clear(...)\n",
      " |      Remove all elements from this set.\n",
      " |  \n",
      " |  copy(...)\n",
      " |      Return a shallow copy of a set.\n",
      " |  \n",
      " |  difference(...)\n",
      " |      Return the difference of two or more sets as a new set.\n",
      " |      \n",
      " |      (i.e. all elements that are in this set but not the others.)\n",
      " |  \n",
      " |  difference_update(...)\n",
      " |      Remove all elements of another set from this set.\n",
      " |  \n",
      " |  discard(...)\n",
      " |      Remove an element from a set if it is a member.\n",
      " |      \n",
      " |      If the element is not a member, do nothing.\n",
      " |  \n",
      " |  intersection(...)\n",
      " |      Return the intersection of two sets as a new set.\n",
      " |      \n",
      " |      (i.e. all elements that are in both sets.)\n",
      " |  \n",
      " |  intersection_update(...)\n",
      " |      Update a set with the intersection of itself and another.\n",
      " |  \n",
      " |  isdisjoint(...)\n",
      " |      Return True if two sets have a null intersection.\n",
      " |  \n",
      " |  issubset(...)\n",
      " |      Report whether another set contains this set.\n",
      " |  \n",
      " |  issuperset(...)\n",
      " |      Report whether this set contains another set.\n",
      " |  \n",
      " |  pop(...)\n",
      " |      Remove and return an arbitrary set element.\n",
      " |      Raises KeyError if the set is empty.\n",
      " |  \n",
      " |  remove(...)\n",
      " |      Remove an element from a set; it must be a member.\n",
      " |      \n",
      " |      If the element is not a member, raise a KeyError.\n",
      " |  \n",
      " |  symmetric_difference(...)\n",
      " |      Return the symmetric difference of two sets as a new set.\n",
      " |      \n",
      " |      (i.e. all elements that are in exactly one of the sets.)\n",
      " |  \n",
      " |  symmetric_difference_update(...)\n",
      " |      Update a set with the symmetric difference of itself and another.\n",
      " |  \n",
      " |  union(...)\n",
      " |      Return the union of sets as a new set.\n",
      " |      \n",
      " |      (i.e. all elements that are in either set.)\n",
      " |  \n",
      " |  update(...)\n",
      " |      Update a set with the union of itself and others.\n",
      " |  \n",
      " |  ----------------------------------------------------------------------\n",
      " |  Static methods defined here:\n",
      " |  \n",
      " |  __new__(*args, **kwargs) from builtins.type\n",
      " |      Create and return a new object.  See help(type) for accurate signature.\n",
      " |  \n",
      " |  ----------------------------------------------------------------------\n",
      " |  Data and other attributes defined here:\n",
      " |  \n",
      " |  __hash__ = None\n",
      "\n"
     ]
    }
   ],
   "source": [
    "help(set)"
   ]
  },
  {
   "cell_type": "code",
   "execution_count": 50,
   "id": "f06ef003",
   "metadata": {},
   "outputs": [
    {
     "name": "stdout",
     "output_type": "stream",
     "text": [
      "{2, 4}\n"
     ]
    },
    {
     "data": {
      "text/plain": [
       "{2, 4}"
      ]
     },
     "execution_count": 50,
     "metadata": {},
     "output_type": "execute_result"
    }
   ],
   "source": [
    "#교집합\n",
    "S1 = {1,2,3,4,5}\n",
    "S2 = {2,4,6,7,8}\n",
    "S = S1 & S2\n",
    "print(S)\n",
    "S1.intersection(S2) "
   ]
  },
  {
   "cell_type": "code",
   "execution_count": 51,
   "id": "4aef77af",
   "metadata": {},
   "outputs": [
    {
     "name": "stdout",
     "output_type": "stream",
     "text": [
      "{1, 2, 3, 4, 5, 6, 7, 8}\n"
     ]
    },
    {
     "data": {
      "text/plain": [
       "{1, 2, 3, 4, 5, 6, 7, 8}"
      ]
     },
     "execution_count": 51,
     "metadata": {},
     "output_type": "execute_result"
    }
   ],
   "source": [
    "#합집합: \n",
    "S = S1 | S2\n",
    "print(S)\n",
    "S1.union(S2) "
   ]
  },
  {
   "cell_type": "code",
   "execution_count": 52,
   "id": "737d3a4b",
   "metadata": {},
   "outputs": [
    {
     "name": "stdout",
     "output_type": "stream",
     "text": [
      "{1, 3, 5}\n"
     ]
    },
    {
     "data": {
      "text/plain": [
       "{1, 3, 5}"
      ]
     },
     "execution_count": 52,
     "metadata": {},
     "output_type": "execute_result"
    }
   ],
   "source": [
    "#차집합\n",
    "S = S1 - S2\n",
    "print(S)\n",
    "S1.difference(S2)"
   ]
  },
  {
   "cell_type": "markdown",
   "id": "6c484390",
   "metadata": {},
   "source": [
    "## 컴프리헨션"
   ]
  },
  {
   "cell_type": "code",
   "execution_count": 54,
   "id": "e3bff2cc",
   "metadata": {},
   "outputs": [
    {
     "data": {
      "text/plain": [
       "{1, 2, 3, 4, 5}"
      ]
     },
     "execution_count": 54,
     "metadata": {},
     "output_type": "execute_result"
    }
   ],
   "source": [
    "numSet = {i for i in range(1,6)}\n",
    "numSet"
   ]
  },
  {
   "cell_type": "code",
   "execution_count": 57,
   "id": "ec12ce05",
   "metadata": {},
   "outputs": [
    {
     "data": {
      "text/plain": [
       "[4,\n",
       " 8,\n",
       " 12,\n",
       " 16,\n",
       " 20,\n",
       " 24,\n",
       " 28,\n",
       " 32,\n",
       " 36,\n",
       " 40,\n",
       " 44,\n",
       " 48,\n",
       " 52,\n",
       " 56,\n",
       " 60,\n",
       " 64,\n",
       " 68,\n",
       " 72,\n",
       " 76,\n",
       " 80,\n",
       " 84,\n",
       " 88,\n",
       " 92,\n",
       " 96,\n",
       " 100,\n",
       " 104,\n",
       " 108,\n",
       " 112,\n",
       " 116,\n",
       " 120,\n",
       " 124,\n",
       " 128,\n",
       " 132,\n",
       " 136,\n",
       " 140,\n",
       " 144,\n",
       " 148,\n",
       " 152,\n",
       " 156,\n",
       " 160,\n",
       " 164,\n",
       " 168,\n",
       " 172,\n",
       " 176,\n",
       " 180,\n",
       " 184,\n",
       " 188,\n",
       " 192,\n",
       " 196,\n",
       " 200]"
      ]
     },
     "execution_count": 57,
     "metadata": {},
     "output_type": "execute_result"
    }
   ],
   "source": [
    "numList = [i*2 for i in range(1,101) if i%2==0]\n",
    "numList"
   ]
  },
  {
   "cell_type": "code",
   "execution_count": null,
   "id": "30cb5fe5",
   "metadata": {},
   "outputs": [],
   "source": []
  }
 ],
 "metadata": {
  "kernelspec": {
   "display_name": "Python 3 (ipykernel)",
   "language": "python",
   "name": "python3"
  },
  "language_info": {
   "codemirror_mode": {
    "name": "ipython",
    "version": 3
   },
   "file_extension": ".py",
   "mimetype": "text/x-python",
   "name": "python",
   "nbconvert_exporter": "python",
   "pygments_lexer": "ipython3",
   "version": "3.8.10"
  }
 },
 "nbformat": 4,
 "nbformat_minor": 5
}
