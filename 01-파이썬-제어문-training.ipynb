{
 "cells": [
  {
   "cell_type": "code",
   "execution_count": 1,
   "id": "a052ba75",
   "metadata": {},
   "outputs": [
    {
     "name": "stdout",
     "output_type": "stream",
     "text": [
      "숫자를 입력해 주세요: 1215\n",
      "입력된 수 : 1215 ==> 홀수\n"
     ]
    }
   ],
   "source": [
    "x = int(input(\"숫자를 입력해 주세요: \"))\n",
    "if x%2==0:\n",
    "    print(\"입력된 수 : %d ==> 짝수\"%x)\n",
    "else:\n",
    "    print(\"입력된 수 : %d ==> 홀수\"%x)"
   ]
  },
  {
   "cell_type": "code",
   "execution_count": 14,
   "id": "b823ad75",
   "metadata": {},
   "outputs": [
    {
     "name": "stdout",
     "output_type": "stream",
     "text": [
      "성적을 입력해 주세요: 120\n",
      "성적 입력 오류\n"
     ]
    }
   ],
   "source": [
    "x = int(input(\"성적을 입력해 주세요: \"))\n",
    "grades = {'A':90, 'B':80, 'C':70, 'D':0}\n",
    "if x>100 or x<0:\n",
    "    print(\"성적 입력 오류\")\n",
    "else:\n",
    "    for grade, score in grades.items():\n",
    "        if x >= score:\n",
    "            print(\"성적: %d 는 %s 등급 입니다.\"%(x, grade))\n",
    "            break"
   ]
  },
  {
   "cell_type": "code",
   "execution_count": 35,
   "id": "a60b49a4",
   "metadata": {
    "scrolled": false
   },
   "outputs": [
    {
     "name": "stdout",
     "output_type": "stream",
     "text": [
      "주민번호 :080111-4311256\n",
      "2008년 01월 11일, 13세, 여성\n"
     ]
    }
   ],
   "source": [
    "import datetime\n",
    "this_year = datetime.datetime.now().year\n",
    "datas = {1:{\"연도\":1900,\"성별\":\"남성\"},\n",
    "        2:{\"연도\":1900,\"성별\":\"여성\"},\n",
    "        3:{\"연도\":2000,\"성별\":\"남성\"},\n",
    "        4:{\"연도\":2000,\"성별\":\"여성\"}}\n",
    "\n",
    "jm = input(\"주민번호 :\").replace(\"-\",\"\")\n",
    "if len(jm)==13:\n",
    "    G = int(jm[6])\n",
    "    if G in datas.keys():\n",
    "        year = int(jm[:2])\n",
    "        month = int(jm[2:4])\n",
    "        day = int(jm[4:6])\n",
    "        birth_year = datas[G][\"연도\"]+year\n",
    "        age = this_year - birth_year\n",
    "        print(\"%d년 %02d월 %02d일, %d세, %s\"%(birth_year,month,day,age,datas[G][\"성별\"]))\n",
    "else:\n",
    "    print(\"주민번호 입력 오류\")"
   ]
  },
  {
   "cell_type": "code",
   "execution_count": 47,
   "id": "21538aaf",
   "metadata": {},
   "outputs": [
    {
     "name": "stdout",
     "output_type": "stream",
     "text": [
      "durga prasad\n",
      "6000\n",
      "6500\n",
      "yarramsetti\n",
      "True\n"
     ]
    }
   ],
   "source": [
    "class empDetails:\n",
    "    def __init__(self,name,sal):\n",
    "        self.name=name\n",
    "        self.sal=sal\n",
    "    @classmethod\n",
    "    def increment(cls,name,none):\n",
    "        return cls('yarramsetti',6000 + 500)\n",
    "    @staticmethod\n",
    "    def salChecking(sal):\n",
    "        return sal > 6000\n",
    "\n",
    "emp1=empDetails('durga prasad',6000)\n",
    "emp2=empDetails.increment('yarramsetti',100)\n",
    "# output is 'durga prasad'\n",
    "print(emp1.name)\n",
    "# output put is 6000\n",
    "print(emp1.sal)\n",
    "# output is 6500,because it change the sal variable\n",
    "print(emp2.sal)\n",
    "# output is 'yarramsetti' it change the state of name variable\n",
    "print(emp2.name)\n",
    "# output is True, because ,it change the state of sal variable\n",
    "print(empDetails.salChecking(6500))"
   ]
  },
  {
   "cell_type": "markdown",
   "id": "f66a24d2",
   "metadata": {},
   "source": [
    "# 실습문제 : 커피 자동머신"
   ]
  },
  {
   "cell_type": "code",
   "execution_count": 56,
   "id": "40231bea",
   "metadata": {},
   "outputs": [
    {
     "name": "stdout",
     "output_type": "stream",
     "text": [
      "\n",
      "[커피 자동주문 머신 메뉴]\n",
      "-----------------------------\n",
      "- 아메리카노는 2500원\n",
      "- 카페라떼는 3000원\n",
      "- 카푸치노는 3000원\n",
      "입니다. 원하시는 커피종류와\n",
      "잔수를 입력하세요.\n",
      "-----------------------------\n",
      "아메리카노 몇잔?: 10\n",
      "카페라떼 몇잔?: 5\n",
      "아메리카노 몇잔?: 17\n",
      "지불할 금액은 91000원입니다.\n",
      "돈을 넣어주세요:50000\n",
      "금액이 부족합니다.41000 원을 더 넣어주세요\n"
     ]
    }
   ],
   "source": [
    "menu = \"\"\"\n",
    "[커피 자동주문 머신 메뉴]\n",
    "-----------------------------\n",
    "- 아메리카노는 2500원\n",
    "- 카페라떼는 3000원\n",
    "- 카푸치노는 3000원\n",
    "입니다. 원하시는 커피종류와\n",
    "잔수를 입력하세요.\n",
    "-----------------------------\n",
    "\"\"\"\n",
    "coffee1 = int(input(menu+\"아메리카노 몇잔?: \"))\n",
    "coffee2 = int(input(\"카페라떼 몇잔?: \"))\n",
    "coffee3 = int(input(\"아메리카노 몇잔?: \"))\n",
    "money_to_pay = coffee1*2500 +coffee2*3000+coffee3*3000\n",
    "print(\"지불할 금액은 %d원입니다.\"%money_to_pay)\n",
    "money = int(input(\"돈을 넣어주세요:\"))\n",
    "if money >= money_to_pay:\n",
    "    print(f\"거스름돈은 {money-money_to_pay} 원 입니다\")\n",
    "else:\n",
    "    print(f\"금액이 부족합니다.{money_to_pay-money} 원을 더 넣어주세요\")"
   ]
  },
  {
   "cell_type": "markdown",
   "id": "b5bd53e2",
   "metadata": {},
   "source": [
    "# 난수 : random"
   ]
  },
  {
   "cell_type": "code",
   "execution_count": 57,
   "id": "09509bd5",
   "metadata": {},
   "outputs": [],
   "source": [
    "import random"
   ]
  },
  {
   "cell_type": "code",
   "execution_count": 224,
   "id": "b1cb9d7a",
   "metadata": {
    "scrolled": false
   },
   "outputs": [
    {
     "name": "stdout",
     "output_type": "stream",
     "text": [
      "주사위를 던집니다!\n",
      "----------------------------\n",
      "A의 주사위 숫자는 4입니다.\n",
      "B의 주사위 숫자는 4입니다.\n",
      "----------------------------\n",
      "모두가 이겼습니다.\n",
      "\n"
     ]
    }
   ],
   "source": [
    "a_num = random.randint(1,6)\n",
    "b_num = random.randint(1,6)\n",
    "\n",
    "if a_num>b_num:\n",
    "    winner=\"A\"\n",
    "elif a_num<b_num:\n",
    "    winner=\"B\"\n",
    "else:\n",
    "    winner=\"모두\"\n",
    "    \n",
    "msg = \"\"\"주사위를 던집니다!\n",
    "----------------------------\n",
    "A의 주사위 숫자는 %d입니다.\n",
    "B의 주사위 숫자는 %d입니다.\n",
    "----------------------------\n",
    "%s가 이겼습니다.\n",
    "\"\"\"%(a_num, b_num,winner)\n",
    "print(msg)"
   ]
  },
  {
   "cell_type": "code",
   "execution_count": 5,
   "id": "052e3305",
   "metadata": {},
   "outputs": [
    {
     "name": "stdout",
     "output_type": "stream",
     "text": [
      "합계를 구할 숫자 입력 : 100\n",
      "1~100까지의 합은: 5050\n"
     ]
    }
   ],
   "source": [
    "num = int(input(\"합계를 구할 숫자 입력 : \"))\n",
    "hap = sum([i for i in range(1,num+1)])\n",
    "print(f\"1~{num}까지의 합은: {hap}\")"
   ]
  },
  {
   "cell_type": "code",
   "execution_count": 7,
   "id": "9379e031",
   "metadata": {},
   "outputs": [
    {
     "name": "stdout",
     "output_type": "stream",
     "text": [
      "합계를 구할 숫자 입력 : 100\n",
      "1~100까지의 합은: 2500\n"
     ]
    }
   ],
   "source": [
    "num = int(input(\"합계를 구할 숫자 입력 : \"))\n",
    "hap = sum([i for i in range(1,num+1) if i%2 !=0])\n",
    "print(f\"1~{num}까지의 합은: {hap}\")"
   ]
  },
  {
   "cell_type": "code",
   "execution_count": 8,
   "id": "2226d217",
   "metadata": {},
   "outputs": [
    {
     "name": "stdout",
     "output_type": "stream",
     "text": [
      "합계를 구할 숫자 입력 : 100\n",
      "1~100까지의 합은: 3367\n"
     ]
    }
   ],
   "source": [
    "num = int(input(\"합계를 구할 숫자 입력 : \"))\n",
    "hap = sum([i for i in range(1,num+1) if i%3 !=0])\n",
    "print(f\"1~{num}까지의 합은: {hap}\")"
   ]
  },
  {
   "cell_type": "code",
   "execution_count": 1,
   "id": "e61ed887",
   "metadata": {
    "scrolled": true
   },
   "outputs": [
    {
     "name": "stdout",
     "output_type": "stream",
     "text": [
      "몇 단까지 출력할까요?: 9\n",
      "몇 열 씩을 출력할까요?: 9\n",
      "  #    2   단    #    3   단    #    4   단    #    5   단    #    6   단    #    7   단    #    8   단    #    9   단  \n",
      " 2 x  1 =   2   3 x  1 =   3   4 x  1 =   4   5 x  1 =   5   6 x  1 =   6   7 x  1 =   7   8 x  1 =   8   9 x  1 =   9  \n",
      " 2 x  2 =   4   3 x  2 =   6   4 x  2 =   8   5 x  2 =  10   6 x  2 =  12   7 x  2 =  14   8 x  2 =  16   9 x  2 =  18  \n",
      " 2 x  3 =   6   3 x  3 =   9   4 x  3 =  12   5 x  3 =  15   6 x  3 =  18   7 x  3 =  21   8 x  3 =  24   9 x  3 =  27  \n",
      " 2 x  4 =   8   3 x  4 =  12   4 x  4 =  16   5 x  4 =  20   6 x  4 =  24   7 x  4 =  28   8 x  4 =  32   9 x  4 =  36  \n",
      " 2 x  5 =  10   3 x  5 =  15   4 x  5 =  20   5 x  5 =  25   6 x  5 =  30   7 x  5 =  35   8 x  5 =  40   9 x  5 =  45  \n",
      " 2 x  6 =  12   3 x  6 =  18   4 x  6 =  24   5 x  6 =  30   6 x  6 =  36   7 x  6 =  42   8 x  6 =  48   9 x  6 =  54  \n",
      " 2 x  7 =  14   3 x  7 =  21   4 x  7 =  28   5 x  7 =  35   6 x  7 =  42   7 x  7 =  49   8 x  7 =  56   9 x  7 =  63  \n",
      " 2 x  8 =  16   3 x  8 =  24   4 x  8 =  32   5 x  8 =  40   6 x  8 =  48   7 x  8 =  56   8 x  8 =  64   9 x  8 =  72  \n",
      " 2 x  9 =  18   3 x  9 =  27   4 x  9 =  36   5 x  9 =  45   6 x  9 =  54   7 x  9 =  63   8 x  9 =  72   9 x  9 =  81  \n"
     ]
    }
   ],
   "source": [
    "hor = int(input(\"몇 단까지 출력할까요?: \"))\n",
    "ver = int(input(\"몇 열 씩을 출력할까요?: \"))\n",
    "for j in range(2,hor+1):\n",
    "    print(f\"  #  {j:^5} 단\", end=\"  \")\n",
    "print()\n",
    "for i in range(1,ver+1):\n",
    "    for j in range(2,hor+1):\n",
    "        print(f\"{j:2} x {i:2} = {j*i:3}\", end=\"  \")\n",
    "    print()"
   ]
  },
  {
   "cell_type": "code",
   "execution_count": 30,
   "id": "b8cc980f",
   "metadata": {
    "scrolled": true
   },
   "outputs": [
    {
     "name": "stdout",
     "output_type": "stream",
     "text": [
      "[49995000 49995001 49995002 ... 50004997 50004998 50004999]\n",
      "Wall time: 0 ns\n"
     ]
    }
   ],
   "source": [
    "%%time\n",
    "from numba import jit\n",
    "import numpy as np\n",
    "\n",
    "x = np.arange(10000)\n",
    "\n",
    "# @jit(nopython=True) # Set \"nopython\" mode for best performance, equivalent to @njit\n",
    "def go_fast(a): # Function is compiled to machine code when called the first time\n",
    "    trace = 0\n",
    "    for i in range(a.shape[0]):   # Numba likes loops\n",
    "        # trace += np.tanh(a[i, i]) # Numba likes NumPy functions\n",
    "        trace += i # Numba likes NumPy functions\n",
    "    return a + trace              # Numba likes NumPy broadcasting\n",
    "\n",
    "print(go_fast(x))"
   ]
  },
  {
   "cell_type": "code",
   "execution_count": 28,
   "id": "ace80d5f",
   "metadata": {},
   "outputs": [
    {
     "name": "stdout",
     "output_type": "stream",
     "text": [
      "[[499950 499951 499952 ... 500047 500048 500049]\n",
      " [500050 500051 500052 ... 500147 500148 500149]\n",
      " [500150 500151 500152 ... 500247 500248 500249]\n",
      " ...\n",
      " [509650 509651 509652 ... 509747 509748 509749]\n",
      " [509750 509751 509752 ... 509847 509848 509849]\n",
      " [509850 509851 509852 ... 509947 509948 509949]]\n",
      "Wall time: 997 µs\n"
     ]
    }
   ],
   "source": [
    "%%time\n",
    "from numba import jit\n",
    "import numpy as np\n",
    "\n",
    "x = np.arange(10000).reshape(100, 100)\n",
    "\n",
    "# @jit(nopython=True) # Set \"nopython\" mode for best performance, equivalent to @njit\n",
    "def go_fast(a): # Function is compiled to machine code when called the first time\n",
    "    trace = 0\n",
    "    for i in range(a.shape[0]):   # Numba likes loops\n",
    "        # trace += np.tanh(a[i, i]) # Numba likes NumPy functions\n",
    "        trace += a[i, i] # Numba likes NumPy functions\n",
    "    return a + trace              # Numba likes NumPy broadcasting\n",
    "\n",
    "print(go_fast(x))"
   ]
  }
 ],
 "metadata": {
  "kernelspec": {
   "display_name": "Python 3 (ipykernel)",
   "language": "python",
   "name": "python3"
  },
  "language_info": {
   "codemirror_mode": {
    "name": "ipython",
    "version": 3
   },
   "file_extension": ".py",
   "mimetype": "text/x-python",
   "name": "python",
   "nbconvert_exporter": "python",
   "pygments_lexer": "ipython3",
   "version": "3.8.10"
  }
 },
 "nbformat": 4,
 "nbformat_minor": 5
}
