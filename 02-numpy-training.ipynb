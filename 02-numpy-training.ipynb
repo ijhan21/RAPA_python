{
 "cells": [
  {
   "cell_type": "code",
   "execution_count": 1,
   "id": "ea1aae90",
   "metadata": {},
   "outputs": [
    {
     "data": {
      "text/plain": [
       "'1.21.2'"
      ]
     },
     "execution_count": 1,
     "metadata": {},
     "output_type": "execute_result"
    }
   ],
   "source": [
    "import numpy as np\n",
    "np.__version__"
   ]
  },
  {
   "cell_type": "code",
   "execution_count": 13,
   "id": "e7d15e4a",
   "metadata": {},
   "outputs": [],
   "source": [
    "arr = np.array(range(10), dtype=np.int64)"
   ]
  },
  {
   "cell_type": "code",
   "execution_count": 14,
   "id": "2270b41a",
   "metadata": {},
   "outputs": [
    {
     "data": {
      "text/plain": [
       "(numpy.ndarray, array([0, 1, 2, 3, 4, 5, 6, 7, 8, 9], dtype=int64))"
      ]
     },
     "execution_count": 14,
     "metadata": {},
     "output_type": "execute_result"
    }
   ],
   "source": [
    "type(arr), arr"
   ]
  },
  {
   "cell_type": "code",
   "execution_count": 17,
   "id": "c51f36b2",
   "metadata": {
    "scrolled": true
   },
   "outputs": [],
   "source": [
    "k = arr.reshape(2,-1)*10"
   ]
  },
  {
   "cell_type": "code",
   "execution_count": 18,
   "id": "e30cc452",
   "metadata": {},
   "outputs": [
    {
     "data": {
      "text/plain": [
       "2"
      ]
     },
     "execution_count": 18,
     "metadata": {},
     "output_type": "execute_result"
    }
   ],
   "source": [
    "k.ndim"
   ]
  },
  {
   "cell_type": "code",
   "execution_count": 19,
   "id": "a6b1a6c0",
   "metadata": {
    "scrolled": true
   },
   "outputs": [
    {
     "data": {
      "text/plain": [
       "(2, 5)"
      ]
     },
     "execution_count": 19,
     "metadata": {},
     "output_type": "execute_result"
    }
   ],
   "source": [
    "k.shape"
   ]
  },
  {
   "cell_type": "code",
   "execution_count": 22,
   "id": "4fb2cc98",
   "metadata": {},
   "outputs": [
    {
     "data": {
      "text/plain": [
       "array(['aaaaaaa', '1'], dtype='<U11')"
      ]
     },
     "execution_count": 22,
     "metadata": {},
     "output_type": "execute_result"
    }
   ],
   "source": [
    "aa = ['aaaaaaa',1]\n",
    "n_c = np.array(aa)\n",
    "n_c"
   ]
  },
  {
   "cell_type": "code",
   "execution_count": 32,
   "id": "8e9f616f",
   "metadata": {},
   "outputs": [
    {
     "data": {
      "text/plain": [
       "finfo(resolution=0.001, min=-6.55040e+04, max=6.55040e+04, dtype=float16)"
      ]
     },
     "execution_count": 32,
     "metadata": {},
     "output_type": "execute_result"
    }
   ],
   "source": [
    "np.finfo('float16')"
   ]
  },
  {
   "cell_type": "code",
   "execution_count": 3,
   "id": "3cd9e46c",
   "metadata": {},
   "outputs": [
    {
     "data": {
      "text/plain": [
       "array([ 1,  2,  3,  4,  5,  6,  7,  8,  9, 10, 11, 12, 13, 14, 15, 16, 17,\n",
       "       18, 19, 20])"
      ]
     },
     "execution_count": 3,
     "metadata": {},
     "output_type": "execute_result"
    }
   ],
   "source": [
    "import numpy as np\n",
    "x = np.array(range(1, 21))\n",
    "x"
   ]
  },
  {
   "cell_type": "code",
   "execution_count": 5,
   "id": "af36d20b",
   "metadata": {},
   "outputs": [
    {
     "data": {
      "text/plain": [
       "array([ 3,  6,  9, 12, 15, 18])"
      ]
     },
     "execution_count": 5,
     "metadata": {},
     "output_type": "execute_result"
    }
   ],
   "source": [
    "x[x%3==0]"
   ]
  },
  {
   "cell_type": "code",
   "execution_count": 6,
   "id": "fca6163c",
   "metadata": {},
   "outputs": [
    {
     "data": {
      "text/plain": [
       "array([ 1,  5,  9, 13, 17])"
      ]
     },
     "execution_count": 6,
     "metadata": {},
     "output_type": "execute_result"
    }
   ],
   "source": [
    "x[x%4==1]"
   ]
  },
  {
   "cell_type": "code",
   "execution_count": 12,
   "id": "4e6f930a",
   "metadata": {},
   "outputs": [
    {
     "data": {
      "text/plain": [
       "array([9])"
      ]
     },
     "execution_count": 12,
     "metadata": {},
     "output_type": "execute_result"
    }
   ],
   "source": [
    "x[(x%3==0) & (x%4==1)]"
   ]
  },
  {
   "cell_type": "code",
   "execution_count": 14,
   "id": "dfb3b524",
   "metadata": {
    "scrolled": true
   },
   "outputs": [
    {
     "name": "stdout",
     "output_type": "stream",
     "text": [
      "[2 2 2 2 2 2 2 2 2 2]\n",
      "[ 1.   2.9  4.8  6.7  8.6 10.5 12.4 14.3 16.2 18.1 20. ]\n"
     ]
    }
   ],
   "source": [
    "hist, bins = np.histogram(x)\n",
    "print(hist)\n",
    "print(bins)"
   ]
  },
  {
   "cell_type": "code",
   "execution_count": 15,
   "id": "0b8d2108",
   "metadata": {},
   "outputs": [
    {
     "name": "stdout",
     "output_type": "stream",
     "text": [
      "Help on function histogram in module numpy:\n",
      "\n",
      "histogram(a, bins=10, range=None, normed=None, weights=None, density=None)\n",
      "    Compute the histogram of a dataset.\n",
      "    \n",
      "    Parameters\n",
      "    ----------\n",
      "    a : array_like\n",
      "        Input data. The histogram is computed over the flattened array.\n",
      "    bins : int or sequence of scalars or str, optional\n",
      "        If `bins` is an int, it defines the number of equal-width\n",
      "        bins in the given range (10, by default). If `bins` is a\n",
      "        sequence, it defines a monotonically increasing array of bin edges,\n",
      "        including the rightmost edge, allowing for non-uniform bin widths.\n",
      "    \n",
      "        .. versionadded:: 1.11.0\n",
      "    \n",
      "        If `bins` is a string, it defines the method used to calculate the\n",
      "        optimal bin width, as defined by `histogram_bin_edges`.\n",
      "    \n",
      "    range : (float, float), optional\n",
      "        The lower and upper range of the bins.  If not provided, range\n",
      "        is simply ``(a.min(), a.max())``.  Values outside the range are\n",
      "        ignored. The first element of the range must be less than or\n",
      "        equal to the second. `range` affects the automatic bin\n",
      "        computation as well. While bin width is computed to be optimal\n",
      "        based on the actual data within `range`, the bin count will fill\n",
      "        the entire range including portions containing no data.\n",
      "    normed : bool, optional\n",
      "    \n",
      "        .. deprecated:: 1.6.0\n",
      "    \n",
      "        This is equivalent to the `density` argument, but produces incorrect\n",
      "        results for unequal bin widths. It should not be used.\n",
      "    \n",
      "        .. versionchanged:: 1.15.0\n",
      "            DeprecationWarnings are actually emitted.\n",
      "    \n",
      "    weights : array_like, optional\n",
      "        An array of weights, of the same shape as `a`.  Each value in\n",
      "        `a` only contributes its associated weight towards the bin count\n",
      "        (instead of 1). If `density` is True, the weights are\n",
      "        normalized, so that the integral of the density over the range\n",
      "        remains 1.\n",
      "    density : bool, optional\n",
      "        If ``False``, the result will contain the number of samples in\n",
      "        each bin. If ``True``, the result is the value of the\n",
      "        probability *density* function at the bin, normalized such that\n",
      "        the *integral* over the range is 1. Note that the sum of the\n",
      "        histogram values will not be equal to 1 unless bins of unity\n",
      "        width are chosen; it is not a probability *mass* function.\n",
      "    \n",
      "        Overrides the ``normed`` keyword if given.\n",
      "    \n",
      "    Returns\n",
      "    -------\n",
      "    hist : array\n",
      "        The values of the histogram. See `density` and `weights` for a\n",
      "        description of the possible semantics.\n",
      "    bin_edges : array of dtype float\n",
      "        Return the bin edges ``(length(hist)+1)``.\n",
      "    \n",
      "    \n",
      "    See Also\n",
      "    --------\n",
      "    histogramdd, bincount, searchsorted, digitize, histogram_bin_edges\n",
      "    \n",
      "    Notes\n",
      "    -----\n",
      "    All but the last (righthand-most) bin is half-open.  In other words,\n",
      "    if `bins` is::\n",
      "    \n",
      "      [1, 2, 3, 4]\n",
      "    \n",
      "    then the first bin is ``[1, 2)`` (including 1, but excluding 2) and\n",
      "    the second ``[2, 3)``.  The last bin, however, is ``[3, 4]``, which\n",
      "    *includes* 4.\n",
      "    \n",
      "    \n",
      "    Examples\n",
      "    --------\n",
      "    >>> np.histogram([1, 2, 1], bins=[0, 1, 2, 3])\n",
      "    (array([0, 2, 1]), array([0, 1, 2, 3]))\n",
      "    >>> np.histogram(np.arange(4), bins=np.arange(5), density=True)\n",
      "    (array([0.25, 0.25, 0.25, 0.25]), array([0, 1, 2, 3, 4]))\n",
      "    >>> np.histogram([[1, 2, 1], [1, 0, 1]], bins=[0,1,2,3])\n",
      "    (array([1, 4, 1]), array([0, 1, 2, 3]))\n",
      "    \n",
      "    >>> a = np.arange(5)\n",
      "    >>> hist, bin_edges = np.histogram(a, density=True)\n",
      "    >>> hist\n",
      "    array([0.5, 0. , 0.5, 0. , 0. , 0.5, 0. , 0.5, 0. , 0.5])\n",
      "    >>> hist.sum()\n",
      "    2.4999999999999996\n",
      "    >>> np.sum(hist * np.diff(bin_edges))\n",
      "    1.0\n",
      "    \n",
      "    .. versionadded:: 1.11.0\n",
      "    \n",
      "    Automated Bin Selection Methods example, using 2 peak random data\n",
      "    with 2000 points:\n",
      "    \n",
      "    >>> import matplotlib.pyplot as plt\n",
      "    >>> rng = np.random.RandomState(10)  # deterministic random data\n",
      "    >>> a = np.hstack((rng.normal(size=1000),\n",
      "    ...                rng.normal(loc=5, scale=2, size=1000)))\n",
      "    >>> _ = plt.hist(a, bins='auto')  # arguments are passed to np.histogram\n",
      "    >>> plt.title(\"Histogram with 'auto' bins\")\n",
      "    Text(0.5, 1.0, \"Histogram with 'auto' bins\")\n",
      "    >>> plt.show()\n",
      "\n"
     ]
    }
   ],
   "source": [
    "help(np.histogram)"
   ]
  }
 ],
 "metadata": {
  "kernelspec": {
   "display_name": "Python 3 (ipykernel)",
   "language": "python",
   "name": "python3"
  },
  "language_info": {
   "codemirror_mode": {
    "name": "ipython",
    "version": 3
   },
   "file_extension": ".py",
   "mimetype": "text/x-python",
   "name": "python",
   "nbconvert_exporter": "python",
   "pygments_lexer": "ipython3",
   "version": "3.8.10"
  }
 },
 "nbformat": 4,
 "nbformat_minor": 5
}
