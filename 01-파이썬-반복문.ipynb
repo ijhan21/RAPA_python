{
 "cells": [
  {
   "cell_type": "code",
   "execution_count": 7,
   "id": "b4a00b46",
   "metadata": {
    "scrolled": true
   },
   "outputs": [
    {
     "name": "stdout",
     "output_type": "stream",
     "text": [
      "몇 단까지 출력할까요?: 9\n",
      "몇 열 씩을 출력할까요?: 19\n",
      " #     2   단    #     3   단    #     4   단    #     5   단    #     6   단    #     7   단    #     8   단    #     9   단   \n",
      " 2 x  1 =   2    3 x  1 =   3    4 x  1 =   4    5 x  1 =   5    6 x  1 =   6    7 x  1 =   7    8 x  1 =   8    9 x  1 =   9   \n",
      " 2 x  2 =   4    3 x  2 =   6    4 x  2 =   8    5 x  2 =  10    6 x  2 =  12    7 x  2 =  14    8 x  2 =  16    9 x  2 =  18   \n",
      " 2 x  3 =   6    3 x  3 =   9    4 x  3 =  12    5 x  3 =  15    6 x  3 =  18    7 x  3 =  21    8 x  3 =  24    9 x  3 =  27   \n",
      " 2 x  4 =   8    3 x  4 =  12    4 x  4 =  16    5 x  4 =  20    6 x  4 =  24    7 x  4 =  28    8 x  4 =  32    9 x  4 =  36   \n",
      " 2 x  5 =  10    3 x  5 =  15    4 x  5 =  20    5 x  5 =  25    6 x  5 =  30    7 x  5 =  35    8 x  5 =  40    9 x  5 =  45   \n",
      " 2 x  6 =  12    3 x  6 =  18    4 x  6 =  24    5 x  6 =  30    6 x  6 =  36    7 x  6 =  42    8 x  6 =  48    9 x  6 =  54   \n",
      " 2 x  7 =  14    3 x  7 =  21    4 x  7 =  28    5 x  7 =  35    6 x  7 =  42    7 x  7 =  49    8 x  7 =  56    9 x  7 =  63   \n",
      " 2 x  8 =  16    3 x  8 =  24    4 x  8 =  32    5 x  8 =  40    6 x  8 =  48    7 x  8 =  56    8 x  8 =  64    9 x  8 =  72   \n",
      " 2 x  9 =  18    3 x  9 =  27    4 x  9 =  36    5 x  9 =  45    6 x  9 =  54    7 x  9 =  63    8 x  9 =  72    9 x  9 =  81   \n",
      " 2 x 10 =  20    3 x 10 =  30    4 x 10 =  40    5 x 10 =  50    6 x 10 =  60    7 x 10 =  70    8 x 10 =  80    9 x 10 =  90   \n",
      " 2 x 11 =  22    3 x 11 =  33    4 x 11 =  44    5 x 11 =  55    6 x 11 =  66    7 x 11 =  77    8 x 11 =  88    9 x 11 =  99   \n",
      " 2 x 12 =  24    3 x 12 =  36    4 x 12 =  48    5 x 12 =  60    6 x 12 =  72    7 x 12 =  84    8 x 12 =  96    9 x 12 = 108   \n",
      " 2 x 13 =  26    3 x 13 =  39    4 x 13 =  52    5 x 13 =  65    6 x 13 =  78    7 x 13 =  91    8 x 13 = 104    9 x 13 = 117   \n",
      " 2 x 14 =  28    3 x 14 =  42    4 x 14 =  56    5 x 14 =  70    6 x 14 =  84    7 x 14 =  98    8 x 14 = 112    9 x 14 = 126   \n",
      " 2 x 15 =  30    3 x 15 =  45    4 x 15 =  60    5 x 15 =  75    6 x 15 =  90    7 x 15 = 105    8 x 15 = 120    9 x 15 = 135   \n",
      " 2 x 16 =  32    3 x 16 =  48    4 x 16 =  64    5 x 16 =  80    6 x 16 =  96    7 x 16 = 112    8 x 16 = 128    9 x 16 = 144   \n",
      " 2 x 17 =  34    3 x 17 =  51    4 x 17 =  68    5 x 17 =  85    6 x 17 = 102    7 x 17 = 119    8 x 17 = 136    9 x 17 = 153   \n",
      " 2 x 18 =  36    3 x 18 =  54    4 x 18 =  72    5 x 18 =  90    6 x 18 = 108    7 x 18 = 126    8 x 18 = 144    9 x 18 = 162   \n",
      " 2 x 19 =  38    3 x 19 =  57    4 x 19 =  76    5 x 19 =  95    6 x 19 = 114    7 x 19 = 133    8 x 19 = 152    9 x 19 = 171   \n"
     ]
    }
   ],
   "source": [
    "hor = int(input(\"몇 단까지 출력할까요?: \"))\n",
    "ver = int(input(\"몇 열 씩 출력할까요?: \"))\n",
    "\n",
    "for i in range(0,ver+1):\n",
    "    if i==0:\n",
    "        for j in range(2,hor+1):\n",
    "            print(f\" #  {j:^7}단\", end=\"   \")\n",
    "        print()\n",
    "    else:        \n",
    "        for j in range(2,hor+1):\n",
    "            print(f\"{j:2} x {i:2} = {j*i:3}\", end=\"   \")\n",
    "        print()"
   ]
  },
  {
   "cell_type": "code",
   "execution_count": 8,
   "id": "9a5e1cca",
   "metadata": {
    "scrolled": true
   },
   "outputs": [
    {
     "name": "stdout",
     "output_type": "stream",
     "text": [
      "{'red': ['5'], 'blue': ['7'], 'green': ['']}\n"
     ]
    }
   ],
   "source": [
    "from urllib.parse import parse_qs\n",
    "\n",
    "\"\"\"\n",
    "헬퍼 함수를 작성하자\n",
    "\"\"\"\n",
    "\n",
    "my_values = parse_qs(\"red=5&blue=7&green=\", keep_blank_values=True)\n",
    "print(repr(my_values))\n"
   ]
  },
  {
   "cell_type": "code",
   "execution_count": 14,
   "id": "eff8e968",
   "metadata": {},
   "outputs": [
    {
     "data": {
      "text/plain": [
       "(False, True)"
      ]
     },
     "execution_count": 14,
     "metadata": {},
     "output_type": "execute_result"
    }
   ],
   "source": [
    "a = 123\n",
    "str(a) is repr(a), str(a) == repr(a)"
   ]
  },
  {
   "cell_type": "code",
   "execution_count": 27,
   "id": "0ab79efd",
   "metadata": {
    "scrolled": true
   },
   "outputs": [
    {
     "name": "stdout",
     "output_type": "stream",
     "text": [
      "1부터 35까지 출력\n",
      "\n",
      "  1   6  11  16  21  26  31 \n",
      "  2   7  12  17  22  27  32 \n",
      "  3   8  13  18  23  28  33 \n",
      "  4   9  14  19  24  29  34 \n",
      "  5  10  15  20  25  30  35 \n"
     ]
    }
   ],
   "source": [
    "row = 5\n",
    "col = 7\n",
    "print(f\"1부터 {row*col}까지 출력\\n\")\n",
    "for i in range(1,row+1):\n",
    "    for j in range(col):\n",
    "        print(f\"{i+row*j:3}\", end=\" \")\n",
    "    print()"
   ]
  },
  {
   "cell_type": "code",
   "execution_count": 36,
   "id": "b379f9ea",
   "metadata": {},
   "outputs": [
    {
     "name": "stdout",
     "output_type": "stream",
     "text": [
      "Invalid inputs!\n",
      "0.0\n",
      "result1 (False, None)\n"
     ]
    },
    {
     "ename": "ValueError",
     "evalue": "Invalid inputs!",
     "output_type": "error",
     "traceback": [
      "\u001b[1;31m---------------------------------------------------------------------------\u001b[0m",
      "\u001b[1;31mZeroDivisionError\u001b[0m                         Traceback (most recent call last)",
      "\u001b[1;32m~\\AppData\\Local\\Temp/ipykernel_10756/3735112715.py\u001b[0m in \u001b[0;36mdivide_2\u001b[1;34m(a, b)\u001b[0m\n\u001b[0;32m     19\u001b[0m     \u001b[1;32mtry\u001b[0m\u001b[1;33m:\u001b[0m\u001b[1;33m\u001b[0m\u001b[1;33m\u001b[0m\u001b[0m\n\u001b[1;32m---> 20\u001b[1;33m         \u001b[1;32mreturn\u001b[0m \u001b[0ma\u001b[0m \u001b[1;33m/\u001b[0m \u001b[0mb\u001b[0m\u001b[1;33m\u001b[0m\u001b[1;33m\u001b[0m\u001b[0m\n\u001b[0m\u001b[0;32m     21\u001b[0m     \u001b[1;32mexcept\u001b[0m \u001b[0mZeroDivisionError\u001b[0m \u001b[1;32mas\u001b[0m \u001b[0me\u001b[0m\u001b[1;33m:\u001b[0m\u001b[1;33m\u001b[0m\u001b[1;33m\u001b[0m\u001b[0m\n",
      "\u001b[1;31mZeroDivisionError\u001b[0m: division by zero",
      "\nThe above exception was the direct cause of the following exception:\n",
      "\u001b[1;31mValueError\u001b[0m                                Traceback (most recent call last)",
      "\u001b[1;32m~\\AppData\\Local\\Temp/ipykernel_10756/3735112715.py\u001b[0m in \u001b[0;36m<module>\u001b[1;34m\u001b[0m\n\u001b[0;32m     34\u001b[0m \u001b[0mprint\u001b[0m\u001b[1;33m(\u001b[0m\u001b[1;34m\"result1\"\u001b[0m\u001b[1;33m,\u001b[0m\u001b[0mresult1\u001b[0m\u001b[1;33m)\u001b[0m\u001b[1;33m\u001b[0m\u001b[1;33m\u001b[0m\u001b[0m\n\u001b[0;32m     35\u001b[0m \u001b[1;33m\u001b[0m\u001b[0m\n\u001b[1;32m---> 36\u001b[1;33m \u001b[0mresult2\u001b[0m \u001b[1;33m=\u001b[0m \u001b[0mdivide_2\u001b[0m\u001b[1;33m(\u001b[0m\u001b[1;36m0\u001b[0m\u001b[1;33m,\u001b[0m \u001b[1;36m0\u001b[0m\u001b[1;33m)\u001b[0m\u001b[1;33m\u001b[0m\u001b[1;33m\u001b[0m\u001b[0m\n\u001b[0m\u001b[0;32m     37\u001b[0m \u001b[0mprint\u001b[0m\u001b[1;33m(\u001b[0m\u001b[0mresult2\u001b[0m\u001b[1;33m)\u001b[0m\u001b[1;33m\u001b[0m\u001b[1;33m\u001b[0m\u001b[0m\n",
      "\u001b[1;32m~\\AppData\\Local\\Temp/ipykernel_10756/3735112715.py\u001b[0m in \u001b[0;36mdivide_2\u001b[1;34m(a, b)\u001b[0m\n\u001b[0;32m     20\u001b[0m         \u001b[1;32mreturn\u001b[0m \u001b[0ma\u001b[0m \u001b[1;33m/\u001b[0m \u001b[0mb\u001b[0m\u001b[1;33m\u001b[0m\u001b[1;33m\u001b[0m\u001b[0m\n\u001b[0;32m     21\u001b[0m     \u001b[1;32mexcept\u001b[0m \u001b[0mZeroDivisionError\u001b[0m \u001b[1;32mas\u001b[0m \u001b[0me\u001b[0m\u001b[1;33m:\u001b[0m\u001b[1;33m\u001b[0m\u001b[1;33m\u001b[0m\u001b[0m\n\u001b[1;32m---> 22\u001b[1;33m         \u001b[1;32mraise\u001b[0m \u001b[0mValueError\u001b[0m\u001b[1;33m(\u001b[0m\u001b[1;34m\"Invalid inputs!\"\u001b[0m\u001b[1;33m)\u001b[0m \u001b[1;32mfrom\u001b[0m \u001b[0me\u001b[0m\u001b[1;33m\u001b[0m\u001b[1;33m\u001b[0m\u001b[0m\n\u001b[0m\u001b[0;32m     23\u001b[0m \u001b[1;33m\u001b[0m\u001b[0m\n\u001b[0;32m     24\u001b[0m \u001b[1;33m\u001b[0m\u001b[0m\n",
      "\u001b[1;31mValueError\u001b[0m: Invalid inputs!"
     ]
    }
   ],
   "source": [
    "def divide(a, b):\n",
    "    try:\n",
    "        return a / b\n",
    "    except ZeroDivisionError:\n",
    "        return None\n",
    "\n",
    "\n",
    "# tuple을 통해서 이를 해결한다\n",
    "# 문제는 호출자가 (파이썬에서 사용하지 않는 변수에 붙이는 관례인 밑줄 변수 이름을 사용해서) 튜플의 첫번째 부분을\n",
    "# 쉽게 무시할 수 있다\n",
    "def divide_1(a, b):\n",
    "    try:\n",
    "        return True, a / b\n",
    "    except ZeroDivisionError:\n",
    "        return False, None\n",
    "\n",
    "\n",
    "def divide_2(a, b):\n",
    "    try:\n",
    "        return a / b\n",
    "    except ZeroDivisionError as e:\n",
    "        raise ValueError(\"Invalid inputs!\") from e\n",
    "\n",
    "\n",
    "result = divide(0, 1)\n",
    "\n",
    "if result is not None:\n",
    "    print(\"Invalid inputs!\")\n",
    "else:\n",
    "    print(\"Not Invalid inputs!\")\n",
    "print(result)\n",
    "\n",
    "result1 = divide_1(0, 0)\n",
    "print(\"result1\",result1)\n",
    "\n",
    "result2 = divide_2(0, 0)\n",
    "print(result2)"
   ]
  },
  {
   "cell_type": "markdown",
   "id": "4393362a",
   "metadata": {},
   "source": [
    "# 주사위 100번 던지기"
   ]
  },
  {
   "cell_type": "code",
   "execution_count": 400,
   "id": "f0482108",
   "metadata": {},
   "outputs": [
    {
     "name": "stdout",
     "output_type": "stream",
     "text": [
      "주사위 숫자별 개수:\n",
      "\tD1[0] D2[12] D3[19] D4[12] D5[17] D6[20]\n",
      "\n",
      "가장 많이 나온 주사위 숫자: [6]!\n"
     ]
    }
   ],
   "source": [
    "import random\n",
    "D1 = 0 ;D2 = 0;D3 = 0;D4 = 0;D5 = 0;D6 = 0\n",
    "try_num = 100\n",
    "for i in range(try_num):\n",
    "    num = random.randint(1,6)\n",
    "    if num ==0:D1+=1\n",
    "    elif num ==1:D2+=1\n",
    "    elif num ==2:D3+=1\n",
    "    elif num ==3:D4+=1\n",
    "    elif num ==4:D5+=1\n",
    "    elif num ==5:D6+=1\n",
    "\n",
    "max_num = D1        \n",
    "check_num = D2\n",
    "if max_num<check_num:max_num=check_num\n",
    "check_num = D3\n",
    "if max_num<check_num:max_num=check_num\n",
    "check_num = D4\n",
    "if max_num<check_num:max_num=check_num    \n",
    "check_num = D5\n",
    "if max_num<check_num:max_num=check_num\n",
    "check_num = D6\n",
    "if max_num<check_num:max_num=check_num\n",
    "\n",
    "msg = \"\"\n",
    "if D1==max_num:msg+=\"[1] \"\n",
    "if D2==max_num:msg+=\"[2] \"\n",
    "if D3==max_num:msg+=\"[3] \"\n",
    "if D4==max_num:msg+=\"[4] \"\n",
    "if D5==max_num:msg+=\"[5] \"\n",
    "if D6==max_num:msg+=\"[6] \"\n",
    "msg = msg.strip()\n",
    "print(f\"주사위 숫자별 개수:\\n\\tD1[{D1}] D2[{D2}] D3[{D3}] D4[{D4}] D5[{D5}] D6[{D6}]\")\n",
    "print(f\"\\n가장 많이 나온 주사위 숫자: \"+msg+\"!\")"
   ]
  },
  {
   "cell_type": "code",
   "execution_count": 406,
   "id": "06897c33",
   "metadata": {
    "scrolled": true
   },
   "outputs": [
    {
     "name": "stdout",
     "output_type": "stream",
     "text": [
      "3.8078865529319543\n",
      "3.8078865529319543\n",
      "True\n",
      "<class '__main__.Point00'> <class '__main__.Point'> <class '__main__.Point'> <class '__main__.Point'>\n",
      "\n",
      "\n",
      "EX2-2 - Point00(x=10, y=35) Point(x=20, y=40) Point(x=45, y=20) Point(x=10, y=20, z=30, _3=40) Point(x=75, y=55)\n",
      "\n",
      "\n",
      "50\n",
      "50\n"
     ]
    }
   ],
   "source": [
    "# 참조 : https://docs.python.org/3/reference/datamodel.html\n",
    "# 일반적인 튜플 사용\n",
    "\n",
    "pt1 = (1.0, 5.0)\n",
    "pt2 = (2.5, 1.5)\n",
    "\n",
    "from math import sqrt\n",
    "\n",
    "line_leng1 = sqrt((pt2[0] - pt1[0]) ** 2 + (pt2[1] - pt1[1]) ** 2)\n",
    "\n",
    "print(line_leng1)\n",
    "\n",
    "# 네임드 튜플 임포트\n",
    "from collections import namedtuple\n",
    "\n",
    "# 네임드 튜플 선언\n",
    "Point = namedtuple('Point', 'x y')\n",
    "\n",
    "# 두 점 선언\n",
    "pt1 = Point(1.0, 5.0)\n",
    "pt2 = Point(2.5, 1.5)\n",
    "\n",
    "# 두 점 사이의 거리 계산\n",
    "line_leng2 = sqrt((pt2.x - pt1.x) ** 2 + (pt2.y - pt1.y) ** 2)\n",
    "\n",
    "# 출력\n",
    "print(line_leng2)\n",
    "print(line_leng1 == line_leng2)\n",
    "\n",
    "\n",
    "# 네임드 튜플 사용\n",
    "Point1 = namedtuple('Point00', ['x', 'y'])\n",
    "Point2 = namedtuple('Point', 'x, y')\n",
    "Point3 = namedtuple('Point', 'x y')\n",
    "Point4 = namedtuple('Point', 'x y z class', rename=True) # Default=False\n",
    "\n",
    "# 출력\n",
    "print(Point1, Point2, Point3, Point4)\n",
    "\n",
    "print()\n",
    "print()\n",
    "\n",
    "# Dict to Unpacking\n",
    "temp_dict = {'x': 75, 'y': 55}\n",
    "\n",
    "# 객체 생성\n",
    "p1 = Point1(x=10, y=35)\n",
    "p2 = Point2(20, 40)\n",
    "p3 = Point3(45, y=20)\n",
    "p4 = Point4(10, 20, 30, 40)\n",
    "p5 = Point3(**temp_dict)\n",
    "\n",
    "# 출력\n",
    "print('EX2-2 -', p1, p2, p3, p4, p5)\n",
    "\n",
    "print()\n",
    "print()\n",
    "\n",
    "# 사용\n",
    "print(p1[0] + p2[1]) \n",
    "print(p1.x + p2.y)  # 클래스 변수 접근 방식"
   ]
  },
  {
   "cell_type": "code",
   "execution_count": 412,
   "id": "6b83ce62",
   "metadata": {
    "scrolled": true
   },
   "outputs": [
    {
     "name": "stdout",
     "output_type": "stream",
     "text": [
      "나무를 1번 찍었습니다.\n",
      "나무를 2번 찍었습니다.\n",
      "나무를 3번 찍었습니다.\n",
      "나무를 4번 찍었습니다.\n",
      "나무를 5번 찍었습니다.\n",
      "나무를 6번 찍었습니다.\n",
      "나무를 7번 찍었습니다.\n",
      "나무를 8번 찍었습니다.\n",
      "나무를 9번 찍었습니다.\n",
      "나무를 10번 찍었습니다.\n",
      "나무를 11번 찍었습니다.\n",
      "나무를 12번 찍었습니다.\n",
      "나무를 13번 찍었습니다.\n",
      "나무를 14번 찍었습니다.\n",
      "나무를 15번 찍었습니다.\n",
      "좀 쉬자...ㅠㅠ\n",
      "나무를 16번 찍었습니다.\n",
      "나무를 17번 찍었습니다.\n",
      "나무를 18번 찍었습니다.\n",
      "나무를 19번 찍었습니다.\n",
      "나무를 20번 찍었습니다.\n",
      "나무를 21번 찍었습니다.\n",
      "나무를 22번 찍었습니다.\n",
      "나무를 23번 찍었습니다.\n",
      "나무를 24번 찍었습니다.\n",
      "나무를 25번 찍었습니다.\n",
      "나무를 26번 찍었습니다.\n",
      "나무를 27번 찍었습니다.\n",
      "나무를 28번 찍었습니다.\n",
      "나무를 29번 찍었습니다.\n",
      "나무를 30번 찍었습니다.\n",
      "좀 쉬자...ㅠㅠ\n",
      "나무를 31번 찍었습니다.\n",
      "나무를 32번 찍었습니다.\n",
      "나무를 33번 찍었습니다.\n",
      "나무를 34번 찍었습니다.\n",
      "나무를 35번 찍었습니다.\n",
      "나무를 36번 찍었습니다.\n",
      "나무를 37번 찍었습니다.\n",
      "나무를 38번 찍었습니다.\n",
      "나무를 39번 찍었습니다.\n",
      "나무를 40번 찍었습니다.\n",
      "나무를 41번 찍었습니다.\n",
      "나무를 42번 찍었습니다.\n",
      "나무를 43번 찍었습니다.\n",
      "나무를 44번 찍었습니다.\n",
      "나무를 45번 찍었습니다.\n",
      "좀 쉬자...ㅠㅠ\n",
      "나무를 46번 찍었습니다.\n",
      "나무를 47번 찍었습니다.\n",
      "나무를 48번 찍었습니다.\n",
      "나무를 49번 찍었습니다.\n",
      "나무를 50번 찍었습니다.\n",
      "나무를 51번 찍었습니다.\n",
      "나무를 52번 찍었습니다.\n",
      "나무를 53번 찍었습니다.\n",
      "나무를 54번 찍었습니다.\n",
      "나무를 55번 찍었습니다.\n",
      "나무를 56번 찍었습니다.\n",
      "나무를 57번 찍었습니다.\n",
      "나무를 58번 찍었습니다.\n",
      "나무를 59번 찍었습니다.\n",
      "나무를 60번 찍었습니다.\n",
      "좀 쉬자...ㅠㅠ\n",
      "나무를 61번 찍었습니다.\n",
      "나무를 62번 찍었습니다.\n",
      "나무를 63번 찍었습니다.\n",
      "나무를 64번 찍었습니다.\n",
      "나무를 65번 찍었습니다.\n",
      "나무를 66번 찍었습니다.\n",
      "나무를 67번 찍었습니다.\n",
      "나무를 68번 찍었습니다.\n",
      "나무를 69번 찍었습니다.\n",
      "나무를 70번 찍었습니다.\n",
      "나무를 71번 찍었습니다.\n",
      "나무를 72번 찍었습니다.\n",
      "나무를 73번 찍었습니다.\n",
      "나무를 74번 찍었습니다.\n",
      "나무를 75번 찍었습니다.\n",
      "좀 쉬자...ㅠㅠ\n",
      "나무를 76번 찍었습니다.\n",
      "나무를 77번 찍었습니다.\n",
      "나무를 78번 찍었습니다.\n",
      "나무를 79번 찍었습니다.\n",
      "나무를 80번 찍었습니다.\n",
      "나무를 81번 찍었습니다.\n",
      "나무를 82번 찍었습니다.\n",
      "나무를 83번 찍었습니다.\n",
      "나무를 84번 찍었습니다.\n",
      "나무를 85번 찍었습니다.\n",
      "나무를 86번 찍었습니다.\n",
      "나무를 87번 찍었습니다.\n",
      "나무를 88번 찍었습니다.\n",
      "나무를 89번 찍었습니다.\n",
      "나무를 90번 찍었습니다.\n",
      "좀 쉬자...ㅠㅠ\n",
      "나무를 91번 찍었습니다.\n",
      "나무를 92번 찍었습니다.\n",
      "나무를 93번 찍었습니다.\n",
      "나무를 94번 찍었습니다.\n",
      "나무를 95번 찍었습니다.\n",
      "나무를 96번 찍었습니다.\n",
      "나무를 97번 찍었습니다.\n",
      "나무를 98번 찍었습니다.\n",
      "나무를 99번 찍었습니다.\n",
      "나무를 100번 찍었습니다.\n",
      "나무 넘어 갑니다~~\n"
     ]
    }
   ],
   "source": [
    "count = 1\n",
    "treeHit = 100\n",
    "while True:\n",
    "    print(f\"나무를 {count}번 찍었습니다.\")\n",
    "    if count%15==0:\n",
    "        print(\"좀 쉬자...ㅠㅠ\")\n",
    "    count +=1\n",
    "    if count>treeHit:\n",
    "        print(\"나무 넘어 갑니다~~\")\n",
    "        break"
   ]
  },
  {
   "cell_type": "code",
   "execution_count": 416,
   "id": "3aa6dd1b",
   "metadata": {},
   "outputs": [
    {
     "data": {
      "text/plain": [
       "Data(a=1.0, b=3)"
      ]
     },
     "execution_count": 416,
     "metadata": {},
     "output_type": "execute_result"
    }
   ],
   "source": [
    "from collections import namedtuple\n",
    "Data = namedtuple(\"Data\",'a b')\n",
    "d = Data(1.,3)\n",
    "d"
   ]
  },
  {
   "cell_type": "code",
   "execution_count": 417,
   "id": "ba42932a",
   "metadata": {},
   "outputs": [
    {
     "data": {
      "text/plain": [
       "float"
      ]
     },
     "execution_count": 417,
     "metadata": {},
     "output_type": "execute_result"
    }
   ],
   "source": [
    "type(d.a)"
   ]
  },
  {
   "cell_type": "code",
   "execution_count": 419,
   "id": "c9aef40e",
   "metadata": {
    "scrolled": true
   },
   "outputs": [
    {
     "name": "stdout",
     "output_type": "stream",
     "text": [
      "\n",
      "    1.Add\t2.Del\t3.Modify\t4.Quit\n",
      "    Enter number:1\n",
      "\n",
      "    1.Add\t2.Del\t3.Modify\t4.Quit\n",
      "    Enter number:2\n",
      "\n",
      "    1.Add\t2.Del\t3.Modify\t4.Quit\n",
      "    Enter number:3\n",
      "\n",
      "    1.Add\t2.Del\t3.Modify\t4.Quit\n",
      "    Enter number:4\n"
     ]
    }
   ],
   "source": [
    "prompt = \"\"\"\n",
    "    1.Add\\t2.Del\\t3.Modify\\t4.Quit\n",
    "    Enter number: \"\"\"\n",
    "while True:\n",
    "    num = int(input(prompt))\n",
    "    if num==4:\n",
    "        break"
   ]
  },
  {
   "cell_type": "code",
   "execution_count": 420,
   "id": "a3d76430",
   "metadata": {
    "scrolled": true
   },
   "outputs": [
    {
     "name": "stdout",
     "output_type": "stream",
     "text": [
      "★\n"
     ]
    }
   ],
   "source": [
    "print('\\u2605')"
   ]
  },
  {
   "cell_type": "code",
   "execution_count": 431,
   "id": "d9d957f5",
   "metadata": {
    "scrolled": true
   },
   "outputs": [
    {
     "name": "stdout",
     "output_type": "stream",
     "text": [
      "숫자 입력:8974654536431\n",
      "★★★★★★★★★★★★★★★★\n",
      "★★★★★★★★★★★★★★★★★★\n",
      "★★★★★★★★★★★★★★\n",
      "★★★★★★★★\n",
      "★★★★★★★★★★★★\n",
      "★★★★★★★★★★\n",
      "★★★★★★★★\n",
      "★★★★★★★★★★\n",
      "★★★★★★\n",
      "★★★★★★★★★★★★\n",
      "★★★★★★★★\n",
      "★★★★★★\n",
      "★★\n"
     ]
    }
   ],
   "source": [
    "num_txt = input(\"숫자 입력:\")\n",
    "deci = len(num_txt)-1\n",
    "num = int(num_txt)\n",
    "while True:\n",
    "    print('\\u2605'*(num//10**deci)*2)\n",
    "    num = num%10**deci\n",
    "    deci-=1\n",
    "    if deci <0:\n",
    "        break\n",
    "    "
   ]
  },
  {
   "cell_type": "markdown",
   "id": "1a2fe59d",
   "metadata": {},
   "source": [
    "# 공 높이"
   ]
  },
  {
   "cell_type": "code",
   "execution_count": 445,
   "id": "5ea41cb4",
   "metadata": {
    "scrolled": true
   },
   "outputs": [
    {
     "name": "stdout",
     "output_type": "stream",
     "text": [
      "공의 높이를 입력하세요(meter): 30\n",
      "30m 위치에서 공의 튕긴 횟수는 총 22번 입니다.\n"
     ]
    }
   ],
   "source": [
    "length = int(input('공의 높이를 입력하세요(meter): '))\n",
    "meter, cnt = length, 0\n",
    "bound_len = length\n",
    "while True:\n",
    "    bound_len/=2.    \n",
    "    cnt +=1\n",
    "    if bound_len < 0.00001:break\n",
    "\n",
    "print(f'{length}m 위치에서 공의 튕긴 횟수는 총 {cnt}번 입니다.')"
   ]
  },
  {
   "cell_type": "markdown",
   "id": "76308cd5",
   "metadata": {},
   "source": [
    "# 비밀의 숫자 - 업다운 문제"
   ]
  },
  {
   "cell_type": "code",
   "execution_count": 441,
   "id": "04af3cd7",
   "metadata": {
    "scrolled": true
   },
   "outputs": [
    {
     "name": "stdout",
     "output_type": "stream",
     "text": [
      "\n",
      "    -----------------------------------\n",
      "    * 비밀의 숫자가 지정되었습니다.\n",
      "    -----------------------------------\n",
      "    \n",
      "숫자를 입력하세요 : 15\n",
      "비밀의 수는 더 큰 수 입니다.\n",
      "숫자를 입력하세요 : 50\n",
      "비밀의 수는 더 작은 수 입니다.\n",
      "숫자를 입력하세요 : 45\n",
      "비밀의 수는 더 작은 수 입니다.\n",
      "숫자를 입력하세요 : 30\n",
      "비밀의 수는 더 큰 수 입니다.\n",
      "숫자를 입력하세요 : 35\n",
      "비밀의 수는 더 큰 수 입니다.\n",
      "숫자를 입력하세요 : 40\n",
      "정답입니다.\n",
      "-----------------------------------\n",
      "비밀의 숫자: 40\n",
      "당신의 입력 횟수: 6\n"
     ]
    }
   ],
   "source": [
    "import random\n",
    "hidden_num = random.randint(1,100)\n",
    "print(\n",
    "    \"\"\"\n",
    "    -----------------------------------\n",
    "    * 비밀의 숫자가 지정되었습니다.\n",
    "    -----------------------------------\n",
    "    \"\"\")\n",
    "count = 0\n",
    "while True:\n",
    "    count +=1\n",
    "    num = int(input(\"숫자를 입력하세요 : \"))\n",
    "    if num > hidden_num:\n",
    "        print(\"비밀의 수는 더 작은 수 입니다.\")\n",
    "    if num < hidden_num:\n",
    "        print(\"비밀의 수는 더 큰 수 입니다.\")\n",
    "    if num == hidden_num:\n",
    "        print(\"정답입니다.\")\n",
    "        print(\"-----------------------------------\")\n",
    "        break\n",
    "print(f\"비밀의 숫자: {hidden_num}\")\n",
    "print(f'당신의 입력 횟수: {count}')"
   ]
  },
  {
   "cell_type": "code",
   "execution_count": 564,
   "id": "69ffb328",
   "metadata": {},
   "outputs": [
    {
     "name": "stdout",
     "output_type": "stream",
     "text": [
      "비밀의 수는 더 작은 수 입니다.\n",
      "비밀의 수는 더 큰 수 입니다.\n",
      "정답입니다.\n",
      "-----------------------------------\n",
      "비밀의 숫자: 6747805873537504441196064471040888549807875512782438677090546971235060217355254757903677003509541807040272118111651012396230357893019646098215553225183781679999196156892284829411620172497467\n",
      "당신의 입력 횟수: 843\n"
     ]
    }
   ],
   "source": [
    "import random\n",
    "from IPython.display import clear_output\n",
    "min_num, max_num = 1, 1e190\n",
    "hidden_num = random.randint(min_num, max_num)\n",
    "print(\n",
    "    \"\"\"-----------------------------------\n",
    "    * 비밀의 숫자가 지정되었습니다.\n",
    "    -----------------------------------\"\"\")\n",
    "count = 0\n",
    "\n",
    "while True:\n",
    "    if count%10==0:clear_output()\n",
    "    num = random.randint(min_num, max_num)\n",
    "    count +=1\n",
    "    if num > hidden_num:\n",
    "        print(\"비밀의 수는 더 작은 수 입니다.\")\n",
    "        max_num = num-1\n",
    "\n",
    "    if num < hidden_num:\n",
    "        print(\"비밀의 수는 더 큰 수 입니다.\")\n",
    "        min_num = num+1\n",
    "    if num == hidden_num:\n",
    "        print(\"정답입니다.\")\n",
    "        print(\"-----------------------------------\")\n",
    "        break\n",
    "print(f\"비밀의 숫자: {hidden_num}\")\n",
    "print(f'당신의 입력 횟수: {count}')"
   ]
  },
  {
   "cell_type": "code",
   "execution_count": null,
   "id": "d694feaf",
   "metadata": {},
   "outputs": [],
   "source": []
  }
 ],
 "metadata": {
  "kernelspec": {
   "display_name": "Python 3 (ipykernel)",
   "language": "python",
   "name": "python3"
  },
  "language_info": {
   "codemirror_mode": {
    "name": "ipython",
    "version": 3
   },
   "file_extension": ".py",
   "mimetype": "text/x-python",
   "name": "python",
   "nbconvert_exporter": "python",
   "pygments_lexer": "ipython3",
   "version": "3.8.10"
  }
 },
 "nbformat": 4,
 "nbformat_minor": 5
}
