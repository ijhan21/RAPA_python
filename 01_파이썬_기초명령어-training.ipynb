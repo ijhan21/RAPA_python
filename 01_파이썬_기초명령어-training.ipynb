{
 "cells": [
  {
   "cell_type": "code",
   "execution_count": 1,
   "id": "b60e760a",
   "metadata": {},
   "outputs": [],
   "source": [
    "a = \"사랑해요, 파이썬~!\""
   ]
  },
  {
   "cell_type": "code",
   "execution_count": 5,
   "id": "e2c43087",
   "metadata": {},
   "outputs": [
    {
     "data": {
      "text/plain": [
       "'       파이썬'"
      ]
     },
     "execution_count": 5,
     "metadata": {},
     "output_type": "execute_result"
    }
   ],
   "source": [
    "b = \"파이썬\"\n",
    "\"%10s\"%b #문자는 기본적으로 오른쪽 정렬"
   ]
  },
  {
   "cell_type": "code",
   "execution_count": 7,
   "id": "ee4ad1e3",
   "metadata": {},
   "outputs": [
    {
     "data": {
      "text/plain": [
       "'파이썬       사랑해요'"
      ]
     },
     "execution_count": 7,
     "metadata": {},
     "output_type": "execute_result"
    }
   ],
   "source": [
    "\"%-10s사랑해요\"%b"
   ]
  },
  {
   "cell_type": "code",
   "execution_count": 8,
   "id": "ebad0beb",
   "metadata": {},
   "outputs": [
    {
     "data": {
      "text/plain": [
       "'    3.1416'"
      ]
     },
     "execution_count": 8,
     "metadata": {},
     "output_type": "execute_result"
    }
   ],
   "source": [
    "\"%10.4f\"%3.141592"
   ]
  },
  {
   "cell_type": "code",
   "execution_count": 17,
   "id": "60456f24",
   "metadata": {},
   "outputs": [
    {
     "data": {
      "text/plain": [
       "'0'"
      ]
     },
     "execution_count": 17,
     "metadata": {},
     "output_type": "execute_result"
    }
   ],
   "source": [
    "num=0\n",
    "f\"{num}\""
   ]
  },
  {
   "cell_type": "code",
   "execution_count": 15,
   "id": "547bb193",
   "metadata": {},
   "outputs": [
    {
     "data": {
      "text/plain": [
       "'0'"
      ]
     },
     "execution_count": 15,
     "metadata": {},
     "output_type": "execute_result"
    }
   ],
   "source": [
    "f\"{num}\""
   ]
  },
  {
   "cell_type": "code",
   "execution_count": 20,
   "id": "86781524",
   "metadata": {},
   "outputs": [
    {
     "data": {
      "text/plain": [
       "-1"
      ]
     },
     "execution_count": 20,
     "metadata": {},
     "output_type": "execute_result"
    }
   ],
   "source": [
    "txt = \"he llo\"\n",
    "txt.find(\"a\")"
   ]
  },
  {
   "cell_type": "code",
   "execution_count": 23,
   "id": "add6e4b3",
   "metadata": {},
   "outputs": [
    {
     "data": {
      "text/plain": [
       "3"
      ]
     },
     "execution_count": 23,
     "metadata": {},
     "output_type": "execute_result"
    }
   ],
   "source": [
    "txt.index(\"ll\")"
   ]
  },
  {
   "cell_type": "code",
   "execution_count": 24,
   "id": "174b25a6",
   "metadata": {},
   "outputs": [
    {
     "name": "stdout",
     "output_type": "stream",
     "text": [
      "문자열을 입력하세요: hello\n",
      "olleh\n"
     ]
    }
   ],
   "source": [
    "s = input(\"문자열을 입력하세요: \")\n",
    "print(s[::-1])"
   ]
  },
  {
   "cell_type": "code",
   "execution_count": 28,
   "id": "3c4d73c4",
   "metadata": {},
   "outputs": [
    {
     "name": "stdout",
     "output_type": "stream",
     "text": [
      "파일을 입력하세요: test.py\n",
      "파일: test.py\n",
      "파일명:       test, 확장자:    py\n"
     ]
    }
   ],
   "source": [
    "s = input(\"파일을 입력하세요: \")\n",
    "name, exp = s.split(\".\")\n",
    "print(\"파일: %s\"%s)\n",
    "print(\"파일명: %10s, 확장자: %5s\"%(name, exp))"
   ]
  },
  {
   "cell_type": "code",
   "execution_count": 241,
   "id": "a12a3a5d",
   "metadata": {
    "scrolled": false
   },
   "outputs": [
    {
     "name": "stdout",
     "output_type": "stream",
     "text": [
      "sqrt_number 3162.2776601683795\n",
      "number_float 10000000.0\n",
      "2\n",
      "check_prime(10000000) =  False\n",
      "sqrt_number 3162.2806643307295\n",
      "number_float 10000019.0\n",
      "2\n",
      "check_prime(10000019) =  True\n",
      "Wall time: 969 µs\n"
     ]
    }
   ],
   "source": [
    "%%time\n",
    "import math\n",
    "def check_prime(number):\n",
    "    sqrt_number = math.sqrt(number)\n",
    "    print(\"sqrt_number\",sqrt_number)\n",
    "    number_float = float(number)\n",
    "    print(\"number_float\",number_float)\n",
    "    for i in range(2, int(sqrt_number)+1):\n",
    "        print(i)\n",
    "        if (number_float / i).is_integer():\n",
    "            return False\n",
    "        return True\n",
    "\n",
    "print(\"check_prime(10000000) = \", check_prime(10000000)) # 소수가 아님\n",
    "print(\"check_prime(10000019) = \", check_prime(10000019)) # 소수!\n"
   ]
  },
  {
   "cell_type": "code",
   "execution_count": 244,
   "id": "c98d011b",
   "metadata": {},
   "outputs": [
    {
     "name": "stdout",
     "output_type": "stream",
     "text": [
      "sqrt_number 3162.2776601683795\n",
      "number_float 10000000.0\n",
      "2\n",
      "check_prime(10000000) =  False\n",
      "sqrt_number 3162.2806643307295\n",
      "number_float 10000019.0\n",
      "2\n",
      "check_prime(10000019) =  True\n",
      "Wall time: 1.98 ms\n"
     ]
    }
   ],
   "source": [
    "%%time\n",
    "import math\n",
    "def check_prime(number):\n",
    "    sqrt_number = math.sqrt(number)\n",
    "    print(\"sqrt_number\",sqrt_number)\n",
    "    number_float = float(number)\n",
    "    print(\"number_float\",number_float)\n",
    "    value = True\n",
    "    for i in range(2, int(sqrt_number)+1):\n",
    "        print(i)\n",
    "        if (number_float / i).is_integer():\n",
    "            value = False\n",
    "            return value\n",
    "        return value\n",
    "\n",
    "print(\"check_prime(10000000) = \", check_prime(10000000)) # 소수가 아님\n",
    "print(\"check_prime(10000019) = \", check_prime(10000019)) # 소수!\n"
   ]
  },
  {
   "cell_type": "code",
   "execution_count": 188,
   "id": "5fca8972",
   "metadata": {},
   "outputs": [
    {
     "name": "stdout",
     "output_type": "stream",
     "text": [
      "지금 시각은 2021년08월24일 10시59분52초 입니다.\n",
      "지금 시각은 2021년08월24일 10시59분52초 입니다\n",
      "지금 시각은 2021년08월24일 10시59분52초 입니다.\n"
     ]
    }
   ],
   "source": [
    "import datetime\n",
    "\n",
    "d_time = datetime.datetime.now()\n",
    "print(f\"지금 시각은 {d_time.year}년{d_time.month:02}월{d_time.day:02}일 {d_time.hour}시{d_time.minute}분{d_time.second}초 입니다.\")\n",
    "print(d_time.strftime('지금 시각은 %Y년%m월%d일 %H시%M분%S초 입니다'))\n",
    "print(\"지금 시각은 %d년%02d월%02d일 %d시%d분%d초 입니다.\"%tuple(d_time.timetuple())[:6])"
   ]
  },
  {
   "cell_type": "code",
   "execution_count": 237,
   "id": "bec5a134",
   "metadata": {
    "scrolled": false
   },
   "outputs": [
    {
     "name": "stdout",
     "output_type": "stream",
     "text": [
      "지금 시각은 2021년08월24일 11시06분14초 입니다.\n"
     ]
    }
   ],
   "source": [
    "import datetime\n",
    "\n",
    "d_time = datetime.datetime.now()\n",
    "\n",
    "str_time = str(d_time) #'2021-08-24 10:59:52.741260'\n",
    "year = str_time[:4]\n",
    "month = str_time[5:7]\n",
    "day = str_time[8:10]\n",
    "hour = str_time[11:13]\n",
    "minute = str_time[14:16]\n",
    "sec = str_time[17:19]\n",
    "d_t = (year, month, day, hour, minute,sec)\n",
    "print(\"지금 시각은 %s년%02s월%02s일 %s시%s분%s초 입니다.\"%d_t)"
   ]
  },
  {
   "cell_type": "markdown",
   "id": "8d86f7fa",
   "metadata": {},
   "source": [
    "# 웹크롤링 환율정보 불러오기"
   ]
  },
  {
   "cell_type": "code",
   "execution_count": 257,
   "id": "40c62275",
   "metadata": {
    "scrolled": true
   },
   "outputs": [
    {
     "name": "stdout",
     "output_type": "stream",
     "text": [
      "[환율정보 불러오기]\n",
      "-환율기준시간: 2021.08.24 11:50\n",
      "-달러: 1,166.90\n",
      "-위안: 180.01\n",
      "-유로: 1,369.94\n",
      "-캐나다: 922.12\n"
     ]
    }
   ],
   "source": [
    "import urllib.request\n",
    "import ssl\n",
    "context = ssl._create_unverified_context()\n",
    "#환율정보 페이지 불러오기\n",
    "print(\"[환율정보 불러오기]\")\n",
    "URL = \"https://search.naver.com/search.naver?where=nexearch&sm=top_hty&fbm=1&ie=utf8&query=%ED%99%98%EC%9C%A8\"\n",
    "page = urllib.request.urlopen(URL, context=context)\n",
    "text = page.read().decode(\"utf8\")  # 해당 페이지의 소스코드\n",
    "# print(text)\n",
    "#환율정보 가져오기: 기준시간\n",
    "searchText = 'class=\"grp_info\"> <em>'\n",
    "where      = text.find(searchText)  #소스코드에서 해당 문자열의 시작위치\n",
    "targetInfo = text[where+len(searchText):where+len(searchText)+16]\n",
    "print(f'-환율기준시간: {targetInfo}')\n",
    "#환율정보 가져오기: 달러\n",
    "searchText = '<span>미국 <em>USD</em></span></a></th> <td><span>'\n",
    "where      = text.find(searchText)\n",
    "targetInfo = text[where+len(searchText):where+len(searchText)+8]\n",
    "print(f'-달러: {targetInfo}')\n",
    "#환율정보 가져오기: 위안\n",
    "searchText = '<span>중국 <em>CNY</em></span></a></th> <td><span>'\n",
    "where      = text.find(searchText)\n",
    "targetInfo = text[where+len(searchText):where+len(searchText)+6]\n",
    "print(f'-위안: {targetInfo}')\n",
    "#환율정보 가져오기:유로화\n",
    "searchText = '<span>유럽연합 <em>EUR</em></span></a></th> <td><span>'\n",
    "where      = text.find(searchText)\n",
    "targetInfo = text[where+len(searchText):where+len(searchText)+8]\n",
    "print(f'-유로: {targetInfo}')\n",
    "\n",
    "searchText = '<span>캐나다 <em>CAD</em></span></a></th> <td><span>'\n",
    "where      = text.find(searchText)\n",
    "start =where+len(searchText)\n",
    "end = text.find(\"</span>\",where+len(searchText))\n",
    "targetInfo = text[start:end]\n",
    "print(f'-캐나다: {targetInfo}')"
   ]
  },
  {
   "cell_type": "code",
   "execution_count": 4,
   "id": "2a9fcd0e",
   "metadata": {},
   "outputs": [
    {
     "name": "stdout",
     "output_type": "stream",
     "text": [
      "hihi\n",
      "hello\n"
     ]
    }
   ],
   "source": [
    "class deco():\n",
    "    def __init__(self, f):\n",
    "        self.func = f\n",
    "        \n",
    "    def __call__(self, *args, **kwargs):\n",
    "        print(\"hihi\")\n",
    "        self.func(*args, **kwargs)    \n",
    "\n",
    "@deco\n",
    "def pr(txt):\n",
    "    print(txt)\n",
    "pr(\"hello\")"
   ]
  },
  {
   "cell_type": "code",
   "execution_count": 1,
   "id": "9d00544c",
   "metadata": {
    "scrolled": true
   },
   "outputs": [
    {
     "name": "stdout",
     "output_type": "stream",
     "text": [
      "시프트할 숫자는?: 567\n",
      "출력할 횟수는?: 12\n",
      "567 << 1 = 1134\n",
      "567 << 2 = 2268\n",
      "567 << 3 = 4536\n",
      "567 << 4 = 9072\n",
      "567 << 5 = 18144\n",
      "567 << 6 = 36288\n",
      "567 << 7 = 72576\n",
      "567 << 8 = 145152\n",
      "567 << 9 = 290304\n",
      "567 << 10 = 580608\n",
      "567 << 11 = 1161216\n",
      "567 << 12 = 2322432\n",
      "\n",
      "567 >> 1 = 283\n",
      "567 >> 2 = 141\n",
      "567 >> 3 = 70\n",
      "567 >> 4 = 35\n",
      "567 >> 5 = 17\n",
      "567 >> 6 = 8\n",
      "567 >> 7 = 4\n",
      "567 >> 8 = 2\n",
      "567 >> 9 = 1\n",
      "567 >> 10 = 0\n",
      "567 >> 11 = 0\n",
      "567 >> 12 = 0\n"
     ]
    }
   ],
   "source": [
    "a = int(input(\"시프트할 숫자는?: \"))\n",
    "loop = int(input(\"출력할 횟수는?: \"))\n",
    "\n",
    "for i in range(loop):\n",
    "    print(\"%d << %d = %d\"%(a, i+1, a<<i+1))\n",
    "print()\n",
    "for i in range(loop):\n",
    "    print(\"%d >> %d = %d\"%(a, i+1, a>>i+1))"
   ]
  },
  {
   "cell_type": "code",
   "execution_count": 14,
   "id": "4a3cc3b8",
   "metadata": {
    "scrolled": true
   },
   "outputs": [
    {
     "name": "stdout",
     "output_type": "stream",
     "text": [
      "동전으로 교환할 금액을 입력하세요: 5634352\n",
      "50000짜리 ==>   112개\n",
      "10000짜리 ==>     3개\n",
      " 5000짜리 ==>     0개\n",
      " 1000짜리 ==>     4개\n",
      "  500짜리 ==>     0개\n",
      "  100짜리 ==>     3개\n",
      "   50짜리 ==>     1개\n",
      "   10짜리 ==>     0개\n",
      "     잔돈 ==>     2원\n"
     ]
    }
   ],
   "source": [
    "coins = [50000, 10000, 5000, 1000, 500,100,50,10]\n",
    "money = int(input(\"동전으로 교환할 금액을 입력하세요: \"))\n",
    "for coin in coins:\n",
    "    a = money // coin\n",
    "    b = money % coin\n",
    "    money = b    \n",
    "    print(\"%5d짜리 ==> %5d개\"%(coin, a))\n",
    "print(\"%7s ==> %5d원\"%(\"잔돈\",b))"
   ]
  },
  {
   "cell_type": "code",
   "execution_count": 17,
   "id": "84c37c48",
   "metadata": {},
   "outputs": [
    {
     "name": "stdout",
     "output_type": "stream",
     "text": [
      "{'arg': (100, 3), 'x': 10}\n"
     ]
    }
   ],
   "source": [
    "def foo(*arg):\n",
    "    x = 10\n",
    "    print(locals())\n",
    "foo(100,3)"
   ]
  }
 ],
 "metadata": {
  "kernelspec": {
   "display_name": "Python 3 (ipykernel)",
   "language": "python",
   "name": "python3"
  },
  "language_info": {
   "codemirror_mode": {
    "name": "ipython",
    "version": 3
   },
   "file_extension": ".py",
   "mimetype": "text/x-python",
   "name": "python",
   "nbconvert_exporter": "python",
   "pygments_lexer": "ipython3",
   "version": "3.8.10"
  }
 },
 "nbformat": 4,
 "nbformat_minor": 5
}
