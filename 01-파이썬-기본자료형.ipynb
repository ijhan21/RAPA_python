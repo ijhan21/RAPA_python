{
 "cells": [
  {
   "cell_type": "markdown",
   "id": "a1a01009",
   "metadata": {},
   "source": [
    "## 3.문자열 인덱싱 & 슬라이싱"
   ]
  },
  {
   "cell_type": "code",
   "execution_count": 2,
   "id": "25f929d4",
   "metadata": {},
   "outputs": [
    {
     "data": {
      "text/plain": [
       "'요'"
      ]
     },
     "execution_count": 2,
     "metadata": {},
     "output_type": "execute_result"
    }
   ],
   "source": [
    "a = '안녕하세요!'\n",
    "\n",
    "a[2]\n",
    "a[-2]"
   ]
  },
  {
   "cell_type": "markdown",
   "id": "cdd71139",
   "metadata": {},
   "source": [
    "### Format 함수 이용"
   ]
  },
  {
   "cell_type": "code",
   "execution_count": 5,
   "id": "68db8c13",
   "metadata": {},
   "outputs": [
    {
     "data": {
      "text/plain": [
       "'I eat 100 apples'"
      ]
     },
     "execution_count": 5,
     "metadata": {},
     "output_type": "execute_result"
    }
   ],
   "source": [
    "\"I eat {0} apples\".format(100)"
   ]
  },
  {
   "cell_type": "markdown",
   "id": "00180d26",
   "metadata": {},
   "source": [
    "### 문자열 함수"
   ]
  },
  {
   "cell_type": "code",
   "execution_count": 9,
   "id": "819a2b14",
   "metadata": {},
   "outputs": [
    {
     "data": {
      "text/plain": [
       "0"
      ]
     },
     "execution_count": 9,
     "metadata": {},
     "output_type": "execute_result"
    }
   ],
   "source": [
    "a = \"hobby\"\n",
    "a.count('b')\n",
    "a.count('c')"
   ]
  },
  {
   "cell_type": "markdown",
   "id": "adda9c70",
   "metadata": {},
   "source": [
    "### 문자열 관련 함수\n",
    "split()함수: "
   ]
  },
  {
   "cell_type": "code",
   "execution_count": 12,
   "id": "4ae4fbad",
   "metadata": {},
   "outputs": [
    {
     "name": "stdout",
     "output_type": "stream",
     "text": [
      "파일을 입력하세요:test.py\n",
      "['test', 'py']\n",
      "파일명: test, 확장자: py\n"
     ]
    }
   ],
   "source": [
    "#방법1\n",
    "a = input('파일을 입력하세요:')\n",
    "b = a.split('.')\n",
    "print(b)\n",
    "print(f'파일명: {b[0]}, 확장자: {b[1]}')"
   ]
  },
  {
   "cell_type": "code",
   "execution_count": null,
   "id": "6d3984b5",
   "metadata": {},
   "outputs": [],
   "source": [
    "#방법2\n",
    "a = input('파일을 입력하세요:')\n",
    "x, y = a.split('.')\n",
    "print('파일:',a)\n",
    "print(f'파일명: {x}, 확장자: {y}')"
   ]
  },
  {
   "cell_type": "code",
   "execution_count": 14,
   "id": "920ed030",
   "metadata": {},
   "outputs": [
    {
     "name": "stdout",
     "output_type": "stream",
     "text": [
      "파일을 입력하세요:test.py\n",
      ".의 위치: 4\n",
      "파일: test.py\n",
      "파일명 :test, 확장자:py\n"
     ]
    }
   ],
   "source": [
    "#방법3\n",
    "a= input('파일을 입력하세요:')\n",
    "n = a.find('.')\n",
    "print(f'.의 위치: {n}')\n",
    "      \n",
    "print(f\"파일: {a}\")\n",
    "print(\"파일명 :{}, 확장자:{}\".format(a[0:n],a[n+1:]))"
   ]
  },
  {
   "cell_type": "markdown",
   "id": "6556241a",
   "metadata": {},
   "source": [
    "### 실습문제 : 날짜"
   ]
  },
  {
   "cell_type": "code",
   "execution_count": 26,
   "id": "eb228730",
   "metadata": {},
   "outputs": [
    {
     "name": "stdout",
     "output_type": "stream",
     "text": [
      "2021-08-24 11:14:00.235728\n",
      "지금 시각은 2021년\n"
     ]
    },
    {
     "data": {
      "text/plain": [
       "'2021-08-24 11:14:00'"
      ]
     },
     "execution_count": 26,
     "metadata": {},
     "output_type": "execute_result"
    }
   ],
   "source": [
    "import datetime\n",
    "\n",
    "now = datetime.datetime.now()\n",
    "\n",
    "#문자열로 슬라이싱\n",
    "s_now =  str(datetime.datetime.now())\n",
    "year = s_now[0:4]\n",
    "print(f'지금 시각은 {year}년')\n",
    "\n",
    "#오브젝트에서 함수이용해서\n",
    "now.strftime('%Y-%m-%d %H:%M:%S')\n",
    "\n"
   ]
  },
  {
   "cell_type": "code",
   "execution_count": 35,
   "id": "129b78ab",
   "metadata": {},
   "outputs": [
    {
     "name": "stdout",
     "output_type": "stream",
     "text": [
      "2021-08-24 15:10:06\n",
      "2021\n",
      "8\n",
      "24\n",
      "15\n",
      "10\n",
      "6\n"
     ]
    }
   ],
   "source": [
    "import datetime\n",
    "\n",
    "#오브젝트에서 함수이용해서\n",
    "now = datetime.datetime.now()\n",
    "print(now.strftime('%Y-%m-%d %H:%M:%S'))\n",
    "print(now.year)\n",
    "print(now.month)\n",
    "print(now.day)\n",
    "print(now.hour)\n",
    "print(now.minute)\n",
    "print(now.second)"
   ]
  },
  {
   "cell_type": "code",
   "execution_count": 18,
   "id": "2f4fc031",
   "metadata": {},
   "outputs": [
    {
     "data": {
      "text/plain": [
       "time.struct_time(tm_year=2021, tm_mon=8, tm_mday=24, tm_hour=10, tm_min=55, tm_sec=11, tm_wday=1, tm_yday=236, tm_isdst=0)"
      ]
     },
     "execution_count": 18,
     "metadata": {},
     "output_type": "execute_result"
    }
   ],
   "source": [
    "import time\n",
    "\n",
    "time.time()\n",
    "time.localtime()"
   ]
  },
  {
   "cell_type": "markdown",
   "id": "da51cd69",
   "metadata": {},
   "source": [
    "### 실습문제: 웹 크롤링: 환율정보 가져오기"
   ]
  },
  {
   "cell_type": "code",
   "execution_count": 30,
   "id": "ea748fc2",
   "metadata": {},
   "outputs": [
    {
     "name": "stdout",
     "output_type": "stream",
     "text": [
      "[환율정보 불러오기]\n",
      "-환율기준시간: 2021.08.24 11:57\n",
      "-달러: 1,166.50\n",
      "-위안: 179.94\n",
      "-유로: 1,369.59\n"
     ]
    }
   ],
   "source": [
    "import urllib.request\n",
    "import ssl\n",
    "\n",
    "context = ssl._create_unverified_context()\n",
    "\n",
    "#환율정보 페이지 불러오기\n",
    "print(\"[환율정보 불러오기]\")\n",
    "URL = \"https://search.naver.com/search.naver?where=nexearch&sm=top_hty&fbm=1&ie=utf8&query=%ED%99%98%EC%9C%A8\"\n",
    "page = urllib.request.urlopen(URL, context=context)                              \n",
    "text = page.read().decode(\"utf8\")  # 해당 페이지의 소스코드\n",
    "#print(text)\n",
    "\n",
    "#환율정보 가져오기: 기준시간 \n",
    "searchText = 'class=\"grp_info\"> <em>'\n",
    "where      = text.find(searchText)  #소스코드에서 해당 문자열의 시작위치\n",
    "targetInfo = text[where+len(searchText):where+len(searchText)+16]\n",
    "print(f'-환율기준시간: {targetInfo}')\n",
    "\n",
    "#환율정보 가져오기: 달러\n",
    "searchText = '<span>미국 <em>USD</em></span></a></th> <td><span>'\n",
    "where      = text.find(searchText)\n",
    "targetInfo = text[where+len(searchText):where+len(searchText)+8] \n",
    "print(f'-달러: {targetInfo}')\n",
    "\n",
    "#환율정보 가져오기: 위안\n",
    "searchText = '<span>중국 <em>CNY</em></span></a></th> <td><span>'\n",
    "where      = text.find(searchText)\n",
    "targetInfo = text[where+len(searchText):where+len(searchText)+6] \n",
    "print(f'-위안: {targetInfo}')\n",
    "\n",
    "#환율정보 가져오기:유로화\n",
    "searchText = '<span>유럽연합 <em>EUR</em></span></a></th> <td><span>'\n",
    "where      = text.find(searchText)\n",
    "targetInfo = text[where+len(searchText):where+len(searchText)+8] \n",
    "print(f'-유로: {targetInfo}')"
   ]
  },
  {
   "cell_type": "markdown",
   "id": "55a63b26",
   "metadata": {},
   "source": [
    "## 4.파이썬 연산자"
   ]
  },
  {
   "cell_type": "code",
   "execution_count": null,
   "id": "84f48ece",
   "metadata": {},
   "outputs": [],
   "source": [
    "A | B   "
   ]
  },
  {
   "cell_type": "code",
   "execution_count": null,
   "id": "3be03b6c",
   "metadata": {},
   "outputs": [],
   "source": [
    "l = [1,2,3,4,5]\n",
    "a = 3\n",
    "\n",
    "if a not in l :\n",
    "    print('참')\n",
    "else:\n",
    "    print('거짓')\n"
   ]
  },
  {
   "cell_type": "markdown",
   "id": "cb544f72",
   "metadata": {},
   "source": [
    "### 실습문제: 동전나누기"
   ]
  },
  {
   "cell_type": "code",
   "execution_count": 31,
   "id": "5df5bad2",
   "metadata": {},
   "outputs": [
    {
     "name": "stdout",
     "output_type": "stream",
     "text": [
      "동전으로 교환할 금액: 4321\n",
      "500원짜리: 8\n"
     ]
    }
   ],
   "source": [
    "오백원, 백원, 오십원, 십원 = 0,0,0,0\n",
    "money = int(input('동전으로 교환할 금액: '))\n",
    "\n",
    "오백원 = money//500\n",
    "money = money%500\n",
    "\n",
    "백원 = money//100\n",
    "money = money%100\n",
    "\n",
    "오십원 = money//50\n",
    "money = money%50\n",
    "\n",
    "십원 = money//10\n",
    "money = money%10\n",
    "\n",
    "print(f'500원짜리: {오백원} 개')\n",
    "print(f'100원짜리: {백원} 개')\n",
    "print(f'50원짜리: {오십원} 개')\n",
    "print(f'10원짜리: {십원} 개')"
   ]
  },
  {
   "cell_type": "code",
   "execution_count": null,
   "id": "3c77e222",
   "metadata": {},
   "outputs": [],
   "source": []
  }
 ],
 "metadata": {
  "kernelspec": {
   "display_name": "Python 3 (ipykernel)",
   "language": "python",
   "name": "python3"
  },
  "language_info": {
   "codemirror_mode": {
    "name": "ipython",
    "version": 3
   },
   "file_extension": ".py",
   "mimetype": "text/x-python",
   "name": "python",
   "nbconvert_exporter": "python",
   "pygments_lexer": "ipython3",
   "version": "3.8.10"
  }
 },
 "nbformat": 4,
 "nbformat_minor": 5
}
